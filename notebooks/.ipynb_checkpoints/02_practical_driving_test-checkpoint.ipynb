{
 "cells": [
  {
   "cell_type": "markdown",
   "id": "801dbc69-4b88-470a-85ed-d1f9ef98140b",
   "metadata": {},
   "source": [
    "# Hypothesis test: Pass rate of the practical driving test in the UK\n",
    "\n",
    "## Summary\n",
    "\n",
    "**description**\n",
    ": \"a one sample **z**-test of equal means\"\n",
    "\n",
    "**data**\n",
    ": `data/practical_test.csv`\n",
    "\n",
    "Centre\tMale\tFemale\tTotal\n",
    "- **Centre** `str` : \"location of test centre\"\n",
    "- **Male** `float` : \"mean pass rate of males at the centre from\n",
    "                      April 2014 to March 2015\"\n",
    "- **Female** `float` : \"mean pass rate of females at the centre from\n",
    "                        April 2014 to March 2015\"\n",
    "- **Total** `float` : \"mean pass rate of males and females from April\n",
    "                       2014 to March 2015\"\n",
    "\n",
    "**summary results**\n",
    ":\n",
    "\n",
    "```python\n",
    "res(\n",
    "    \"sample_mean\": 49.63038,\n",
    "    \"95%_confint\": (48.84034, 50.42042),\n",
    "    \"zstat\": 6.277,\n",
    "    \"pval\": 0.00000)\n",
    "```\n",
    "\n",
    "**output**\n",
    ": <!--Add path to FinishingM248-->\n"
   ]
  },
  {
   "cell_type": "markdown",
   "id": "356e0a7d",
   "metadata": {},
   "source": [
    "## Results\n",
    "\n",
    "### Setup the notebook"
   ]
  },
  {
   "cell_type": "code",
   "execution_count": 1,
   "id": "b8694f7f",
   "metadata": {},
   "outputs": [],
   "source": [
    "# change working dir\n",
    "import os\n",
    "os.chdir(\"..\\\\\")"
   ]
  },
  {
   "cell_type": "code",
   "execution_count": 2,
   "id": "32fc289b",
   "metadata": {},
   "outputs": [],
   "source": [
    "# import packages\n",
    "from statsmodels.stats.weightstats import DescrStatsW\n",
    "from scipy.stats import probplot\n",
    "import pandas as pd\n",
    "import seaborn as sns\n",
    "import matplotlib.pyplot as plt"
   ]
  },
  {
   "cell_type": "code",
   "execution_count": 3,
   "id": "d224d0a2",
   "metadata": {},
   "outputs": [],
   "source": [
    "# set default seaborn theme\n",
    "sns.set_theme()"
   ]
  },
  {
   "cell_type": "code",
   "execution_count": 4,
   "id": "cd769a88",
   "metadata": {},
   "outputs": [],
   "source": [
    "# import the data\n",
    "df_prac_test = pd.read_csv(\"data\\\\practical_test.csv\")"
   ]
  },
  {
   "cell_type": "markdown",
   "id": "fc510d90",
   "metadata": {},
   "source": [
    "### Declare local variables"
   ]
  },
  {
   "cell_type": "code",
   "execution_count": 5,
   "id": "9a7b2fc4",
   "metadata": {},
   "outputs": [],
   "source": [
    "# get columns as Series\n",
    "r_total = df_prac_test[\"Total\"]"
   ]
  },
  {
   "cell_type": "code",
   "execution_count": 6,
   "id": "c24394db",
   "metadata": {},
   "outputs": [],
   "source": [
    "# declare and initialise DescrStatsW object for the hypothesis test\n",
    "ztest = DescrStatsW(data=r_total)"
   ]
  },
  {
   "cell_type": "code",
   "execution_count": 7,
   "id": "58b3fcfb",
   "metadata": {},
   "outputs": [],
   "source": [
    "# results dictionary\n",
    "res = dict()"
   ]
  },
  {
   "cell_type": "markdown",
   "id": "30ca3e03",
   "metadata": {},
   "source": [
    "### Describe the sample"
   ]
  },
  {
   "cell_type": "code",
   "execution_count": 8,
   "id": "786e2dde",
   "metadata": {},
   "outputs": [
    {
     "data": {
      "text/html": [
       "<div>\n",
       "<style scoped>\n",
       "    .dataframe tbody tr th:only-of-type {\n",
       "        vertical-align: middle;\n",
       "    }\n",
       "\n",
       "    .dataframe tbody tr th {\n",
       "        vertical-align: top;\n",
       "    }\n",
       "\n",
       "    .dataframe thead th {\n",
       "        text-align: right;\n",
       "    }\n",
       "</style>\n",
       "<table border=\"1\" class=\"dataframe\">\n",
       "  <thead>\n",
       "    <tr style=\"text-align: right;\">\n",
       "      <th></th>\n",
       "      <th>count</th>\n",
       "      <th>mean</th>\n",
       "      <th>std</th>\n",
       "      <th>min</th>\n",
       "      <th>25%</th>\n",
       "      <th>50%</th>\n",
       "      <th>75%</th>\n",
       "      <th>max</th>\n",
       "    </tr>\n",
       "  </thead>\n",
       "  <tbody>\n",
       "    <tr>\n",
       "      <th>Total</th>\n",
       "      <td>316.0</td>\n",
       "      <td>49.63038</td>\n",
       "      <td>7.165444</td>\n",
       "      <td>30.3</td>\n",
       "      <td>44.975</td>\n",
       "      <td>49.65</td>\n",
       "      <td>54.5</td>\n",
       "      <td>71.3</td>\n",
       "    </tr>\n",
       "  </tbody>\n",
       "</table>\n",
       "</div>"
      ],
      "text/plain": [
       "       count      mean       std   min     25%    50%   75%   max\n",
       "Total  316.0  49.63038  7.165444  30.3  44.975  49.65  54.5  71.3"
      ]
     },
     "execution_count": 8,
     "metadata": {},
     "output_type": "execute_result"
    }
   ],
   "source": [
    "# send summary table to df for pretty output\n",
    "pd.DataFrame(r_total).describe().T"
   ]
  },
  {
   "cell_type": "code",
   "execution_count": 9,
   "id": "cdec1abe",
   "metadata": {},
   "outputs": [
    {
     "data": {
      "text/plain": [
       "(48.840342381395864, 50.42041711227501)"
      ]
     },
     "execution_count": 9,
     "metadata": {},
     "output_type": "execute_result"
    }
   ],
   "source": [
    "# 95% z-interval\n",
    "ztest.zconfint_mean()"
   ]
  },
  {
   "cell_type": "markdown",
   "id": "749e098b",
   "metadata": {},
   "source": [
    "### Visualise the sample"
   ]
  },
  {
   "cell_type": "code",
   "execution_count": 10,
   "id": "e0edc24c",
   "metadata": {},
   "outputs": [
    {
     "data": {
      "image/png": "[encoded data removed]",
      "text/plain": [
       "<Figure size 432x288 with 1 Axes>"
      ]
     },
     "metadata": {},
     "output_type": "display_data"
    }
   ],
   "source": [
    "# plot the sample as a histogram\n",
    "ax = sns.histplot(x=r_total, bins=12)\n",
    "# save figs, drop to figures dir\n",
    "os.chdir(\"figures\")\n",
    "plt.savefig(\"practest_fig1\")\n",
    "os.chdir(\"..\")\n",
    "# output the plot\n",
    "plt.show()"
   ]
  },
  {
   "cell_type": "code",
   "execution_count": 11,
   "id": "8008a3f2",
   "metadata": {},
   "outputs": [
    {
     "data": {
      "image/png": "[encoded data removed]",
      "text/plain": [
       "<Figure size 432x288 with 1 Axes>"
      ]
     },
     "metadata": {},
     "output_type": "display_data"
    }
   ],
   "source": [
    "# normal probability plot of the same\n",
    "f, ax = plt.subplots()\n",
    "# construct the probability plot\n",
    "probplot(x=r_total, plot=ax)\n",
    "# save figs, drop to figures dir\n",
    "os.chdir(\"figures\")\n",
    "plt.savefig(\"practest_fig2\")\n",
    "os.chdir(\"..\")\n",
    "# output the plot\n",
    "plt.show()"
   ]
  },
  {
   "cell_type": "markdown",
   "id": "c2abf316",
   "metadata": {},
   "source": [
    "### Run the $z$-test"
   ]
  },
  {
   "cell_type": "code",
   "execution_count": 12,
   "id": "d583422c",
   "metadata": {},
   "outputs": [
    {
     "data": {
      "text/plain": [
       "{'zstat': 6.2774919110915715, 'pval': 3.4407815848731304e-10}"
      ]
     },
     "execution_count": 12,
     "metadata": {},
     "output_type": "execute_result"
    }
   ],
   "source": [
    "# populate res\n",
    "res[\"zstat\"], res[\"pval\"] = ztest.ztest_mean(value=47.1)\n",
    "# print results\n",
    "res"
   ]
  }
 ],
 "metadata": {
  "jupytext": {
   "formats": "notebooks///ipynb,scripts///py:percent"
  },
  "kernelspec": {
   "display_name": "Python 3.8",
   "language": "python",
   "name": "python3"
  },
  "language_info": {
   "codemirror_mode": {
    "name": "ipython",
    "version": 3
   },
   "file_extension": ".py",
   "mimetype": "text/x-python",
   "name": "python",
   "nbconvert_exporter": "python",
   "pygments_lexer": "ipython3",
   "version": "3.8.10"
  }
 },
 "nbformat": 4,
 "nbformat_minor": 5
}
