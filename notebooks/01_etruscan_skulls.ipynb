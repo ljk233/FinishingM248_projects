{
 "cells": [
  {
   "cell_type": "markdown",
   "id": "49af69f2-faf6-4b1b-bb9e-38a8eb8f3127",
   "metadata": {},
   "source": [
    "# Hypothesis test: Comparing skull sizes of Etruscans and Italians\n",
    "\n",
    "## Summary\n",
    "\n",
    "**description**\n",
    ": \"a two sample $t$-test of equal means\"\n",
    "\n",
    "**data**\n",
    ": `data/skulls.csv`\n",
    "\n",
    "- **Etruscan** `float` : \"breadth of etruscan skulls in mm\"\n",
    "- **Italian** `float` : \"breadth of italian skulls in mm\"\n",
    "\n",
    "**hypotheses**\n",
    ": $H_{0} : \\mu_{etr} = \\mu_{ita} ; H_{1} : \\mu_{etr} \\neq \\mu_{ita}$\n",
    "\n",
    "**summary results**\n",
    ":\n",
    "\n",
    "```python\n",
    "res(\n",
    "    \"diff\": 11.3310,\n",
    "    \"95%_confint\": (9.454, 13.208),\n",
    "    \"tstat\": 11.925,\n",
    "    \"pval\": 0.000,\n",
    "    \"dof\": 152)\n",
    "```\n",
    "\n",
    "**output**\n",
    ": <!--Add path to FinishingM248-->\n"
   ]
  },
  {
   "cell_type": "markdown",
   "id": "9db7e3b6-6075-473a-a6b7-187a78b938e7",
   "metadata": {},
   "source": [
    "## Results"
   ]
  },
  {
   "cell_type": "markdown",
   "id": "b2c6d272-fe61-4de8-8244-cc5f97570e4e",
   "metadata": {},
   "source": [
    "### Setup the notebook"
   ]
  },
  {
   "cell_type": "code",
   "execution_count": 1,
   "id": "48ef25bf",
   "metadata": {},
   "outputs": [],
   "source": [
    "# chage working dir, testing update\n",
    "import os\n",
    "os.chdir(\"..\\\\\")"
   ]
  },
  {
   "cell_type": "code",
   "execution_count": 2,
   "id": "ad39dd1d",
   "metadata": {},
   "outputs": [],
   "source": [
    "# import packages and modules\n",
    "from statsmodels.stats.weightstats import CompareMeans\n",
    "from scipy.stats import probplot\n",
    "import pandas as pd\n",
    "import seaborn as sns\n",
    "import matplotlib.pyplot as plt"
   ]
  },
  {
   "cell_type": "code",
   "execution_count": 3,
   "id": "33c829aa",
   "metadata": {},
   "outputs": [],
   "source": [
    "# set default seaborn theme\n",
    "sns.set_theme()"
   ]
  },
  {
   "cell_type": "code",
   "execution_count": 4,
   "id": "16887490",
   "metadata": {},
   "outputs": [],
   "source": [
    "# import the data\n",
    "df_skulls = pd.read_csv(\"data\\\\skulls.csv\")"
   ]
  },
  {
   "cell_type": "markdown",
   "id": "80790f6e-8bf0-46f1-8ffa-9df57e615801",
   "metadata": {},
   "source": [
    "### Declare local variables"
   ]
  },
  {
   "cell_type": "code",
   "execution_count": 5,
   "id": "1d7ada77",
   "metadata": {},
   "outputs": [],
   "source": [
    "# get columns as Series\n",
    "etruscan = df_skulls[\"Etruscans\"].dropna()\n",
    "italian = df_skulls[\"Italians\"].dropna()"
   ]
  },
  {
   "cell_type": "code",
   "execution_count": 6,
   "id": "85fcb563",
   "metadata": {},
   "outputs": [],
   "source": [
    "# declare and initialise CompareMeans object for the hypothesis test\n",
    "ttest = CompareMeans.from_data(data1=etruscan, data2=italian)"
   ]
  },
  {
   "cell_type": "code",
   "execution_count": 7,
   "id": "82ff3344",
   "metadata": {},
   "outputs": [],
   "source": [
    "# construct new df for histogram by melting df_skulls from wide -> long\n",
    "mskulls = df_skulls.melt(\n",
    "    value_vars=[\"Etruscans\", \"Italians\"],\n",
    "    var_name=\"skull\",\n",
    "    value_name=\"size\")\n",
    "# drop NaN value, cast column to int\n",
    "mskulls.dropna(inplace=True)\n",
    "mskulls[\"size\"] = mskulls[\"size\"].astype(\"int\")"
   ]
  },
  {
   "cell_type": "markdown",
   "id": "86efb128-aea2-43c2-9a5d-3b90dacc54ff",
   "metadata": {},
   "source": [
    "### Describe the data"
   ]
  },
  {
   "cell_type": "code",
   "execution_count": 8,
   "id": "e86df96c-6459-4a3c-8888-d96ec85c632a",
   "metadata": {},
   "outputs": [
    {
     "data": {
      "text/html": [
       "<div>\n",
       "<style scoped>\n",
       "    .dataframe tbody tr th:only-of-type {\n",
       "        vertical-align: middle;\n",
       "    }\n",
       "\n",
       "    .dataframe tbody tr th {\n",
       "        vertical-align: top;\n",
       "    }\n",
       "\n",
       "    .dataframe thead th {\n",
       "        text-align: right;\n",
       "    }\n",
       "</style>\n",
       "<table border=\"1\" class=\"dataframe\">\n",
       "  <thead>\n",
       "    <tr style=\"text-align: right;\">\n",
       "      <th></th>\n",
       "      <th>count</th>\n",
       "      <th>mean</th>\n",
       "      <th>std</th>\n",
       "      <th>min</th>\n",
       "      <th>25%</th>\n",
       "      <th>50%</th>\n",
       "      <th>75%</th>\n",
       "      <th>max</th>\n",
       "    </tr>\n",
       "  </thead>\n",
       "  <tbody>\n",
       "    <tr>\n",
       "      <th>Etruscans</th>\n",
       "      <td>84.0</td>\n",
       "      <td>143.773810</td>\n",
       "      <td>5.970512</td>\n",
       "      <td>126.0</td>\n",
       "      <td>140.0</td>\n",
       "      <td>143.5</td>\n",
       "      <td>148.00</td>\n",
       "      <td>158.0</td>\n",
       "    </tr>\n",
       "    <tr>\n",
       "      <th>Italians</th>\n",
       "      <td>70.0</td>\n",
       "      <td>132.442857</td>\n",
       "      <td>5.749948</td>\n",
       "      <td>116.0</td>\n",
       "      <td>129.0</td>\n",
       "      <td>132.0</td>\n",
       "      <td>136.75</td>\n",
       "      <td>148.0</td>\n",
       "    </tr>\n",
       "  </tbody>\n",
       "</table>\n",
       "</div>"
      ],
      "text/plain": [
       "           count        mean       std    min    25%    50%     75%    max\n",
       "Etruscans   84.0  143.773810  5.970512  126.0  140.0  143.5  148.00  158.0\n",
       "Italians    70.0  132.442857  5.749948  116.0  129.0  132.0  136.75  148.0"
      ]
     },
     "execution_count": 8,
     "metadata": {},
     "output_type": "execute_result"
    }
   ],
   "source": [
    "# get descriptive table\n",
    "df_skulls.describe().T"
   ]
  },
  {
   "cell_type": "code",
   "execution_count": 9,
   "id": "97741e93-8549-42ff-b118-8dfbe100242b",
   "metadata": {},
   "outputs": [
    {
     "data": {
      "text/plain": [
       "(142.4781289349803, 145.06949011263873)"
      ]
     },
     "execution_count": 9,
     "metadata": {},
     "output_type": "execute_result"
    }
   ],
   "source": [
    "# 95% t-interval etruscan\n",
    "ttest.d1.tconfint_mean()"
   ]
  },
  {
   "cell_type": "code",
   "execution_count": 10,
   "id": "9521dec4-cb41-4dba-8119-d211257313ca",
   "metadata": {},
   "outputs": [
    {
     "data": {
      "text/plain": [
       "(131.07183038027253, 133.81388390544177)"
      ]
     },
     "execution_count": 10,
     "metadata": {},
     "output_type": "execute_result"
    }
   ],
   "source": [
    "# 95% t-interval italian\n",
    "ttest.d2.tconfint_mean()"
   ]
  },
  {
   "cell_type": "markdown",
   "id": "34c9d836-ef97-485a-a932-c920760d82b3",
   "metadata": {},
   "source": [
    "### Visualise the data"
   ]
  },
  {
   "cell_type": "code",
   "execution_count": 11,
   "id": "104d8c6a-429c-4c21-a7f0-e0f2e976285a",
   "metadata": {},
   "outputs": [
    {
     "data": {
      "image/png": "[encoded data removed]",
      "text/plain": [
       "<Figure size 432x216 with 2 Axes>"
      ]
     },
     "metadata": {},
     "output_type": "display_data"
    }
   ],
   "source": [
    "# frequency histograms\n",
    "g = sns.FacetGrid(mskulls, col=\"skull\")\n",
    "g.map_dataframe(sns.histplot, x=\"size\", bins=10)\n",
    "# save figs, drop to figures dir\n",
    "os.chdir(\"figures\")\n",
    "plt.savefig(\"skulls_fig1\")\n",
    "os.chdir(\"..\")\n",
    "plt.show()"
   ]
  },
  {
   "cell_type": "code",
   "execution_count": 12,
   "id": "7165bca0-ab12-4a39-b3dd-34898651a23a",
   "metadata": {},
   "outputs": [
    {
     "data": {
      "image/png": "[encoded data removed]",
      "text/plain": [
       "<Figure size 432x288 with 2 Axes>"
      ]
     },
     "metadata": {},
     "output_type": "display_data"
    }
   ],
   "source": [
    "# Check normality of samples\n",
    "# declare and initialise the fig and axes\n",
    "f, (ax1, ax2) = plt.subplots(ncols=2, sharey=True)\n",
    "# construct probability plots\n",
    "probplot(x=etruscan, plot=ax1)\n",
    "probplot(x=italian, plot=ax2)\n",
    "# add discriptive title and labels\n",
    "ax1.set(title=\"Probability plot = Etruscans\")\n",
    "ax2.set(title=\"Probability plot = Italians\")\n",
    "# save figs, drop to figures dir\n",
    "os.chdir(\"figures\")\n",
    "plt.savefig(\"skulls_fig2\")\n",
    "os.chdir(\"..\")\n",
    "# output the probability plots\n",
    "plt.show()"
   ]
  },
  {
   "cell_type": "markdown",
   "id": "54255e96-d448-407f-84a3-2b484888cd9d",
   "metadata": {},
   "source": [
    "### Run the hypothesis test"
   ]
  },
  {
   "cell_type": "code",
   "execution_count": 13,
   "id": "1da060c7-e803-4289-8da2-ce251dafd908",
   "metadata": {},
   "outputs": [
    {
     "data": {
      "text/plain": [
       "(35.6470166379805, 33.06190476190476)"
      ]
     },
     "execution_count": 13,
     "metadata": {},
     "output_type": "execute_result"
    }
   ],
   "source": [
    "# Check assumption of common population variance\n",
    "etruscan.var(), italian.var()"
   ]
  },
  {
   "cell_type": "code",
   "execution_count": 14,
   "id": "827448ea-82c4-45bc-a1e8-de8257d61c99",
   "metadata": {},
   "outputs": [
    {
     "data": {
      "text/html": [
       "<table class=\"simpletable\">\n",
       "<caption>Test for equality of means</caption>\n",
       "<tr>\n",
       "      <td></td>         <th>coef</th>     <th>std err</th>      <th>t</th>      <th>P>|t|</th>  <th>[0.025</th>    <th>0.975]</th>  \n",
       "</tr>\n",
       "<tr>\n",
       "  <th>subset #1</th> <td>   11.3310</td> <td>    0.950</td> <td>   11.925</td> <td> 0.000</td> <td>    9.454</td> <td>   13.208</td>\n",
       "</tr>\n",
       "</table>"
      ],
      "text/plain": [
       "<class 'statsmodels.iolib.table.SimpleTable'>"
      ]
     },
     "execution_count": 14,
     "metadata": {},
     "output_type": "execute_result"
    }
   ],
   "source": [
    "ttest.summary()"
   ]
  },
  {
   "cell_type": "code",
   "execution_count": 15,
   "id": "9fd5c39d-f3fa-4da2-9f78-61a3765b406e",
   "metadata": {},
   "outputs": [
    {
     "data": {
      "text/plain": [
       "152.0"
      ]
     },
     "execution_count": 15,
     "metadata": {},
     "output_type": "execute_result"
    }
   ],
   "source": [
    "# get degrees of freedom\n",
    "ttest.d1.nobs + ttest.d2.nobs - 2"
   ]
  }
 ],
 "metadata": {
  "jupytext": {
   "formats": "notebooks///ipynb,scripts///py:percent"
  },
  "kernelspec": {
   "display_name": "Python 3.8",
   "language": "python",
   "name": "python3"
  },
  "language_info": {
   "codemirror_mode": {
    "name": "ipython",
    "version": 3
   },
   "file_extension": ".py",
   "mimetype": "text/x-python",
   "name": "python",
   "nbconvert_exporter": "python",
   "pygments_lexer": "ipython3",
   "version": "3.8.10"
  }
 },
 "nbformat": 4,
 "nbformat_minor": 5
}
