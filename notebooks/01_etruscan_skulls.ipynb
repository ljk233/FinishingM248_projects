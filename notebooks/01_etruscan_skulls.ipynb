{
 "cells": [
  {
   "cell_type": "markdown",
   "id": "49af69f2-faf6-4b1b-bb9e-38a8eb8f3127",
   "metadata": {},
   "source": [
    "# Comparing skull sizes of Etruscans and Italians\n",
    "\n",
    "## Summary\n",
    "\n",
    "### Data\n",
    "\n",
    "Etruscan, `float` :\n",
    "breadth of etruscan skulls (mm)\n",
    "\n",
    "Italian, `float` :\n",
    "breadth of italian skulls (mm)\n",
    "\n",
    "\n",
    "### Method\n",
    "\n",
    "- Data modelled using a normal distribution\n",
    "- Normality Checked using a histogram and normal probability plot\n",
    "- Assumption of common population variance checked\n",
    "- Mean and 95% **t**-interval returned for samples\n",
    "- Two sample, two-tailed **t**-test used to test the hypothesis that\n",
    "  the mean skull breadth of Etruscan skulls is equal to that of\n",
    "  Italian skulls\n",
    "\n",
    "### Summary results\n",
    "\n",
    "```python\n",
    "test_results{'tstat': 11.925, 'pval': 0.000, 'dof': 152.0}\n",
    "```\n",
    "\n",
    "### Output\n",
    "\n",
    "<!--Add path to FinishingM248-->\n",
    "\n",
    "### Reference\n",
    "\n",
    "m248.b.act22\n",
    "\n",
    "-----"
   ]
  },
  {
   "cell_type": "markdown",
   "id": "9db7e3b6-6075-473a-a6b7-187a78b938e7",
   "metadata": {},
   "source": [
    "## Results"
   ]
  },
  {
   "cell_type": "markdown",
   "id": "b2c6d272-fe61-4de8-8244-cc5f97570e4e",
   "metadata": {},
   "source": [
    "### Setup the notebook"
   ]
  },
  {
   "cell_type": "code",
   "execution_count": 1,
   "id": "ad39dd1d",
   "metadata": {},
   "outputs": [],
   "source": [
    "# import packages and modules\n",
    "from scipy import stats\n",
    "import statsmodels.stats.weightstats as sm\n",
    "import pandas as pd\n",
    "import seaborn as sns\n",
    "import matplotlib.pyplot as plt\n",
    "import os"
   ]
  },
  {
   "cell_type": "code",
   "execution_count": 2,
   "id": "09403ee2-be85-4180-b23f-827981142978",
   "metadata": {},
   "outputs": [],
   "source": [
    "# set seaborn theme\n",
    "sns.set_theme()"
   ]
  },
  {
   "cell_type": "code",
   "execution_count": 3,
   "id": "33c829aa",
   "metadata": {},
   "outputs": [],
   "source": [
    "# change wkdir and import the data\n",
    "os.chdir(\"..\\\\\")\n",
    "data = pd.read_csv(\"data\\\\skulls.csv\")\n",
    "etr = data[\"Etruscans\"]\n",
    "ita = data[\"Italians\"].dropna()"
   ]
  },
  {
   "cell_type": "markdown",
   "id": "896a7703",
   "metadata": {},
   "source": [
    "### Preview and describe the data"
   ]
  },
  {
   "cell_type": "code",
   "execution_count": 5,
   "id": "cef53b57-3d3d-40ef-88ae-bcd9ba960012",
   "metadata": {},
   "outputs": [
    {
     "data": {
      "text/html": [
       "<div>\n",
       "<style scoped>\n",
       "    .dataframe tbody tr th:only-of-type {\n",
       "        vertical-align: middle;\n",
       "    }\n",
       "\n",
       "    .dataframe tbody tr th {\n",
       "        vertical-align: top;\n",
       "    }\n",
       "\n",
       "    .dataframe thead th {\n",
       "        text-align: right;\n",
       "    }\n",
       "</style>\n",
       "<table border=\"1\" class=\"dataframe\">\n",
       "  <thead>\n",
       "    <tr style=\"text-align: right;\">\n",
       "      <th></th>\n",
       "      <th>Etruscans</th>\n",
       "      <th>Italians</th>\n",
       "    </tr>\n",
       "  </thead>\n",
       "  <tbody>\n",
       "    <tr>\n",
       "      <th>0</th>\n",
       "      <td>141</td>\n",
       "      <td>133.0</td>\n",
       "    </tr>\n",
       "    <tr>\n",
       "      <th>1</th>\n",
       "      <td>148</td>\n",
       "      <td>138.0</td>\n",
       "    </tr>\n",
       "    <tr>\n",
       "      <th>2</th>\n",
       "      <td>132</td>\n",
       "      <td>130.0</td>\n",
       "    </tr>\n",
       "    <tr>\n",
       "      <th>3</th>\n",
       "      <td>138</td>\n",
       "      <td>138.0</td>\n",
       "    </tr>\n",
       "    <tr>\n",
       "      <th>4</th>\n",
       "      <td>154</td>\n",
       "      <td>134.0</td>\n",
       "    </tr>\n",
       "  </tbody>\n",
       "</table>\n",
       "</div>"
      ],
      "text/plain": [
       "   Etruscans  Italians\n",
       "0        141     133.0\n",
       "1        148     138.0\n",
       "2        132     130.0\n",
       "3        138     138.0\n",
       "4        154     134.0"
      ]
     },
     "execution_count": 5,
     "metadata": {},
     "output_type": "execute_result"
    }
   ],
   "source": [
    "data.head()"
   ]
  },
  {
   "cell_type": "code",
   "execution_count": 6,
   "id": "f9257998-2089-4efa-b880-22fcacd05184",
   "metadata": {},
   "outputs": [
    {
     "data": {
      "text/html": [
       "<div>\n",
       "<style scoped>\n",
       "    .dataframe tbody tr th:only-of-type {\n",
       "        vertical-align: middle;\n",
       "    }\n",
       "\n",
       "    .dataframe tbody tr th {\n",
       "        vertical-align: top;\n",
       "    }\n",
       "\n",
       "    .dataframe thead th {\n",
       "        text-align: right;\n",
       "    }\n",
       "</style>\n",
       "<table border=\"1\" class=\"dataframe\">\n",
       "  <thead>\n",
       "    <tr style=\"text-align: right;\">\n",
       "      <th></th>\n",
       "      <th>count</th>\n",
       "      <th>mean</th>\n",
       "      <th>std</th>\n",
       "      <th>min</th>\n",
       "      <th>25%</th>\n",
       "      <th>50%</th>\n",
       "      <th>75%</th>\n",
       "      <th>max</th>\n",
       "    </tr>\n",
       "  </thead>\n",
       "  <tbody>\n",
       "    <tr>\n",
       "      <th>Etruscans</th>\n",
       "      <td>84.0</td>\n",
       "      <td>143.773810</td>\n",
       "      <td>5.970512</td>\n",
       "      <td>126.0</td>\n",
       "      <td>140.0</td>\n",
       "      <td>143.5</td>\n",
       "      <td>148.00</td>\n",
       "      <td>158.0</td>\n",
       "    </tr>\n",
       "    <tr>\n",
       "      <th>Italians</th>\n",
       "      <td>70.0</td>\n",
       "      <td>132.442857</td>\n",
       "      <td>5.749948</td>\n",
       "      <td>116.0</td>\n",
       "      <td>129.0</td>\n",
       "      <td>132.0</td>\n",
       "      <td>136.75</td>\n",
       "      <td>148.0</td>\n",
       "    </tr>\n",
       "  </tbody>\n",
       "</table>\n",
       "</div>"
      ],
      "text/plain": [
       "           count        mean       std    min    25%    50%     75%    max\n",
       "Etruscans   84.0  143.773810  5.970512  126.0  140.0  143.5  148.00  158.0\n",
       "Italians    70.0  132.442857  5.749948  116.0  129.0  132.0  136.75  148.0"
      ]
     },
     "execution_count": 6,
     "metadata": {},
     "output_type": "execute_result"
    }
   ],
   "source": [
    "data.describe().T"
   ]
  },
  {
   "cell_type": "markdown",
   "id": "34c9d836-ef97-485a-a932-c920760d82b3",
   "metadata": {},
   "source": [
    "### Visualise the data"
   ]
  },
  {
   "cell_type": "code",
   "execution_count": 7,
   "id": "104d8c6a-429c-4c21-a7f0-e0f2e976285a",
   "metadata": {},
   "outputs": [
    {
     "data": {
      "image/png": "[encoded data removed]",
      "text/plain": [
       "<Figure size 432x216 with 2 Axes>"
      ]
     },
     "metadata": {},
     "output_type": "display_data"
    }
   ],
   "source": [
    "# frequency histograms\n",
    "mdata = data.melt()\n",
    "mdata.dropna(inplace=True)\n",
    "g = sns.FacetGrid(mdata, col=\"variable\")\n",
    "g.map_dataframe(sns.histplot, x=\"value\", bins=10)\n",
    "g.set_axis_labels(\"Size\", \"Count\")\n",
    "os.chdir(\"figures\")\n",
    "plt.savefig(\"skulls_fig1\")\n",
    "os.chdir(\"..\")\n",
    "plt.show()"
   ]
  },
  {
   "cell_type": "code",
   "execution_count": 8,
   "id": "7165bca0-ab12-4a39-b3dd-34898651a23a",
   "metadata": {},
   "outputs": [
    {
     "data": {
      "image/png": "[encoded data removed]",
      "text/plain": [
       "<Figure size 432x288 with 2 Axes>"
      ]
     },
     "metadata": {},
     "output_type": "display_data"
    }
   ],
   "source": [
    "# probability plot for each sample\n",
    "f, (ax1, ax2) = plt.subplots(ncols=2, sharey=True)\n",
    "stats.probplot(x=etr, plot=ax1)\n",
    "stats.probplot(x=ita, plot=ax2)\n",
    "ax1.set(title=\"Probability plot = Etruscans\")\n",
    "ax2.set(title=\"Probability plot = Italians\")\n",
    "os.chdir(\"figures\")\n",
    "plt.savefig(\"skulls_fig2\")\n",
    "os.chdir(\"..\")\n",
    "plt.show()"
   ]
  },
  {
   "cell_type": "markdown",
   "id": "75f63a9a",
   "metadata": {},
   "source": [
    "### Check for common population variance"
   ]
  },
  {
   "cell_type": "code",
   "execution_count": 9,
   "id": "1da060c7-e803-4289-8da2-ce251dafd908",
   "metadata": {},
   "outputs": [
    {
     "data": {
      "text/plain": [
       "1.078190046662236"
      ]
     },
     "execution_count": 9,
     "metadata": {},
     "output_type": "execute_result"
    }
   ],
   "source": [
    "max(etr.var() / ita.var(), ita.var() / etr.var())"
   ]
  },
  {
   "cell_type": "markdown",
   "id": "54255e96-d448-407f-84a3-2b484888cd9d",
   "metadata": {},
   "source": [
    "### Run the hypothesis test"
   ]
  },
  {
   "cell_type": "code",
   "execution_count": 10,
   "id": "8a2735d2",
   "metadata": {},
   "outputs": [],
   "source": [
    "ttest = sm.CompareMeans.from_data(data1=etr, data2=ita)"
   ]
  },
  {
   "cell_type": "markdown",
   "id": "9e280139",
   "metadata": {},
   "source": [
    "#### Get confidence intervals"
   ]
  },
  {
   "cell_type": "code",
   "execution_count": 11,
   "id": "c3ac99f4",
   "metadata": {},
   "outputs": [
    {
     "data": {
      "text/plain": [
       "(142.4781289349803, 145.06949011263873)"
      ]
     },
     "execution_count": 11,
     "metadata": {},
     "output_type": "execute_result"
    }
   ],
   "source": [
    "# Etruscan\n",
    "ttest.d1.tconfint_mean()"
   ]
  },
  {
   "cell_type": "code",
   "execution_count": 12,
   "id": "4255abc5",
   "metadata": {},
   "outputs": [
    {
     "data": {
      "text/plain": [
       "(131.07183038027253, 133.81388390544177)"
      ]
     },
     "execution_count": 12,
     "metadata": {},
     "output_type": "execute_result"
    }
   ],
   "source": [
    "# Italian\n",
    "ttest.d2.tconfint_mean()"
   ]
  },
  {
   "cell_type": "markdown",
   "id": "8ee4b88e-0a61-4b1f-b7bf-70a253c34793",
   "metadata": {},
   "source": [
    "#### Describe the difference"
   ]
  },
  {
   "cell_type": "code",
   "execution_count": 13,
   "id": "7607ccb0",
   "metadata": {},
   "outputs": [
    {
     "data": {
      "text/plain": [
       "11.330952380952368"
      ]
     },
     "execution_count": 13,
     "metadata": {},
     "output_type": "execute_result"
    }
   ],
   "source": [
    "# get mean difference\n",
    "etr.mean() - ita.mean()"
   ]
  },
  {
   "cell_type": "code",
   "execution_count": 14,
   "id": "37f84b2a",
   "metadata": {},
   "outputs": [
    {
     "data": {
      "text/plain": [
       "(9.453650451007142, 13.208254310897594)"
      ]
     },
     "execution_count": 14,
     "metadata": {},
     "output_type": "execute_result"
    }
   ],
   "source": [
    "# get confint of mean difference\n",
    "ttest.tconfint_diff()"
   ]
  },
  {
   "cell_type": "markdown",
   "id": "a68feb4e-8860-4f00-a74b-d9287727e256",
   "metadata": {},
   "source": [
    "#### Run the test"
   ]
  },
  {
   "cell_type": "code",
   "execution_count": 15,
   "id": "827448ea-82c4-45bc-a1e8-de8257d61c99",
   "metadata": {},
   "outputs": [],
   "source": [
    "tstat, pval, dof = ttest.ttest_ind()"
   ]
  },
  {
   "cell_type": "code",
   "execution_count": 16,
   "id": "588a0a13-255b-4477-a558-aced866ce3bd",
   "metadata": {},
   "outputs": [
    {
     "data": {
      "text/plain": [
       "(11.924823310633796, 1.4734025976096172e-23, 152.0)"
      ]
     },
     "execution_count": 16,
     "metadata": {},
     "output_type": "execute_result"
    }
   ],
   "source": [
    "tstat, pval, dof"
   ]
  }
 ],
 "metadata": {
  "jupytext": {
   "formats": "notebooks///ipynb,scripts///py:percent"
  },
  "kernelspec": {
   "display_name": "Python 3.8",
   "language": "python",
   "name": "python3"
  },
  "language_info": {
   "codemirror_mode": {
    "name": "ipython",
    "version": 3
   },
   "file_extension": ".py",
   "mimetype": "text/x-python",
   "name": "python",
   "nbconvert_exporter": "python",
   "pygments_lexer": "ipython3",
   "version": "3.8.10"
  }
 },
 "nbformat": 4,
 "nbformat_minor": 5
}
