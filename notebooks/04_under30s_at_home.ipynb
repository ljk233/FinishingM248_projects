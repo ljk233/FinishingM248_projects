{
 "cells": [
  {
   "cell_type": "markdown",
   "id": "22c720e6",
   "metadata": {},
   "source": [
    "# Hypothesis test: Comparing whether the number of Under-30s still living at home in Wales is greater than the national average\n",
    "\n",
    "## Summary\n",
    "\n",
    "**description**\n",
    ": \"a one sample test of a proportion\"\n",
    "\n",
    "**data**\n",
    ": `None`\n",
    "\n",
    "**summary results**\n",
    ":\n",
    "\n",
    "```python\n",
    "res(\n",
    "    \"p_hat\": 0.26772,\n",
    "    \"95%_confint\": (0.21327, 0.32217),\n",
    "    \"zstat\": 0.652,\n",
    "    \"pval\": 0.514)\n",
    "```\n",
    "\n",
    "**output**\n",
    ": <!--Add path to FinishingM248-->\n"
   ]
  },
  {
   "cell_type": "markdown",
   "id": "7e084357",
   "metadata": {},
   "source": [
    "## Results"
   ]
  },
  {
   "cell_type": "markdown",
   "id": "20f4d35e",
   "metadata": {},
   "source": [
    "### Setup the notebook"
   ]
  },
  {
   "cell_type": "code",
   "execution_count": 1,
   "id": "48ef25bf",
   "metadata": {},
   "outputs": [],
   "source": [
    "# chage working dir\n",
    "import os\n",
    "os.chdir(\"..\\\\\")"
   ]
  },
  {
   "cell_type": "code",
   "execution_count": 2,
   "id": "3ede2583",
   "metadata": {},
   "outputs": [],
   "source": [
    "# import packages and modules\n",
    "from statsmodels.stats.proportion import proportion_confint, proportions_ztest"
   ]
  },
  {
   "cell_type": "markdown",
   "id": "3be3b6ef",
   "metadata": {},
   "source": [
    "### Declare local variables"
   ]
  },
  {
   "cell_type": "code",
   "execution_count": 3,
   "id": "164c5eeb",
   "metadata": {},
   "outputs": [],
   "source": [
    "# count, size\n",
    "x = 68\n",
    "n = 254"
   ]
  },
  {
   "cell_type": "code",
   "execution_count": 4,
   "id": "2cad7da7",
   "metadata": {},
   "outputs": [],
   "source": [
    "# alterative proportion, national average\n",
    "p0 = 0.25"
   ]
  },
  {
   "cell_type": "code",
   "execution_count": 5,
   "id": "932649ce",
   "metadata": {},
   "outputs": [],
   "source": [
    "# declare and initialise results dictionary\n",
    "res = dict()"
   ]
  },
  {
   "cell_type": "markdown",
   "id": "cde5d5d2",
   "metadata": {},
   "source": [
    "### Describe the data"
   ]
  },
  {
   "cell_type": "code",
   "execution_count": 6,
   "id": "46b02bc6",
   "metadata": {},
   "outputs": [],
   "source": [
    "# estimate proportion\n",
    "p_hat = x / n"
   ]
  },
  {
   "cell_type": "code",
   "execution_count": null,
   "id": "b097db5f-6a70-4204-a29a-b75331802d11",
   "metadata": {},
   "outputs": [],
   "source": [
    "# 95% ci of proportion\n",
    "zinterval = proportion_confint(count=x, nobs=n)"
   ]
  },
  {
   "cell_type": "code",
   "execution_count": 7,
   "id": "c95fd107",
   "metadata": {},
   "outputs": [
    {
     "data": {
      "text/plain": [
       "(0.2677165354330709, (0.2132652113912282, 0.32216785947491355))"
      ]
     },
     "execution_count": 7,
     "metadata": {},
     "output_type": "execute_result"
    }
   ],
   "source": [
    "# output estimates\n",
    "p_hat, zinterval"
   ]
  },
  {
   "cell_type": "markdown",
   "id": "9e9da9c4",
   "metadata": {},
   "source": [
    "### Run the $t$-test"
   ]
  },
  {
   "cell_type": "code",
   "execution_count": 8,
   "id": "6142258d",
   "metadata": {},
   "outputs": [
    {
     "data": {
      "text/plain": [
       "{'zstat': 0.6520712004019975, 'pval': 0.51435524178232}"
      ]
     },
     "execution_count": 8,
     "metadata": {},
     "output_type": "execute_result"
    }
   ],
   "source": [
    "# populate results\n",
    "res[\"zstat\"], res[\"pval\"] = (\n",
    "    proportions_ztest(count=x, nobs=n, value=p0, prop_var=p0))\n",
    "# print results\n",
    "res"
   ]
  }
 ],
 "metadata": {
  "jupytext": {
   "formats": "notebooks///ipynb,scripts///py:percent"
  },
  "kernelspec": {
   "display_name": "Python 3.8",
   "language": "python",
   "name": "python3"
  },
  "language_info": {
   "codemirror_mode": {
    "name": "ipython",
    "version": 3
   },
   "file_extension": ".py",
   "mimetype": "text/x-python",
   "name": "python",
   "nbconvert_exporter": "python",
   "pygments_lexer": "ipython3",
   "version": "3.8.10"
  }
 },
 "nbformat": 4,
 "nbformat_minor": 5
}
