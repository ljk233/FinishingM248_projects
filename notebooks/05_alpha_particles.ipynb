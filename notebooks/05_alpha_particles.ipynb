{
 "cells": [
  {
   "cell_type": "markdown",
   "id": "5539a33f-6f2c-4771-8c5d-1576bbdc0fb7",
   "metadata": {},
   "source": [
    "# Modelling the emission of alphaparticles as a Poisson distribution\n",
    "\n",
    "## Summary\n",
    "\n",
    "### Data\n",
    "\n",
    "count, `str` :\n",
    "number of alpha-particle emissions\n",
    "\n",
    "observed, `int` :\n",
    "observed frequency of each number of alpha-particles\n",
    "\n",
    "### Method\n",
    "\n",
    "- Data modelled using the Poisson distribution\n",
    "- Sample mean number of observations calculated, used instead of the\n",
    "  unknown population mean\n",
    "- Expected number of each emission count calculated\n",
    "- Counts 11, 12, 13+ had expected values < 5, so they were combined\n",
    "  into a single new category (11+) and expected number recalculated\n",
    "- Observed and expected frequencies plotted as a side-by-side plot\n",
    "- Chi-square goodness-of-fit test used to test the hypothesis that the\n",
    "  emissions of alpha-particles can be modelled by a Poisson\n",
    "  distribution\n",
    "\n",
    "### Summary results\n",
    "\n",
    "```python\n",
    "test_results{'chisq': 10.417, 'pval': 0.405, \"dof\": 11}\n",
    "```\n",
    "\n",
    "### Output\n",
    "\n",
    "<!--Add path to FinishingM248-->\n",
    "\n",
    "### Reference\n",
    "\n",
    "No reference\n",
    "\n",
    "-----"
   ]
  },
  {
   "cell_type": "markdown",
   "id": "740092ae-3816-4854-a556-e7a9911b48fb",
   "metadata": {},
   "source": [
    "## Results"
   ]
  },
  {
   "cell_type": "markdown",
   "id": "b3550ab9-6046-40a0-ade0-cf79f9caeea0",
   "metadata": {},
   "source": [
    "### Setup the notebook"
   ]
  },
  {
   "cell_type": "code",
   "execution_count": 1,
   "id": "6d0e0b8d-d382-4bed-9f9f-bc439ed012f1",
   "metadata": {},
   "outputs": [],
   "source": [
    "# import packages and modules\n",
    "from scipy import stats\n",
    "import pandas as pd\n",
    "import numpy as np\n",
    "import seaborn as sns\n",
    "import matplotlib.pyplot as plt\n",
    "import os"
   ]
  },
  {
   "cell_type": "code",
   "execution_count": 2,
   "id": "2825f313-26f4-4f0a-a085-a22e4751c30c",
   "metadata": {},
   "outputs": [],
   "source": [
    "# set seaborn theme\n",
    "sns.set_theme()"
   ]
  },
  {
   "cell_type": "code",
   "execution_count": 3,
   "id": "732315a1-5997-4652-994d-c00260698192",
   "metadata": {},
   "outputs": [],
   "source": [
    "# change wkdir and import the data\n",
    "os.chdir(\"..\")\n",
    "data = pd.read_csv(\"data\\\\alpha_particles.csv\")\n",
    "obs_x = data[\"observed\"]"
   ]
  },
  {
   "cell_type": "markdown",
   "id": "4d609698-0c23-41f5-9194-b48a9d0d7924",
   "metadata": {},
   "source": [
    "### Preview the data"
   ]
  },
  {
   "cell_type": "code",
   "execution_count": 4,
   "id": "d5598273-65a4-4d52-82ac-3bed814bb2d5",
   "metadata": {},
   "outputs": [
    {
     "data": {
      "text/html": [
       "<div>\n",
       "<style scoped>\n",
       "    .dataframe tbody tr th:only-of-type {\n",
       "        vertical-align: middle;\n",
       "    }\n",
       "\n",
       "    .dataframe tbody tr th {\n",
       "        vertical-align: top;\n",
       "    }\n",
       "\n",
       "    .dataframe thead th {\n",
       "        text-align: right;\n",
       "    }\n",
       "</style>\n",
       "<table border=\"1\" class=\"dataframe\">\n",
       "  <thead>\n",
       "    <tr style=\"text-align: right;\">\n",
       "      <th></th>\n",
       "      <th>count</th>\n",
       "      <th>observed</th>\n",
       "    </tr>\n",
       "  </thead>\n",
       "  <tbody>\n",
       "    <tr>\n",
       "      <th>0</th>\n",
       "      <td>0</td>\n",
       "      <td>57</td>\n",
       "    </tr>\n",
       "    <tr>\n",
       "      <th>1</th>\n",
       "      <td>1</td>\n",
       "      <td>203</td>\n",
       "    </tr>\n",
       "    <tr>\n",
       "      <th>2</th>\n",
       "      <td>2</td>\n",
       "      <td>383</td>\n",
       "    </tr>\n",
       "    <tr>\n",
       "      <th>3</th>\n",
       "      <td>3</td>\n",
       "      <td>525</td>\n",
       "    </tr>\n",
       "    <tr>\n",
       "      <th>4</th>\n",
       "      <td>4</td>\n",
       "      <td>532</td>\n",
       "    </tr>\n",
       "    <tr>\n",
       "      <th>5</th>\n",
       "      <td>5</td>\n",
       "      <td>408</td>\n",
       "    </tr>\n",
       "    <tr>\n",
       "      <th>6</th>\n",
       "      <td>6</td>\n",
       "      <td>273</td>\n",
       "    </tr>\n",
       "    <tr>\n",
       "      <th>7</th>\n",
       "      <td>7</td>\n",
       "      <td>139</td>\n",
       "    </tr>\n",
       "    <tr>\n",
       "      <th>8</th>\n",
       "      <td>8</td>\n",
       "      <td>49</td>\n",
       "    </tr>\n",
       "    <tr>\n",
       "      <th>9</th>\n",
       "      <td>9</td>\n",
       "      <td>27</td>\n",
       "    </tr>\n",
       "    <tr>\n",
       "      <th>10</th>\n",
       "      <td>10</td>\n",
       "      <td>10</td>\n",
       "    </tr>\n",
       "    <tr>\n",
       "      <th>11</th>\n",
       "      <td>11</td>\n",
       "      <td>4</td>\n",
       "    </tr>\n",
       "    <tr>\n",
       "      <th>12</th>\n",
       "      <td>12</td>\n",
       "      <td>2</td>\n",
       "    </tr>\n",
       "    <tr>\n",
       "      <th>13</th>\n",
       "      <td>&gt;= 13</td>\n",
       "      <td>0</td>\n",
       "    </tr>\n",
       "  </tbody>\n",
       "</table>\n",
       "</div>"
      ],
      "text/plain": [
       "    count  observed\n",
       "0       0        57\n",
       "1       1       203\n",
       "2       2       383\n",
       "3       3       525\n",
       "4       4       532\n",
       "5       5       408\n",
       "6       6       273\n",
       "7       7       139\n",
       "8       8        49\n",
       "9       9        27\n",
       "10     10        10\n",
       "11     11         4\n",
       "12     12         2\n",
       "13  >= 13         0"
      ]
     },
     "execution_count": 4,
     "metadata": {},
     "output_type": "execute_result"
    }
   ],
   "source": [
    "data"
   ]
  },
  {
   "cell_type": "markdown",
   "id": "cecb44a6-e148-4494-9f76-fdd861abfb76",
   "metadata": {},
   "source": [
    "### Get expected number of observations"
   ]
  },
  {
   "cell_type": "markdown",
   "id": "23a995e1-1436-42ab-b3c9-14304e6f8899",
   "metadata": {},
   "source": [
    "#### Declare `X`, number of emissions\n",
    "\n",
    "This will be used to generate the expected number of emissions.\n",
    "We cannot use the `count` column as it is not a column of `int`."
   ]
  },
  {
   "cell_type": "code",
   "execution_count": 5,
   "id": "5bac108f-6581-4bb9-a9ce-dcc10b42d718",
   "metadata": {},
   "outputs": [],
   "source": [
    "x = np.arange(start=0, stop=14)"
   ]
  },
  {
   "cell_type": "markdown",
   "id": "6ce4b1f2-73f6-463e-b225-a1cafc8d8b7d",
   "metadata": {},
   "source": [
    "#### Calculate weighted mean"
   ]
  },
  {
   "cell_type": "code",
   "execution_count": 6,
   "id": "11449f73-e5df-4bca-9417-bff9cbd5d244",
   "metadata": {},
   "outputs": [
    {
     "data": {
      "text/plain": [
       "3.8767228177641653"
      ]
     },
     "execution_count": 6,
     "metadata": {},
     "output_type": "execute_result"
    }
   ],
   "source": [
    "mu = (x * obs_x).sum() / obs_x.sum()\n",
    "mu"
   ]
  },
  {
   "cell_type": "markdown",
   "id": "9e9c98b2-78c1-46eb-86d3-9f0785befb27",
   "metadata": {},
   "source": [
    "#### Construct the Poisson model\n",
    "\n",
    "Array `pmf_x` will not initially be correct, as the final entry will\n",
    "show **P(X=13)**, not **P(X>=13)**, so we replace it."
   ]
  },
  {
   "cell_type": "code",
   "execution_count": 7,
   "id": "4ee0cb80-1157-43b1-9bd5-acbc9711cbfd",
   "metadata": {},
   "outputs": [
    {
     "data": {
      "text/plain": [
       "True"
      ]
     },
     "execution_count": 7,
     "metadata": {},
     "output_type": "execute_result"
    }
   ],
   "source": [
    "pois_model = stats.poisson(mu)\n",
    "pmf_x = pois_model.pmf(x)\n",
    "pmf_x[13] = 1 - pois_model.cdf(12)\n",
    "# check\n",
    "pmf_x.sum() == 1"
   ]
  },
  {
   "cell_type": "markdown",
   "id": "612e9b50-a751-4d41-8890-6b1542d8a595",
   "metadata": {},
   "source": [
    "#### Generate expected number of observations"
   ]
  },
  {
   "cell_type": "code",
   "execution_count": 8,
   "id": "e1cd2081-083c-45ee-91e4-1822147b7af6",
   "metadata": {},
   "outputs": [
    {
     "data": {
      "text/html": [
       "<div>\n",
       "<style scoped>\n",
       "    .dataframe tbody tr th:only-of-type {\n",
       "        vertical-align: middle;\n",
       "    }\n",
       "\n",
       "    .dataframe tbody tr th {\n",
       "        vertical-align: top;\n",
       "    }\n",
       "\n",
       "    .dataframe thead th {\n",
       "        text-align: right;\n",
       "    }\n",
       "</style>\n",
       "<table border=\"1\" class=\"dataframe\">\n",
       "  <thead>\n",
       "    <tr style=\"text-align: right;\">\n",
       "      <th></th>\n",
       "      <th>count</th>\n",
       "      <th>observed</th>\n",
       "      <th>expected</th>\n",
       "    </tr>\n",
       "  </thead>\n",
       "  <tbody>\n",
       "    <tr>\n",
       "      <th>11</th>\n",
       "      <td>11</td>\n",
       "      <td>4</td>\n",
       "      <td>4.029864</td>\n",
       "    </tr>\n",
       "    <tr>\n",
       "      <th>12</th>\n",
       "      <td>12</td>\n",
       "      <td>2</td>\n",
       "      <td>1.301889</td>\n",
       "    </tr>\n",
       "    <tr>\n",
       "      <th>13</th>\n",
       "      <td>&gt;= 13</td>\n",
       "      <td>0</td>\n",
       "      <td>0.532207</td>\n",
       "    </tr>\n",
       "  </tbody>\n",
       "</table>\n",
       "</div>"
      ],
      "text/plain": [
       "    count  observed  expected\n",
       "11     11         4  4.029864\n",
       "12     12         2  1.301889\n",
       "13  >= 13         0  0.532207"
      ]
     },
     "execution_count": 8,
     "metadata": {},
     "output_type": "execute_result"
    }
   ],
   "source": [
    "exp_x = pmf_x * obs_x.sum()\n",
    "data[\"expected\"] = exp_x\n",
    "# check\n",
    "data.query('expected < 5')"
   ]
  },
  {
   "cell_type": "markdown",
   "id": "df6db399-2643-4800-bafe-96bc23dae913",
   "metadata": {},
   "source": [
    "Not all expected values are greater than 5. \n",
    "Combine counts `11, 12, 13+ -> 11+`."
   ]
  },
  {
   "cell_type": "code",
   "execution_count": 9,
   "id": "3e145f35-ef77-4fcc-9750-17226ac3326d",
   "metadata": {},
   "outputs": [],
   "source": [
    "x2 = pd.Series(np.arange(start=0, stop=12))\n",
    "x2[11] = \">=11\""
   ]
  },
  {
   "cell_type": "code",
   "execution_count": 10,
   "id": "4d15a687-8b45-40d1-bff9-88236d0a5498",
   "metadata": {},
   "outputs": [],
   "source": [
    "obs_x2 = obs_x[0:11]\n",
    "obs_x2[11] = obs_x[11:].sum()"
   ]
  },
  {
   "cell_type": "code",
   "execution_count": 11,
   "id": "06eb02ac-3003-4d0a-894c-1025158f78fa",
   "metadata": {},
   "outputs": [],
   "source": [
    "exp_x2 = pd.Series(exp_x[0:11])\n",
    "exp_x2[11] = exp_x[11:].sum()"
   ]
  },
  {
   "cell_type": "code",
   "execution_count": 12,
   "id": "5b9acc51",
   "metadata": {},
   "outputs": [],
   "source": [
    "data2 = pd.DataFrame(\n",
    "    {'count': x2, 'observed': obs_x2, 'expected': exp_x2})"
   ]
  },
  {
   "cell_type": "code",
   "execution_count": 13,
   "id": "b5aedf20-8892-44fc-b4a3-1059c29b066b",
   "metadata": {},
   "outputs": [
    {
     "data": {
      "text/html": [
       "<div>\n",
       "<style scoped>\n",
       "    .dataframe tbody tr th:only-of-type {\n",
       "        vertical-align: middle;\n",
       "    }\n",
       "\n",
       "    .dataframe tbody tr th {\n",
       "        vertical-align: top;\n",
       "    }\n",
       "\n",
       "    .dataframe thead th {\n",
       "        text-align: right;\n",
       "    }\n",
       "</style>\n",
       "<table border=\"1\" class=\"dataframe\">\n",
       "  <thead>\n",
       "    <tr style=\"text-align: right;\">\n",
       "      <th></th>\n",
       "      <th>count</th>\n",
       "      <th>observed</th>\n",
       "      <th>expected</th>\n",
       "    </tr>\n",
       "  </thead>\n",
       "  <tbody>\n",
       "    <tr>\n",
       "      <th>0</th>\n",
       "      <td>0</td>\n",
       "      <td>57</td>\n",
       "      <td>54.117016</td>\n",
       "    </tr>\n",
       "    <tr>\n",
       "      <th>1</th>\n",
       "      <td>1</td>\n",
       "      <td>203</td>\n",
       "      <td>209.796672</td>\n",
       "    </tr>\n",
       "    <tr>\n",
       "      <th>2</th>\n",
       "      <td>2</td>\n",
       "      <td>383</td>\n",
       "      <td>406.661773</td>\n",
       "    </tr>\n",
       "    <tr>\n",
       "      <th>3</th>\n",
       "      <td>3</td>\n",
       "      <td>525</td>\n",
       "      <td>525.504992</td>\n",
       "    </tr>\n",
       "    <tr>\n",
       "      <th>4</th>\n",
       "      <td>4</td>\n",
       "      <td>532</td>\n",
       "      <td>509.309298</td>\n",
       "    </tr>\n",
       "    <tr>\n",
       "      <th>5</th>\n",
       "      <td>5</td>\n",
       "      <td>408</td>\n",
       "      <td>394.890196</td>\n",
       "    </tr>\n",
       "    <tr>\n",
       "      <th>6</th>\n",
       "      <td>6</td>\n",
       "      <td>273</td>\n",
       "      <td>255.146639</td>\n",
       "    </tr>\n",
       "    <tr>\n",
       "      <th>7</th>\n",
       "      <td>7</td>\n",
       "      <td>139</td>\n",
       "      <td>141.304685</td>\n",
       "    </tr>\n",
       "    <tr>\n",
       "      <th>8</th>\n",
       "      <td>8</td>\n",
       "      <td>49</td>\n",
       "      <td>68.474887</td>\n",
       "    </tr>\n",
       "    <tr>\n",
       "      <th>9</th>\n",
       "      <td>9</td>\n",
       "      <td>27</td>\n",
       "      <td>29.495351</td>\n",
       "    </tr>\n",
       "    <tr>\n",
       "      <th>10</th>\n",
       "      <td>10</td>\n",
       "      <td>10</td>\n",
       "      <td>11.434530</td>\n",
       "    </tr>\n",
       "    <tr>\n",
       "      <th>11</th>\n",
       "      <td>&gt;=11</td>\n",
       "      <td>6</td>\n",
       "      <td>5.863960</td>\n",
       "    </tr>\n",
       "  </tbody>\n",
       "</table>\n",
       "</div>"
      ],
      "text/plain": [
       "   count  observed    expected\n",
       "0      0        57   54.117016\n",
       "1      1       203  209.796672\n",
       "2      2       383  406.661773\n",
       "3      3       525  525.504992\n",
       "4      4       532  509.309298\n",
       "5      5       408  394.890196\n",
       "6      6       273  255.146639\n",
       "7      7       139  141.304685\n",
       "8      8        49   68.474887\n",
       "9      9        27   29.495351\n",
       "10    10        10   11.434530\n",
       "11  >=11         6    5.863960"
      ]
     },
     "execution_count": 13,
     "metadata": {},
     "output_type": "execute_result"
    }
   ],
   "source": [
    "data2"
   ]
  },
  {
   "cell_type": "markdown",
   "id": "de5afe59-775e-429c-89fa-c1e467b118ba",
   "metadata": {},
   "source": [
    "### Visualise the data"
   ]
  },
  {
   "cell_type": "code",
   "execution_count": 17,
   "id": "c1702a59-9397-44b3-ba85-e15c6ed6d58c",
   "metadata": {},
   "outputs": [
    {
     "data": {
      "image/png": "[encoded data removed]",
      "text/plain": [
       "<Figure size 432x288 with 1 Axes>"
      ]
     },
     "metadata": {},
     "output_type": "display_data"
    }
   ],
   "source": [
    "# side-by-side barchart\n",
    "malpha = data2.melt(id_vars=\"count\", value_vars=[\"observed\", \"expected\"])\n",
    "ax = sns.barplot(data=malpha, x=\"count\", y=\"value\", hue=\"variable\")\n",
    "ax.set(xlabel=\"Number of emissions\", ylabel=\"Frequency\")\n",
    "os.chdir(\"figures\")\n",
    "plt.savefig(\"alpha_fig1\")\n",
    "os.chdir(\"..\")\n",
    "plt.show()"
   ]
  },
  {
   "cell_type": "markdown",
   "id": "aea3ef0e-13b0-4879-9faf-cdf0292986a2",
   "metadata": {},
   "source": [
    "### Run the hypothesis test"
   ]
  },
  {
   "cell_type": "code",
   "execution_count": 18,
   "id": "89c5ccd6-324a-4234-91c2-07225b77e228",
   "metadata": {},
   "outputs": [],
   "source": [
    "chisq, pval = stats.chisquare(f_obs=obs_x2, f_exp=exp_x2, ddof=1)"
   ]
  },
  {
   "cell_type": "code",
   "execution_count": 19,
   "id": "92cd2bfe-fbe8-480e-89dd-550efa288d9c",
   "metadata": {},
   "outputs": [
    {
     "data": {
      "text/plain": [
       "(10.417085300106228, 0.4046937192262659)"
      ]
     },
     "execution_count": 19,
     "metadata": {},
     "output_type": "execute_result"
    }
   ],
   "source": [
    "chisq, pval"
   ]
  }
 ],
 "metadata": {
  "jupytext": {
   "formats": "notebooks///ipynb,scripts///py:percent"
  },
  "kernelspec": {
   "display_name": "Python 3.8",
   "language": "python",
   "name": "python3"
  },
  "language_info": {
   "codemirror_mode": {
    "name": "ipython",
    "version": 3
   },
   "file_extension": ".py",
   "mimetype": "text/x-python",
   "name": "python",
   "nbconvert_exporter": "python",
   "pygments_lexer": "ipython3",
   "version": "3.8.10"
  }
 },
 "nbformat": 4,
 "nbformat_minor": 5
}
