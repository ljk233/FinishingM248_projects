{
 "cells": [
  {
   "cell_type": "markdown",
   "id": "890d763c",
   "metadata": {},
   "source": [
    "# Linear modelling: Road distance and map distance\n",
    "\n",
    "## Summary\n",
    "\n",
    "### Data\n",
    "\n",
    "Road, `float` :\n",
    "road distance between two locations in Sheffield\n",
    "\n",
    "Map, `float` :\n",
    "map distance (ie, straight line) between two locations in Sheffield\n",
    "\n",
    "### Method\n",
    "\n",
    "- Data modelled using simple linear regression through the origin\n",
    "- Data, model, and prediction intervals plotted\n",
    "- Assumptions of the distribution of the residuals checked with a \n",
    "  residual plot, normal probability plot, and hypothesis test\n",
    "  $H_{0} : \\beta = 0$\n",
    "\n",
    "### Summary results\n",
    "\n",
    "```python\n",
    "results{'beta': 1.289, 'tstat_beta': 42.803, 'pval_beta': 0.000, \"dof\": 11}\n",
    "```\n",
    "\n",
    "### Output\n",
    "\n",
    "<!--Add path to FinishingM248-->\n",
    "\n",
    "### Reference\n",
    "\n",
    "m248.c.act5\n",
    "\n",
    "-----"
   ]
  },
  {
   "cell_type": "markdown",
   "id": "2d6b1b39",
   "metadata": {},
   "source": [
    "## Results"
   ]
  },
  {
   "cell_type": "markdown",
   "id": "54030006",
   "metadata": {},
   "source": [
    "### Setup the notebook"
   ]
  },
  {
   "cell_type": "code",
   "execution_count": 1,
   "id": "b488b08f",
   "metadata": {},
   "outputs": [],
   "source": [
    "# import packages and modules\n",
    "from scipy import stats\n",
    "import statsmodels.api as sm\n",
    "import pandas as pd\n",
    "import seaborn as sns\n",
    "import matplotlib.pyplot as plt\n",
    "import os"
   ]
  },
  {
   "cell_type": "code",
   "execution_count": 2,
   "id": "402d094d",
   "metadata": {},
   "outputs": [],
   "source": [
    "# set seaborn theme\n",
    "sns.set_theme()"
   ]
  },
  {
   "cell_type": "code",
   "execution_count": 3,
   "id": "52b93040",
   "metadata": {},
   "outputs": [],
   "source": [
    "# change wkdir and import the data\n",
    "os.chdir(\"..\\\\\")\n",
    "data = pd.read_csv(\"data\\\\distance.csv\")"
   ]
  },
  {
   "cell_type": "markdown",
   "id": "28c0d024-343f-484b-8e36-b34cb1e81afe",
   "metadata": {},
   "source": [
    "### Preview and describe the data"
   ]
  },
  {
   "cell_type": "code",
   "execution_count": 4,
   "id": "fbd960cd-ae78-4007-b5b8-e9c3d7185a4f",
   "metadata": {},
   "outputs": [
    {
     "data": {
      "text/html": [
       "<div>\n",
       "<style scoped>\n",
       "    .dataframe tbody tr th:only-of-type {\n",
       "        vertical-align: middle;\n",
       "    }\n",
       "\n",
       "    .dataframe tbody tr th {\n",
       "        vertical-align: top;\n",
       "    }\n",
       "\n",
       "    .dataframe thead th {\n",
       "        text-align: right;\n",
       "    }\n",
       "</style>\n",
       "<table border=\"1\" class=\"dataframe\">\n",
       "  <thead>\n",
       "    <tr style=\"text-align: right;\">\n",
       "      <th></th>\n",
       "      <th>Road</th>\n",
       "      <th>Map</th>\n",
       "    </tr>\n",
       "  </thead>\n",
       "  <tbody>\n",
       "    <tr>\n",
       "      <th>0</th>\n",
       "      <td>10.7</td>\n",
       "      <td>9.5</td>\n",
       "    </tr>\n",
       "    <tr>\n",
       "      <th>1</th>\n",
       "      <td>11.7</td>\n",
       "      <td>9.8</td>\n",
       "    </tr>\n",
       "    <tr>\n",
       "      <th>2</th>\n",
       "      <td>6.5</td>\n",
       "      <td>5.0</td>\n",
       "    </tr>\n",
       "    <tr>\n",
       "      <th>3</th>\n",
       "      <td>25.6</td>\n",
       "      <td>19.0</td>\n",
       "    </tr>\n",
       "    <tr>\n",
       "      <th>4</th>\n",
       "      <td>29.4</td>\n",
       "      <td>23.0</td>\n",
       "    </tr>\n",
       "  </tbody>\n",
       "</table>\n",
       "</div>"
      ],
      "text/plain": [
       "   Road   Map\n",
       "0  10.7   9.5\n",
       "1  11.7   9.8\n",
       "2   6.5   5.0\n",
       "3  25.6  19.0\n",
       "4  29.4  23.0"
      ]
     },
     "execution_count": 4,
     "metadata": {},
     "output_type": "execute_result"
    }
   ],
   "source": [
    "data.head()"
   ]
  },
  {
   "cell_type": "code",
   "execution_count": 5,
   "id": "9201ad83-d4d7-45c9-aaaa-5b842161c816",
   "metadata": {},
   "outputs": [
    {
     "data": {
      "text/html": [
       "<div>\n",
       "<style scoped>\n",
       "    .dataframe tbody tr th:only-of-type {\n",
       "        vertical-align: middle;\n",
       "    }\n",
       "\n",
       "    .dataframe tbody tr th {\n",
       "        vertical-align: top;\n",
       "    }\n",
       "\n",
       "    .dataframe thead th {\n",
       "        text-align: right;\n",
       "    }\n",
       "</style>\n",
       "<table border=\"1\" class=\"dataframe\">\n",
       "  <thead>\n",
       "    <tr style=\"text-align: right;\">\n",
       "      <th></th>\n",
       "      <th>count</th>\n",
       "      <th>mean</th>\n",
       "      <th>std</th>\n",
       "      <th>min</th>\n",
       "      <th>25%</th>\n",
       "      <th>50%</th>\n",
       "      <th>75%</th>\n",
       "      <th>max</th>\n",
       "    </tr>\n",
       "  </thead>\n",
       "  <tbody>\n",
       "    <tr>\n",
       "      <th>Road</th>\n",
       "      <td>20.0</td>\n",
       "      <td>20.855</td>\n",
       "      <td>9.611094</td>\n",
       "      <td>6.5</td>\n",
       "      <td>13.575</td>\n",
       "      <td>19.05</td>\n",
       "      <td>28.850</td>\n",
       "      <td>40.5</td>\n",
       "    </tr>\n",
       "    <tr>\n",
       "      <th>Map</th>\n",
       "      <td>20.0</td>\n",
       "      <td>16.130</td>\n",
       "      <td>7.337151</td>\n",
       "      <td>4.8</td>\n",
       "      <td>11.000</td>\n",
       "      <td>14.90</td>\n",
       "      <td>21.775</td>\n",
       "      <td>28.2</td>\n",
       "    </tr>\n",
       "  </tbody>\n",
       "</table>\n",
       "</div>"
      ],
      "text/plain": [
       "      count    mean       std  min     25%    50%     75%   max\n",
       "Road   20.0  20.855  9.611094  6.5  13.575  19.05  28.850  40.5\n",
       "Map    20.0  16.130  7.337151  4.8  11.000  14.90  21.775  28.2"
      ]
     },
     "execution_count": 5,
     "metadata": {},
     "output_type": "execute_result"
    }
   ],
   "source": [
    "data.describe().T"
   ]
  },
  {
   "cell_type": "markdown",
   "id": "04b8a6cb-cac0-45ae-8d3b-a42b9094d960",
   "metadata": {},
   "source": [
    "### Model the data"
   ]
  },
  {
   "cell_type": "code",
   "execution_count": 6,
   "id": "535f02e0-40b8-4517-af41-755e0ec333df",
   "metadata": {},
   "outputs": [],
   "source": [
    "X = data[\"Map\"]\n",
    "y = data[\"Road\"]"
   ]
  },
  {
   "cell_type": "code",
   "execution_count": 7,
   "id": "ec3328f0-a265-47ae-aa49-06f592a0213b",
   "metadata": {},
   "outputs": [
    {
     "data": {
      "text/plain": [
       "Map    1.289072\n",
       "dtype: float64"
      ]
     },
     "execution_count": 7,
     "metadata": {},
     "output_type": "execute_result"
    }
   ],
   "source": [
    "model = sm.OLS(y, X).fit()\n",
    "model.params"
   ]
  },
  {
   "cell_type": "markdown",
   "id": "2d29bd9e-e782-4e20-ab9b-fca604879f69",
   "metadata": {},
   "source": [
    "### Visualise the model"
   ]
  },
  {
   "cell_type": "code",
   "execution_count": 8,
   "id": "3757256f-faae-46e6-aebd-5d73e89e50fd",
   "metadata": {},
   "outputs": [
    {
     "data": {
      "image/png": "[encoded data removed]",
      "text/plain": [
       "<Figure size 432x288 with 1 Axes>"
      ]
     },
     "metadata": {},
     "output_type": "display_data"
    }
   ],
   "source": [
    "# plot data and model\n",
    "f, ax = plt.subplots()\n",
    "sns.scatterplot(x=X, y=y, label=\"data\")\n",
    "sns.lineplot(x=X, y=model.predict(), color=\"r\", label=\"prediction\")\n",
    "os.chdir(\"figures\")\n",
    "plt.savefig(\"distance_fig1\")\n",
    "os.chdir(\"..\")\n",
    "plt.show()"
   ]
  },
  {
   "cell_type": "markdown",
   "id": "98a01907-390c-4606-af65-8d8cc221610e",
   "metadata": {},
   "source": [
    "### Check assumptions of residual values"
   ]
  },
  {
   "cell_type": "code",
   "execution_count": 9,
   "id": "764c7c6e-e8c0-4fa4-ab63-b7e4194f0c3e",
   "metadata": {},
   "outputs": [
    {
     "data": {
      "image/png": "[encoded data removed]",
      "text/plain": [
       "<Figure size 432x288 with 1 Axes>"
      ]
     },
     "metadata": {},
     "output_type": "display_data"
    }
   ],
   "source": [
    "# residual plot\n",
    "f, ax = plt.subplots()\n",
    "sns.scatterplot(x=model.predict(), y=model.resid, ax=ax)\n",
    "ax.set(xlabel=\"Fitted\", ylabel=\"Residual\", title=\"Residual plot\")\n",
    "ax.axhline(y=0, color=\"black\", linestyle=\"--\")\n",
    "os.chdir(\"figures\")\n",
    "plt.savefig(\"distance_fig2\")\n",
    "os.chdir(\"..\")\n",
    "plt.show()"
   ]
  },
  {
   "cell_type": "code",
   "execution_count": 10,
   "id": "bf2347ad-3d28-4abc-8ed8-3bf44b3540cf",
   "metadata": {},
   "outputs": [
    {
     "data": {
      "image/png": "[encoded data removed]",
      "text/plain": [
       "<Figure size 432x288 with 1 Axes>"
      ]
     },
     "metadata": {},
     "output_type": "display_data"
    }
   ],
   "source": [
    "# probability plot\n",
    "f, ax = plt.subplots()\n",
    "stats.probplot(x=model.resid, plot=ax)\n",
    "ax.set(ylabel=\"Residual\")\n",
    "os.chdir(\"figures\")\n",
    "plt.savefig(\"distance_fig3\")\n",
    "os.chdir(\"..\")\n",
    "plt.show()"
   ]
  },
  {
   "cell_type": "markdown",
   "id": "a9a46880-d46d-4d45-a3f8-b1c308f10752",
   "metadata": {},
   "source": [
    "#### Hypothesis test: $H_{0} : \\beta = 0$"
   ]
  },
  {
   "cell_type": "code",
   "execution_count": 11,
   "id": "f0762353-b6fc-4875-b998-4768e9690c77",
   "metadata": {},
   "outputs": [],
   "source": [
    "tstat, pval = model.tvalues[0], model.pvalues[0]"
   ]
  },
  {
   "cell_type": "code",
   "execution_count": 12,
   "id": "fa3e5fc9-5310-4828-a103-ffef89848c3c",
   "metadata": {},
   "outputs": [
    {
     "data": {
      "text/plain": [
       "(42.803044497295, 2.325153186257358e-20)"
      ]
     },
     "execution_count": 12,
     "metadata": {},
     "output_type": "execute_result"
    }
   ],
   "source": [
    "tstat, pval"
   ]
  }
 ],
 "metadata": {
  "jupytext": {
   "formats": "notebooks///ipynb,scripts///py:percent"
  },
  "kernelspec": {
   "display_name": "Python 3.8",
   "language": "python",
   "name": "python3"
  },
  "language_info": {
   "codemirror_mode": {
    "name": "ipython",
    "version": 3
   },
   "file_extension": ".py",
   "mimetype": "text/x-python",
   "name": "python",
   "nbconvert_exporter": "python",
   "pygments_lexer": "ipython3",
   "version": "3.8.10"
  }
 },
 "nbformat": 4,
 "nbformat_minor": 5
}
