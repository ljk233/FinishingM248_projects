{
 "cells": [
  {
   "cell_type": "markdown",
   "id": "49af69f2-faf6-4b1b-bb9e-38a8eb8f3127",
   "metadata": {},
   "source": [
    "# Were the Etruscan people native to Italy?\n",
    "\n",
    "## Notes\n",
    "\n",
    "### Data\n",
    "\n",
    "- Data consists of 154 observations of male skull breadths\n",
    "  - Modern Italian males used as substitute for ancient Italian males\n",
    "- Data fields:\n",
    "  - **type** `str` : origin of skull, Etruscan or Italian\n",
    "  - **size** `float` : skull breadth (mm)\n",
    "\n",
    "### Method\n",
    "\n",
    "- Given data is biological, reasonable to suppose that it can modelled\n",
    "  normally\n",
    "  - Normality of samples checked using a frequency histogram and normal\n",
    "    probability plot\n",
    "- Mean and 95% **t**-interval returned both samples\n",
    "- Mean difference and 95% **t**-interval of the mean difference\n",
    "  returned\n",
    "- Checked assumption of common population variance\n",
    "- Performed **t**-test: mean skull breadth of the Etruscan skulls is\n",
    "  equal to that of the Italian skulls\n",
    "\n",
    "### Reference\n",
    "\n",
    "m248.b.act22\n",
    "\n",
    "-----"
   ]
  },
  {
   "cell_type": "markdown",
   "id": "9db7e3b6-6075-473a-a6b7-187a78b938e7",
   "metadata": {},
   "source": [
    "## Full Results"
   ]
  },
  {
   "cell_type": "markdown",
   "id": "b2c6d272-fe61-4de8-8244-cc5f97570e4e",
   "metadata": {},
   "source": [
    "### Setup the notebook"
   ]
  },
  {
   "cell_type": "code",
   "execution_count": 1,
   "id": "ad39dd1d",
   "metadata": {},
   "outputs": [],
   "source": [
    "# import packages and modules\n",
    "from scipy import stats\n",
    "import pandas as pd\n",
    "import statsmodels.stats.weightstats as sm\n",
    "import seaborn as sns\n",
    "import matplotlib.pyplot as plt\n",
    "import sys"
   ]
  },
  {
   "cell_type": "code",
   "execution_count": 2,
   "id": "f41312df-6611-4b06-be3e-dd8c8ec64432",
   "metadata": {},
   "outputs": [],
   "source": [
    "# set seaborn theme\n",
    "sns.set_theme()"
   ]
  },
  {
   "cell_type": "code",
   "execution_count": 3,
   "id": "09403ee2-be85-4180-b23f-827981142978",
   "metadata": {},
   "outputs": [],
   "source": [
    "# import custom modules not in root\n",
    "sys.path[0] = \"..\\\\\"  # update path\n",
    "from src import load, describe, summarise  # noqa: E402"
   ]
  },
  {
   "cell_type": "markdown",
   "id": "9710048a-ad76-4549-ac5c-bd866bdf336c",
   "metadata": {},
   "source": [
    "### Import the data"
   ]
  },
  {
   "cell_type": "code",
   "execution_count": 4,
   "id": "33c829aa",
   "metadata": {},
   "outputs": [],
   "source": [
    "# get data\n",
    "skulls: pd.DataFrame = load.Data.get(\"skulls\")"
   ]
  },
  {
   "cell_type": "code",
   "execution_count": 5,
   "id": "67073c0a-39e4-4242-b714-2c2a1df7c47c",
   "metadata": {},
   "outputs": [
    {
     "data": {
      "text/html": [
       "<div>\n",
       "<style scoped>\n",
       "    .dataframe tbody tr th:only-of-type {\n",
       "        vertical-align: middle;\n",
       "    }\n",
       "\n",
       "    .dataframe tbody tr th {\n",
       "        vertical-align: top;\n",
       "    }\n",
       "\n",
       "    .dataframe thead th {\n",
       "        text-align: right;\n",
       "    }\n",
       "</style>\n",
       "<table border=\"1\" class=\"dataframe\">\n",
       "  <thead>\n",
       "    <tr style=\"text-align: right;\">\n",
       "      <th></th>\n",
       "      <th>type</th>\n",
       "      <th>size</th>\n",
       "    </tr>\n",
       "  </thead>\n",
       "  <tbody>\n",
       "    <tr>\n",
       "      <th>0</th>\n",
       "      <td>Etruscan</td>\n",
       "      <td>141</td>\n",
       "    </tr>\n",
       "    <tr>\n",
       "      <th>1</th>\n",
       "      <td>Etruscan</td>\n",
       "      <td>148</td>\n",
       "    </tr>\n",
       "    <tr>\n",
       "      <th>2</th>\n",
       "      <td>Etruscan</td>\n",
       "      <td>132</td>\n",
       "    </tr>\n",
       "    <tr>\n",
       "      <th>3</th>\n",
       "      <td>Etruscan</td>\n",
       "      <td>138</td>\n",
       "    </tr>\n",
       "    <tr>\n",
       "      <th>4</th>\n",
       "      <td>Etruscan</td>\n",
       "      <td>154</td>\n",
       "    </tr>\n",
       "  </tbody>\n",
       "</table>\n",
       "</div>"
      ],
      "text/plain": [
       "       type  size\n",
       "0  Etruscan   141\n",
       "1  Etruscan   148\n",
       "2  Etruscan   132\n",
       "3  Etruscan   138\n",
       "4  Etruscan   154"
      ]
     },
     "execution_count": 5,
     "metadata": {},
     "output_type": "execute_result"
    }
   ],
   "source": [
    "# preview data\n",
    "skulls.head()"
   ]
  },
  {
   "cell_type": "code",
   "execution_count": 6,
   "id": "af594ea7-4736-4b7d-bd3d-2da3416a508c",
   "metadata": {},
   "outputs": [
    {
     "data": {
      "text/plain": [
       "type    object\n",
       "size     int64\n",
       "dtype: object"
      ]
     },
     "execution_count": 6,
     "metadata": {},
     "output_type": "execute_result"
    }
   ],
   "source": [
    "# check dtypes\n",
    "skulls.dtypes"
   ]
  },
  {
   "cell_type": "code",
   "execution_count": 7,
   "id": "21dc1653-52d1-441b-a3bb-0e454ed7a73a",
   "metadata": {},
   "outputs": [],
   "source": [
    "# get samples as series\n",
    "etr: pd.Series = skulls.query('type == \"Etruscan\"')[\"size\"]\n",
    "ita: pd.Series = skulls.query('type == \"Italian\"')[\"size\"]"
   ]
  },
  {
   "cell_type": "markdown",
   "id": "34c9d836-ef97-485a-a932-c920760d82b3",
   "metadata": {},
   "source": [
    "### Visualise the data"
   ]
  },
  {
   "cell_type": "code",
   "execution_count": 8,
   "id": "104d8c6a-429c-4c21-a7f0-e0f2e976285a",
   "metadata": {},
   "outputs": [
    {
     "data": {
      "image/png": "[encoded data removed]",
      "text/plain": [
       "<Figure size 432x216 with 2 Axes>"
      ]
     },
     "metadata": {},
     "output_type": "display_data"
    }
   ],
   "source": [
    "# frequency histograms\n",
    "g = sns.FacetGrid(skulls, col=\"type\")\n",
    "g.map_dataframe(sns.histplot, x=\"size\", bins=10)\n",
    "g.set_axis_labels(\"Size\", \"Count\")\n",
    "plt.show()"
   ]
  },
  {
   "cell_type": "code",
   "execution_count": 9,
   "id": "7165bca0-ab12-4a39-b3dd-34898651a23a",
   "metadata": {},
   "outputs": [
    {
     "data": {
      "image/png": "[encoded data removed]",
      "text/plain": [
       "<Figure size 432x288 with 2 Axes>"
      ]
     },
     "metadata": {},
     "output_type": "display_data"
    }
   ],
   "source": [
    "# probability plots\n",
    "f, axs = plt.subplots(ncols=2, sharey=True)\n",
    "stats.probplot(x=etr, plot=axs[0])\n",
    "stats.probplot(x=ita, plot=axs[1])\n",
    "axs[0].set(title=\"Probability plot = Etruscans\")\n",
    "axs[1].set(title=\"Probability plot = Italians\")\n",
    "plt.show()"
   ]
  },
  {
   "cell_type": "markdown",
   "id": "54255e96-d448-407f-84a3-2b484888cd9d",
   "metadata": {},
   "source": [
    "### Analyse the data"
   ]
  },
  {
   "cell_type": "code",
   "execution_count": 10,
   "id": "8a2735d2",
   "metadata": {},
   "outputs": [],
   "source": [
    "# initialise CompareMeans object\n",
    "ttest: sm.CompareMeans = sm.CompareMeans.from_data(data1=etr, data2=ita)"
   ]
  },
  {
   "cell_type": "code",
   "execution_count": 11,
   "id": "daf710f9-c72a-4f8f-8c24-fbe330941eb5",
   "metadata": {
    "lines_to_next_cell": 2
   },
   "outputs": [],
   "source": [
    "# check for common population variance. Expect < 3\n",
    "max(ttest.d1.var / ttest.d2.var, ttest.d2.var / ttest.d1.var) < 3"
   ]
  },
  {
   "cell_type": "code",
   "execution_count": 12,
   "id": "46b5c95b",
   "metadata": {
    "lines_to_next_cell": 2
   },
   "outputs": [
    {
     "data": {
      "text/plain": [
       "True"
      ]
     },
     "execution_count": 12,
     "metadata": {},
     "output_type": "execute_result"
    }
   ],
   "source": [
    "describe.TSample(\n",
    "    \"Etruscans\", ttest.d1.nobs, ttest.d1.mean, ttest.d1.tconfint_mean())"
   ]
  },
  {
   "cell_type": "code",
   "execution_count": 13,
   "id": "1e4423b1-a464-4c30-a7a3-e0430b68c32a",
   "metadata": {},
   "outputs": [
    {
     "data": {
      "text/plain": [
       "Etruscans(size=84, mean=143.773810, tconfint_mean=(142.478129, 145.069490))"
      ]
     },
     "execution_count": 13,
     "metadata": {},
     "output_type": "execute_result"
    }
   ],
   "source": [
    "describe.TSample(\n",
    "    \"Italians\", ttest.d2.nobs, ttest.d2.mean, ttest.d2.tconfint_mean())"
   ]
  },
  {
   "cell_type": "code",
   "execution_count": 14,
   "id": "d6b6e902-2717-41a8-bf56-fcb15113b873",
   "metadata": {},
   "outputs": [
    {
     "data": {
      "text/plain": [
       "Italians(size=70, mean=132.442857, tconfint_mean=(131.071830, 133.813884))"
      ]
     },
     "execution_count": 14,
     "metadata": {},
     "output_type": "execute_result"
    }
   ],
   "source": [
    "describe.TDiff(\n",
    "    ttest.d1.mean - ttest.d2.mean, ttest.tconfint_diff())"
   ]
  },
  {
   "cell_type": "code",
   "execution_count": 16,
   "id": "fa2b1339-d1bf-4b8f-9c1f-b110a969eea7",
   "metadata": {},
   "outputs": [
    {
     "data": {
      "text/plain": [
       "ResultSummary(tstat=11.924823, pval=0.000000, dof=152)"
      ]
     },
     "execution_count": 16,
     "metadata": {},
     "output_type": "execute_result"
    }
   ],
   "source": [
    "# run the test\n",
    "tstat, pval, dof = ttest.ttest_ind()\n",
    "summarise.TTest(tstat, pval, dof)"
   ]
  }
 ],
 "metadata": {
  "jupytext": {
   "formats": "py_notebooks///ipynb,py_scripts///py:percent"
  },
  "kernelspec": {
   "display_name": "Python 3.8",
   "language": "python",
   "name": "python3"
  },
  "language_info": {
   "codemirror_mode": {
    "name": "ipython",
    "version": 3
   },
   "file_extension": ".py",
   "mimetype": "text/x-python",
   "name": "python",
   "nbconvert_exporter": "python",
   "pygments_lexer": "ipython3",
   "version": "3.8.10"
  }
 },
 "nbformat": 4,
 "nbformat_minor": 5
}
