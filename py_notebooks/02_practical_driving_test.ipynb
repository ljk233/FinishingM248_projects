{
 "cells": [
  {
   "cell_type": "markdown",
   "id": "801dbc69-4b88-470a-85ed-d1f9ef98140b",
   "metadata": {},
   "source": [
    "# Comparing the total pass rate of the UK driving practical test in 2013 and 2014  # noqa:  E501\n",
    "\n",
    "## Notes\n",
    "\n",
    "### Question of interest\n",
    "\n",
    "Was the overall mean pass for the UK driving practical test from April\n",
    "2014 to March 2015 equal to 47.1%, the mean total pass rate from April\n",
    "2013 to March 2014?\n",
    "\n",
    "### Data\n",
    "\n",
    "- Total pass rate of UK driving practical test from April 2014 to\n",
    "  March 2015 was 47.1%\n",
    "- Data consists of 316 observations of the overall pass rate at the\n",
    "  UK's practical driving centres\n",
    "- Data fields:\n",
    "  - **centre** `str` : location of test centre\n",
    "  - **type** `str` : who the pass rate is for, either `male`, `female`,\n",
    "    or `total`\n",
    "  - **pass_rate** `float` : mean percentage pass rate of males from April\n",
    "    2014 to March 2015\n",
    "\n",
    "### Method\n",
    "\n",
    "- Data modelled using an approximate normal distribution\n",
    "  - Checked assumption of symmetry using a histogram and normal\n",
    "    probability plot\n",
    "- Mean and 95% **z**-interval calculated for the total pass rate\n",
    "- Performed **z**-test: mean total pass rate of the UK driving\n",
    "  practical test was equal to 47.1%\n",
    "\n",
    "### Results\n",
    "\n",
    "- The data returned the descriptive column `type` as an `object`,\n",
    "  rather than a `str`\n",
    "  - This did not affect the analysis, so not remedial action was taken\n",
    "- None of the visualisations showed using an approximate normal model\n",
    "  was inappropriate\n",
    "  - Frequency histogram shows the data are distributed unimodally and\n",
    "    approximately symmetric\n",
    "  - Probability plots show the data to closely follow a fitted straight\n",
    "- Description of sample:\n",
    "  - `Total(size=316, mean=49.630380, zconfint_mean=(48.840342, 50.420417))`\n",
    "- **z**-test result\n",
    "  - `ResultSummary(zstat=6.277492, pval=0.000000)`\n",
    "\n",
    "### Discussion\n",
    "\n",
    "- Null hypothesis is rejected with **p**-value < 0.000001\n",
    "- Very strong evidence that the mean pass rate is not equal to 47.1%\n",
    "- Given **z** > 0, conclude that there is evidence that the mean pass\n",
    "  from April 2014 to March 2015 was greater than 47.1%\n",
    "- Result suggests there was an increase in the overall mean total pass\n",
    "  rate of the UK driving practical test\n",
    "\n",
    "### Reference\n",
    "\n",
    "m248.b.act23\n",
    "\n",
    "-----"
   ]
  },
  {
   "cell_type": "markdown",
   "id": "356e0a7d",
   "metadata": {},
   "source": [
    "## Results\n",
    "\n",
    "### Setup the notebook"
   ]
  },
  {
   "cell_type": "code",
   "execution_count": 1,
   "id": "32fc289b",
   "metadata": {},
   "outputs": [],
   "source": [
    "# import packages and modules\n",
    "from scipy import stats\n",
    "import pandas as pd\n",
    "import statsmodels.stats.weightstats as sm\n",
    "import seaborn as sns\n",
    "import matplotlib.pyplot as plt\n",
    "import sys"
   ]
  },
  {
   "cell_type": "code",
   "execution_count": 2,
   "id": "d224d0a2",
   "metadata": {},
   "outputs": [],
   "source": [
    "# set seaborn theme\n",
    "sns.set_theme()"
   ]
  },
  {
   "cell_type": "code",
   "execution_count": 3,
   "id": "2fa63761-29ae-460e-80f7-b9cb3cfe9458",
   "metadata": {},
   "outputs": [],
   "source": [
    "# import custom modules not in root\n",
    "sys.path[0] = \"..\\\\\"  # update path\n",
    "from src import load, describe, summarise  # noqa: E402"
   ]
  },
  {
   "cell_type": "markdown",
   "id": "7155c3ae-13e0-4d31-b0e1-8cf25f47d4a5",
   "metadata": {},
   "source": [
    "### Import the data"
   ]
  },
  {
   "cell_type": "code",
   "execution_count": 4,
   "id": "b8694f7f",
   "metadata": {},
   "outputs": [],
   "source": [
    "# get data\n",
    "prac_driving: pd.DataFrame = load.Data.get(\"pass_rates_uk_prac_driving_test\")"
   ]
  },
  {
   "cell_type": "code",
   "execution_count": 5,
   "id": "f0b301a8-67b0-40ba-b00b-e6975874d795",
   "metadata": {},
   "outputs": [
    {
     "data": {
      "text/html": [
       "<div>\n",
       "<style scoped>\n",
       "    .dataframe tbody tr th:only-of-type {\n",
       "        vertical-align: middle;\n",
       "    }\n",
       "\n",
       "    .dataframe tbody tr th {\n",
       "        vertical-align: top;\n",
       "    }\n",
       "\n",
       "    .dataframe thead th {\n",
       "        text-align: right;\n",
       "    }\n",
       "</style>\n",
       "<table border=\"1\" class=\"dataframe\">\n",
       "  <thead>\n",
       "    <tr style=\"text-align: right;\">\n",
       "      <th></th>\n",
       "      <th>centre</th>\n",
       "      <th>type</th>\n",
       "      <th>pass_rate</th>\n",
       "    </tr>\n",
       "  </thead>\n",
       "  <tbody>\n",
       "    <tr>\n",
       "      <th>0</th>\n",
       "      <td>Aberdeen North</td>\n",
       "      <td>male</td>\n",
       "      <td>49.9</td>\n",
       "    </tr>\n",
       "    <tr>\n",
       "      <th>1</th>\n",
       "      <td>Aberdeen South (Cove)</td>\n",
       "      <td>male</td>\n",
       "      <td>50.9</td>\n",
       "    </tr>\n",
       "    <tr>\n",
       "      <th>2</th>\n",
       "      <td>Abergavenny</td>\n",
       "      <td>male</td>\n",
       "      <td>60.5</td>\n",
       "    </tr>\n",
       "    <tr>\n",
       "      <th>3</th>\n",
       "      <td>Aberystwyth</td>\n",
       "      <td>male</td>\n",
       "      <td>62.5</td>\n",
       "    </tr>\n",
       "    <tr>\n",
       "      <th>4</th>\n",
       "      <td>Airdrie</td>\n",
       "      <td>male</td>\n",
       "      <td>47.2</td>\n",
       "    </tr>\n",
       "  </tbody>\n",
       "</table>\n",
       "</div>"
      ],
      "text/plain": [
       "                  centre  type  pass_rate\n",
       "0         Aberdeen North  male       49.9\n",
       "1  Aberdeen South (Cove)  male       50.9\n",
       "2            Abergavenny  male       60.5\n",
       "3            Aberystwyth  male       62.5\n",
       "4                Airdrie  male       47.2"
      ]
     },
     "execution_count": 5,
     "metadata": {},
     "output_type": "execute_result"
    }
   ],
   "source": [
    "# preview data\n",
    "prac_driving.head()"
   ]
  },
  {
   "cell_type": "code",
   "execution_count": 6,
   "id": "821bfa5a-5160-45a1-a346-44e45d01f20f",
   "metadata": {},
   "outputs": [
    {
     "data": {
      "text/plain": [
       "centre        object\n",
       "type          object\n",
       "pass_rate    float64\n",
       "dtype: object"
      ]
     },
     "execution_count": 6,
     "metadata": {},
     "output_type": "execute_result"
    }
   ],
   "source": [
    "# check dtypes\n",
    "prac_driving.dtypes"
   ]
  },
  {
   "cell_type": "code",
   "execution_count": 7,
   "id": "a425ca19-e208-4610-a320-a9a8d2c98ec5",
   "metadata": {},
   "outputs": [],
   "source": [
    "# get sample as series\n",
    "total: pd.Series = prac_driving.query('type == \"total\"')[\"pass_rate\"]"
   ]
  },
  {
   "cell_type": "markdown",
   "id": "30ca3e03",
   "metadata": {},
   "source": [
    "### Visualise the data"
   ]
  },
  {
   "cell_type": "code",
   "execution_count": 8,
   "id": "786e2dde",
   "metadata": {},
   "outputs": [
    {
     "data": {
      "image/png": "[encoded data removed]",
      "text/plain": [
       "<Figure size 432x288 with 1 Axes>"
      ]
     },
     "metadata": {},
     "output_type": "display_data"
    }
   ],
   "source": [
    "# frequency histogram\n",
    "f, ax = plt.subplots()\n",
    "ax = sns.histplot(x=total, bins=12)\n",
    "plt.show()"
   ]
  },
  {
   "cell_type": "code",
   "execution_count": 9,
   "id": "4ea35b42",
   "metadata": {},
   "outputs": [
    {
     "data": {
      "image/png": "[encoded data removed]",
      "text/plain": [
       "<Figure size 432x288 with 1 Axes>"
      ]
     },
     "metadata": {},
     "output_type": "display_data"
    }
   ],
   "source": [
    "# probability plot of sample\n",
    "f, ax = plt.subplots()\n",
    "stats.probplot(x=total, plot=ax)\n",
    "plt.show()"
   ]
  },
  {
   "cell_type": "markdown",
   "id": "749e098b",
   "metadata": {},
   "source": [
    "### Analyse the data"
   ]
  },
  {
   "cell_type": "code",
   "execution_count": 10,
   "id": "9a7b2fc4",
   "metadata": {},
   "outputs": [],
   "source": [
    "# initialise DescrStatsW object\n",
    "dsw_total: sm.DescrStatsW = sm.DescrStatsW(data=total)"
   ]
  },
  {
   "cell_type": "code",
   "execution_count": 11,
   "id": "14537380-42ff-4f38-971d-f644c6f6f742",
   "metadata": {},
   "outputs": [
    {
     "data": {
      "text/plain": [
       "Total(size=316, mean=49.630380, zconfint_mean=(48.840342, 50.420417))"
      ]
     },
     "execution_count": 11,
     "metadata": {},
     "output_type": "execute_result"
    }
   ],
   "source": [
    "describe.ZSample(\n",
    "    \"Total\", dsw_total.nobs, dsw_total.mean, dsw_total.zconfint_mean())"
   ]
  },
  {
   "cell_type": "code",
   "execution_count": 12,
   "id": "e0edc24c",
   "metadata": {},
   "outputs": [],
   "source": [
    "# hypothesised mean value\n",
    "mu0 = 47.1"
   ]
  },
  {
   "cell_type": "code",
   "execution_count": 13,
   "id": "8008a3f2",
   "metadata": {},
   "outputs": [
    {
     "data": {
      "text/plain": [
       "ResultSummary(zstat=6.277492, pval=0.000000)"
      ]
     },
     "execution_count": 13,
     "metadata": {},
     "output_type": "execute_result"
    }
   ],
   "source": [
    "# run the test\n",
    "zstat, pval = dsw_total.ztest_mean(value=mu0)\n",
    "summarise.ZTest(zstat, pval)"
   ]
  }
 ],
 "metadata": {
  "jupytext": {
   "formats": "py_notebooks///ipynb,scripts///py:percent"
  },
  "kernelspec": {
   "display_name": "Python 3.8",
   "language": "python",
   "name": "python3"
  },
  "language_info": {
   "codemirror_mode": {
    "name": "ipython",
    "version": 3
   },
   "file_extension": ".py",
   "mimetype": "text/x-python",
   "name": "python",
   "nbconvert_exporter": "python",
   "pygments_lexer": "ipython3",
   "version": "3.8.10"
  }
 },
 "nbformat": 4,
 "nbformat_minor": 5
}
