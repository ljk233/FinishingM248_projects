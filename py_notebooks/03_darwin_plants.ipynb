{
 "cells": [
  {
   "cell_type": "markdown",
   "id": "61803879",
   "metadata": {},
   "source": [
    "# Comparing the heights of plants grown from cross-fertilised and self-fertilised seeds  # noqa:  E501\n",
    "\n",
    "## Summary\n",
    "\n",
    "### Question of interest\n",
    "\n",
    "Are plants grown from cross-fertilised seeds on average taller than\n",
    "plants grown from self-fertilised seeds?\n",
    "\n",
    "### Data\n",
    "\n",
    "- Data consists of 15 paired samples of the heights of plants grown\n",
    "  from cross-fertilised and self-fertilised seeds\n",
    "- Data fields:\n",
    "  - **id** `int` : pair the observation belongs to\n",
    "  - **type** `int` : how the plant was fertilised, either `cross` or\n",
    "    `self`\n",
    "  - **size** `int` : height of plant (1/8 inch)\n",
    "\n",
    "### Method\n",
    "\n",
    "- Data plotted as comparative boxplots\n",
    "- Given data is biological, reasonable to suppose that it can modelled\n",
    "  normally\n",
    "  - Normality of samples checked using a normal probability plot\n",
    "- Difference between paired observations calculated\n",
    "- Differences plotted as a boxplot\n",
    "- Mean and 95% **t**-interval returned both samples\n",
    "- Mean difference and 95% **t**-interval of the mean difference\n",
    "  returned\n",
    "- Performed paired **t**-test: mean difference in plant height equal to\n",
    "  zero\n",
    "\n",
    "### Results\n",
    "\n",
    "- None of the visualisations show the assumption that both samples are \n",
    "  normally distributed is inappropriate\n",
    "  - Frequency histogram shows both samples are unimodal and symmetric\n",
    "  - Probability plots show the data to closely follow a fitted straight\n",
    "- Description of samples:\n",
    "  - `Cross(size=15, mean=161.533333, tconfint_mean=(145.509354, 177.557313))`\n",
    "  - `Self(size=15, mean=140.600000, tconfint_mean=(131.510557, 149.689443))`\n",
    "- Description of difference between the samples\n",
    "  - `Difference(size=15, mean=20.933333, tconfint_mean=(0.031193, 41.835473))`\n",
    "- Paired **t**-test result\n",
    "  - `ResultSummary(tstat=11.924823, pval=0.000000, dof=152)`\n",
    "\n",
    "### Discussion\n",
    "\n",
    "- Null hypothesis is rejected with **p**-value < 0.050\n",
    "- Moderate evidence again the null hypothesis that the mean difference\n",
    "  in heights between paired cross- and self-fertilised plants is equal\n",
    "  to zero\n",
    "- Given test statistic **t**>0, moderate evidence to support the the\n",
    "  mean height of plants grown from cross-fertilisation are taller than\n",
    "  plants grown from self-fertilised seeds\n",
    "\n",
    "### Reference\n",
    "\n",
    "m248.b.\n",
    "\n",
    "-----"
   ]
  },
  {
   "cell_type": "markdown",
   "id": "266d982e",
   "metadata": {},
   "source": [
    "## Results"
   ]
  },
  {
   "cell_type": "markdown",
   "id": "e9490b5c",
   "metadata": {},
   "source": [
    "### Setup the notebook"
   ]
  },
  {
   "cell_type": "code",
   "execution_count": 1,
   "id": "4bfb0eed",
   "metadata": {
    "lines_to_next_cell": 2
   },
   "outputs": [],
   "source": [
    "# import packages and modules\n",
    "from scipy import stats\n",
    "import pandas as pd\n",
    "import statsmodels.stats.weightstats as sm\n",
    "import numpy as np\n",
    "import seaborn as sns\n",
    "import matplotlib.pyplot as plt\n",
    "import sys"
   ]
  },
  {
   "cell_type": "code",
   "execution_count": 2,
   "id": "48ef25bf",
   "metadata": {},
   "outputs": [],
   "source": [
    "# set seaborn theme\n",
    "sns.set_theme()"
   ]
  },
  {
   "cell_type": "code",
   "execution_count": 3,
   "id": "54e045b2",
   "metadata": {},
   "outputs": [],
   "source": [
    "# import custom modules not in root\n",
    "sys.path[0] = \"..\\\\\"  # update path\n",
    "from src import load, describe, summarise  # noqa: E402"
   ]
  },
  {
   "cell_type": "markdown",
   "id": "814df8f5",
   "metadata": {},
   "source": [
    "### Import the data"
   ]
  },
  {
   "cell_type": "code",
   "execution_count": 4,
   "id": "4c6b2d99",
   "metadata": {},
   "outputs": [],
   "source": [
    "# get data\n",
    "darwin: pd.DataFrame = load.Data.get(\"darwin_plants_height\")"
   ]
  },
  {
   "cell_type": "code",
   "execution_count": 5,
   "id": "e2457739",
   "metadata": {},
   "outputs": [
    {
     "data": {
      "text/html": [
       "<div>\n",
       "<style scoped>\n",
       "    .dataframe tbody tr th:only-of-type {\n",
       "        vertical-align: middle;\n",
       "    }\n",
       "\n",
       "    .dataframe tbody tr th {\n",
       "        vertical-align: top;\n",
       "    }\n",
       "\n",
       "    .dataframe thead th {\n",
       "        text-align: right;\n",
       "    }\n",
       "</style>\n",
       "<table border=\"1\" class=\"dataframe\">\n",
       "  <thead>\n",
       "    <tr style=\"text-align: right;\">\n",
       "      <th></th>\n",
       "      <th>id</th>\n",
       "      <th>type</th>\n",
       "      <th>size</th>\n",
       "    </tr>\n",
       "  </thead>\n",
       "  <tbody>\n",
       "    <tr>\n",
       "      <th>0</th>\n",
       "      <td>1</td>\n",
       "      <td>cross</td>\n",
       "      <td>188</td>\n",
       "    </tr>\n",
       "    <tr>\n",
       "      <th>1</th>\n",
       "      <td>2</td>\n",
       "      <td>cross</td>\n",
       "      <td>96</td>\n",
       "    </tr>\n",
       "    <tr>\n",
       "      <th>2</th>\n",
       "      <td>3</td>\n",
       "      <td>cross</td>\n",
       "      <td>168</td>\n",
       "    </tr>\n",
       "    <tr>\n",
       "      <th>3</th>\n",
       "      <td>4</td>\n",
       "      <td>cross</td>\n",
       "      <td>176</td>\n",
       "    </tr>\n",
       "    <tr>\n",
       "      <th>4</th>\n",
       "      <td>5</td>\n",
       "      <td>cross</td>\n",
       "      <td>153</td>\n",
       "    </tr>\n",
       "  </tbody>\n",
       "</table>\n",
       "</div>"
      ],
      "text/plain": [
       "   id   type  size\n",
       "0   1  cross   188\n",
       "1   2  cross    96\n",
       "2   3  cross   168\n",
       "3   4  cross   176\n",
       "4   5  cross   153"
      ]
     },
     "execution_count": 5,
     "metadata": {},
     "output_type": "execute_result"
    }
   ],
   "source": [
    "darwin.head()"
   ]
  },
  {
   "cell_type": "code",
   "execution_count": 6,
   "id": "98ab36f3-03b0-4d8d-8f5e-aa0704ece03f",
   "metadata": {},
   "outputs": [
    {
     "data": {
      "text/plain": [
       "id       int64\n",
       "type    object\n",
       "size     int64\n",
       "dtype: object"
      ]
     },
     "execution_count": 6,
     "metadata": {},
     "output_type": "execute_result"
    }
   ],
   "source": [
    "# check dtypes\n",
    "darwin.dtypes"
   ]
  },
  {
   "cell_type": "code",
   "execution_count": 7,
   "id": "7351bdc7-b968-4a61-81fb-7cc130f46200",
   "metadata": {},
   "outputs": [],
   "source": [
    "# get samples\n",
    "darwin.sort_values(by=[\"id\", \"type\"], inplace=True)\n",
    "cross: np.array = darwin.query('type == \"cross\"')[\"size\"].to_numpy()\n",
    "self_: np.array = darwin.query('type == \"self\"')[\"size\"].to_numpy()"
   ]
  },
  {
   "cell_type": "markdown",
   "id": "39c011ef",
   "metadata": {},
   "source": [
    "### Visualise the samples"
   ]
  },
  {
   "cell_type": "code",
   "execution_count": 8,
   "id": "48ed9941",
   "metadata": {},
   "outputs": [
    {
     "data": {
      "image/png": "[encoded data removed]",
      "text/plain": [
       "<Figure size 432x288 with 1 Axes>"
      ]
     },
     "metadata": {},
     "output_type": "display_data"
    }
   ],
   "source": [
    "# boxplot of samples\n",
    "ax = sns.boxplot(data=darwin, x=\"size\", y=\"type\")\n",
    "ax.set(xlabel=\"Height (1/8in)\", ylabel=\"Sample\")\n",
    "plt.show()"
   ]
  },
  {
   "cell_type": "code",
   "execution_count": 9,
   "id": "52a156e8",
   "metadata": {},
   "outputs": [
    {
     "data": {
      "image/png": "[encoded data removed]",
      "text/plain": [
       "<Figure size 432x288 with 2 Axes>"
      ]
     },
     "metadata": {},
     "output_type": "display_data"
    }
   ],
   "source": [
    "# probability plot of samples\n",
    "f, axs = plt.subplots(ncols=2, sharey=True)\n",
    "stats.probplot(x=cross, plot=axs[0])\n",
    "axs[0].set(title=\"Probability plot = Cross\")\n",
    "stats.probplot(x=self_, plot=axs[1])\n",
    "axs[1].set(title=\"Probability plot = Self\")\n",
    "plt.show()"
   ]
  },
  {
   "cell_type": "markdown",
   "id": "921dc451",
   "metadata": {},
   "source": [
    "### Start analysis"
   ]
  },
  {
   "cell_type": "code",
   "execution_count": 10,
   "id": "629a5c86-5dd9-4b7e-9dd8-1f54da84c721",
   "metadata": {},
   "outputs": [],
   "source": [
    "# get difference\n",
    "diff: np.array = cross - self_"
   ]
  },
  {
   "cell_type": "code",
   "execution_count": 11,
   "id": "1e849f32-d15f-4f1f-a538-9dfd9fb21e97",
   "metadata": {},
   "outputs": [
    {
     "data": {
      "image/png": "[encoded data removed]",
      "text/plain": [
       "<Figure size 432x288 with 1 Axes>"
      ]
     },
     "metadata": {},
     "output_type": "display_data"
    }
   ],
   "source": [
    "# boxplot of difference\n",
    "ax = sns.boxplot(x=diff)\n",
    "ax.set(xlabel=\"Height difference betwee paired plants (1/8in)\")\n",
    "plt.show()"
   ]
  },
  {
   "cell_type": "code",
   "execution_count": 12,
   "id": "a9e29e6b",
   "metadata": {},
   "outputs": [],
   "source": [
    "# initialise DescrStatsW objects\n",
    "dsw_cross: sm.DescrStatsW = sm.DescrStatsW(data=cross)\n",
    "dsw_self: sm.DescrStatsW = sm.DescrStatsW(data=self_)\n",
    "dsw_diff: sm.DescrStatsW = sm.DescrStatsW(data=diff)"
   ]
  },
  {
   "cell_type": "code",
   "execution_count": 13,
   "id": "b6c3040a-de42-44c1-818c-4a2562372c70",
   "metadata": {},
   "outputs": [
    {
     "data": {
      "text/plain": [
       "Cross(size=15, mean=161.533333, tconfint_mean=(145.509354, 177.557313))"
      ]
     },
     "execution_count": 13,
     "metadata": {},
     "output_type": "execute_result"
    }
   ],
   "source": [
    "describe.TSample(\n",
    "    \"Cross\", dsw_cross.nobs, dsw_cross.mean, dsw_cross.tconfint_mean())"
   ]
  },
  {
   "cell_type": "code",
   "execution_count": 14,
   "id": "c4d70918-ddc5-4909-b4ea-e4f06b8c5df1",
   "metadata": {},
   "outputs": [
    {
     "data": {
      "text/plain": [
       "Self(size=15, mean=140.600000, tconfint_mean=(131.510557, 149.689443))"
      ]
     },
     "execution_count": 14,
     "metadata": {},
     "output_type": "execute_result"
    }
   ],
   "source": [
    "describe.TSample(\n",
    "    \"Self\", dsw_self.nobs, dsw_self.mean, dsw_self.tconfint_mean())"
   ]
  },
  {
   "cell_type": "code",
   "execution_count": 15,
   "id": "ab140ebc",
   "metadata": {},
   "outputs": [
    {
     "data": {
      "text/plain": [
       "Diff(size=15, mean=20.933333, tconfint_mean=(0.031193, 41.835473))"
      ]
     },
     "execution_count": 15,
     "metadata": {},
     "output_type": "execute_result"
    }
   ],
   "source": [
    "describe.TSample(\n",
    "    \"Diff\", dsw_diff.nobs, dsw_diff.mean, dsw_diff.tconfint_mean())"
   ]
  },
  {
   "cell_type": "code",
   "execution_count": 16,
   "id": "1c0b6020",
   "metadata": {},
   "outputs": [
    {
     "data": {
      "text/plain": [
       "ResultSummary(tstat=2.147987, pval=0.049703, dof=14)"
      ]
     },
     "execution_count": 16,
     "metadata": {},
     "output_type": "execute_result"
    }
   ],
   "source": [
    "# run the test\n",
    "tstat, pval, dof = dsw_diff.ttest_mean()\n",
    "summarise.TTest(tstat, pval, dof)"
   ]
  }
 ],
 "metadata": {
  "jupytext": {
   "formats": "py_notebooks///ipynb,scripts///py:percent"
  },
  "kernelspec": {
   "display_name": "Python 3.8",
   "language": "python",
   "name": "python3"
  },
  "language_info": {
   "codemirror_mode": {
    "name": "ipython",
    "version": 3
   },
   "file_extension": ".py",
   "mimetype": "text/x-python",
   "name": "python",
   "nbconvert_exporter": "python",
   "pygments_lexer": "ipython3",
   "version": "3.8.10"
  }
 },
 "nbformat": 4,
 "nbformat_minor": 5
}
