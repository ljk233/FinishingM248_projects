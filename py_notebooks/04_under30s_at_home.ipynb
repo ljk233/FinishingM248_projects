{
 "cells": [
  {
   "cell_type": "code",
   "execution_count": 1,
   "id": "ca971313",
   "metadata": {},
   "outputs": [],
   "source": [
    "# noqa:  E501"
   ]
  },
  {
   "cell_type": "markdown",
   "id": "22c720e6",
   "metadata": {},
   "source": [
    "# Was the number of Under-30s still living at home in Wales in 2014 greater than the national average?  # noqa:  E501\n",
    "\n",
    "## Notes\n",
    "\n",
    "### Question of interest\n",
    "\n",
    "Was the the proportion of under-30s still living at home with their\n",
    "family in Wales in 2014 greater than the national average of 25%?\n",
    "\n",
    "### Data\n",
    "\n",
    "Data in the form of questionnaire results for the ONS in **year**:\n",
    "- Survey size $n=$ 254\n",
    "- Number living at home $x=$ 68\n",
    "- National average $p_{0}=$ 0.25\n",
    "\n",
    "### Method\n",
    "\n",
    "- Data modelled by a normal approximation to the binomial\n",
    "- Point estimate $\\widehat{p}_{W}$ and 95% **z**-interval of\n",
    "  $\\widehat{p}_{W}$ calculated\n",
    "- Performed **test of a proportion**: proption greater than 0.25\n",
    "\n",
    "### Results\n",
    "\n",
    "- $\\widehat{p}_{W}$ and 95% **z**-interval of $\\widehat{p}_{W}$\n",
    "  - `Proportion(p_hat=0.267717, zconfint_prop=(0.213265, 0.322168))`\n",
    "- Test of a proportion result\n",
    "  - `ResultSummary(zstat=0.652071, pval=0.257178)`\n",
    "\n",
    "### Discussion\n",
    "\n",
    "- Null hypothesis is not rejected with **p**-value > 0.1\n",
    "- No evidence that the proportion of young people living at home with\n",
    "  their family in Wales is greater than the national average\n",
    "\n",
    "### Reference\n",
    "\n",
    "-----"
   ]
  },
  {
   "cell_type": "markdown",
   "id": "7e084357",
   "metadata": {},
   "source": [
    "## Results"
   ]
  },
  {
   "cell_type": "markdown",
   "id": "20f4d35e",
   "metadata": {},
   "source": [
    "### Setup the notebook"
   ]
  },
  {
   "cell_type": "code",
   "execution_count": 2,
   "id": "3ede2583",
   "metadata": {},
   "outputs": [],
   "source": [
    "# import packages and modules\n",
    "import statsmodels.stats.proportion as sm\n",
    "import sys"
   ]
  },
  {
   "cell_type": "code",
   "execution_count": 3,
   "id": "2197d624-aa15-4342-aca5-4c24f9461af6",
   "metadata": {},
   "outputs": [],
   "source": [
    "# import custom modules not in root\n",
    "sys.path[0] = \"..\\\\\"  # update path\n",
    "from src import describe, summarise  # noqa: E402"
   ]
  },
  {
   "cell_type": "markdown",
   "id": "dfd14360-360c-491a-980a-f8a2f6a3a342",
   "metadata": {},
   "source": [
    "### Declare the data"
   ]
  },
  {
   "cell_type": "code",
   "execution_count": 4,
   "id": "164c5eeb",
   "metadata": {},
   "outputs": [],
   "source": [
    "x = 68      # number living at home, wales\n",
    "n = 254     # number surveyed, wales\n",
    "p0 = 0.25   # hypothesised proportion, national average"
   ]
  },
  {
   "cell_type": "markdown",
   "id": "297dc51e-7c28-4a22-a573-683bccbf5751",
   "metadata": {},
   "source": [
    "### Analyse the data"
   ]
  },
  {
   "cell_type": "code",
   "execution_count": 5,
   "id": "2cad7da7",
   "metadata": {},
   "outputs": [
    {
     "data": {
      "text/plain": [
       "Proportion(p_hat=0.267717, zconfint_prop=(0.213265, 0.322168))"
      ]
     },
     "execution_count": 5,
     "metadata": {},
     "output_type": "execute_result"
    }
   ],
   "source": [
    "describe.Proportion(x/n, sm.proportion_confint(count=x, nobs=n))"
   ]
  },
  {
   "cell_type": "code",
   "execution_count": 6,
   "id": "46b02bc6",
   "metadata": {},
   "outputs": [
    {
     "data": {
      "text/plain": [
       "ResultSummary(zstat=0.652071, pval=0.257178)"
      ]
     },
     "execution_count": 6,
     "metadata": {},
     "output_type": "execute_result"
    }
   ],
   "source": [
    "# run the test\n",
    "zstat, pval = sm.proportions_ztest(\n",
    "                    count=x,\n",
    "                    nobs=n,\n",
    "                    value=p0,\n",
    "                    prop_var=p0,\n",
    "                    alternative=\"larger\")\n",
    "summarise.PropTest(zstat, pval)"
   ]
  }
 ],
 "metadata": {
  "jupytext": {
   "formats": "py_notebooks///ipynb,scripts///py:percent"
  },
  "kernelspec": {
   "display_name": "Python 3.8",
   "language": "python",
   "name": "python3"
  },
  "language_info": {
   "codemirror_mode": {
    "name": "ipython",
    "version": 3
   },
   "file_extension": ".py",
   "mimetype": "text/x-python",
   "name": "python",
   "nbconvert_exporter": "python",
   "pygments_lexer": "ipython3",
   "version": "3.8.10"
  }
 },
 "nbformat": 4,
 "nbformat_minor": 5
}
