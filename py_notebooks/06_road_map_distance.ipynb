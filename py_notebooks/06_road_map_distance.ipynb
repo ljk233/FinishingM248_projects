{
 "cells": [
  {
   "cell_type": "markdown",
   "id": "890d763c",
   "metadata": {},
   "source": [
    "# Linear modelling: Road distance and map distance\n",
    "\n",
    "## Summary\n",
    "\n",
    "### Question of interest\n",
    "\n",
    "### Data\n",
    "\n",
    "Road, `float` :\n",
    "road distance between two locations in Sheffield\n",
    "\n",
    "Map, `float` :\n",
    "map distance (ie, straight line) between two locations in Sheffield\n",
    "\n",
    "### Method\n",
    "\n",
    "- Data modelled using simple linear regression through the origin\n",
    "- Data, model, and prediction intervals plotted\n",
    "- Assumptions of the distribution of the residuals checked with a\n",
    "  residual plot, normal probability plot, and hypothesis test\n",
    "  $H_{0} : \\beta = 0$\n",
    "\n",
    "### Summary results\n",
    "\n",
    "```python\n",
    "results{'beta': 1.289, 'tstat_beta': 42.803, 'pval_beta': 0.000, \"dof\": 11}\n",
    "```\n",
    "\n",
    "### Discussion\n",
    "\n",
    "### Output\n",
    "\n",
    "<!--Add path to FinishingM248-->\n",
    "\n",
    "### Reference\n",
    "\n",
    "m248.c.act5\n",
    "\n",
    "-----"
   ]
  },
  {
   "cell_type": "markdown",
   "id": "2d6b1b39",
   "metadata": {},
   "source": [
    "## Results"
   ]
  },
  {
   "cell_type": "markdown",
   "id": "54030006",
   "metadata": {},
   "source": [
    "### Setup the notebook"
   ]
  },
  {
   "cell_type": "code",
   "execution_count": 1,
   "id": "b488b08f",
   "metadata": {},
   "outputs": [],
   "source": [
    "# import packages and modules\n",
    "from scipy import stats\n",
    "from statsmodels.sandbox.regression.predstd import wls_prediction_std\n",
    "import statsmodels.api as sm\n",
    "import pandas as pd  # noqa: F401\n",
    "import seaborn as sns\n",
    "import matplotlib.pyplot as plt\n",
    "import sys"
   ]
  },
  {
   "cell_type": "code",
   "execution_count": 2,
   "id": "402d094d",
   "metadata": {},
   "outputs": [],
   "source": [
    "# set seaborn theme\n",
    "sns.set_theme()"
   ]
  },
  {
   "cell_type": "code",
   "execution_count": 3,
   "id": "91af136d-5774-42ca-8706-2d0a06887c72",
   "metadata": {},
   "outputs": [],
   "source": [
    "# import custom modules not in root\n",
    "sys.path[0] = \"..\\\\\"  # update path\n",
    "from src import load, summarise  # noqa: E402"
   ]
  },
  {
   "cell_type": "markdown",
   "id": "98027dfa-a82f-43e7-bc71-d88f1d7028cf",
   "metadata": {},
   "source": [
    "### Import the data"
   ]
  },
  {
   "cell_type": "code",
   "execution_count": 4,
   "id": "52b93040",
   "metadata": {},
   "outputs": [
    {
     "data": {
      "text/html": [
       "<div>\n",
       "<style scoped>\n",
       "    .dataframe tbody tr th:only-of-type {\n",
       "        vertical-align: middle;\n",
       "    }\n",
       "\n",
       "    .dataframe tbody tr th {\n",
       "        vertical-align: top;\n",
       "    }\n",
       "\n",
       "    .dataframe thead th {\n",
       "        text-align: right;\n",
       "    }\n",
       "</style>\n",
       "<table border=\"1\" class=\"dataframe\">\n",
       "  <thead>\n",
       "    <tr style=\"text-align: right;\">\n",
       "      <th></th>\n",
       "      <th>id</th>\n",
       "      <th>type</th>\n",
       "      <th>distance</th>\n",
       "    </tr>\n",
       "  </thead>\n",
       "  <tbody>\n",
       "    <tr>\n",
       "      <th>0</th>\n",
       "      <td>1</td>\n",
       "      <td>road</td>\n",
       "      <td>10.7</td>\n",
       "    </tr>\n",
       "    <tr>\n",
       "      <th>1</th>\n",
       "      <td>2</td>\n",
       "      <td>road</td>\n",
       "      <td>11.7</td>\n",
       "    </tr>\n",
       "    <tr>\n",
       "      <th>2</th>\n",
       "      <td>3</td>\n",
       "      <td>road</td>\n",
       "      <td>6.5</td>\n",
       "    </tr>\n",
       "    <tr>\n",
       "      <th>3</th>\n",
       "      <td>4</td>\n",
       "      <td>road</td>\n",
       "      <td>25.6</td>\n",
       "    </tr>\n",
       "    <tr>\n",
       "      <th>4</th>\n",
       "      <td>5</td>\n",
       "      <td>road</td>\n",
       "      <td>29.4</td>\n",
       "    </tr>\n",
       "  </tbody>\n",
       "</table>\n",
       "</div>"
      ],
      "text/plain": [
       "   id  type  distance\n",
       "0   1  road      10.7\n",
       "1   2  road      11.7\n",
       "2   3  road       6.5\n",
       "3   4  road      25.6\n",
       "4   5  road      29.4"
      ]
     },
     "execution_count": 4,
     "metadata": {},
     "output_type": "execute_result"
    }
   ],
   "source": [
    "distance = load.Data.get(\"road_map_distance\")\n",
    "distance.head()"
   ]
  },
  {
   "cell_type": "code",
   "execution_count": 5,
   "id": "fbd960cd-ae78-4007-b5b8-e9c3d7185a4f",
   "metadata": {},
   "outputs": [
    {
     "data": {
      "text/plain": [
       "id            int64\n",
       "type         object\n",
       "distance    float64\n",
       "dtype: object"
      ]
     },
     "execution_count": 5,
     "metadata": {},
     "output_type": "execute_result"
    }
   ],
   "source": [
    "# check dtypes\n",
    "distance.dtypes"
   ]
  },
  {
   "cell_type": "code",
   "execution_count": 6,
   "id": "9201ad83-d4d7-45c9-aaaa-5b842161c816",
   "metadata": {},
   "outputs": [],
   "source": [
    "# get samples\n",
    "distance.sort_values(by=[\"id\", \"type\"], inplace=True)\n",
    "X = distance.query('type == \"map\"')[\"distance\"].to_numpy()\n",
    "y = distance.query('type == \"road\"')[\"distance\"].to_numpy()"
   ]
  },
  {
   "cell_type": "markdown",
   "id": "04b8a6cb-cac0-45ae-8d3b-a42b9094d960",
   "metadata": {},
   "source": [
    "### Model the data"
   ]
  },
  {
   "cell_type": "code",
   "execution_count": 7,
   "id": "535f02e0-40b8-4517-af41-755e0ec333df",
   "metadata": {},
   "outputs": [],
   "source": [
    "model = sm.OLS(y, X).fit()"
   ]
  },
  {
   "cell_type": "code",
   "execution_count": 8,
   "id": "ec3328f0-a265-47ae-aa49-06f592a0213b",
   "metadata": {},
   "outputs": [
    {
     "data": {
      "text/plain": [
       "1.2890716596160208"
      ]
     },
     "execution_count": 8,
     "metadata": {},
     "output_type": "execute_result"
    }
   ],
   "source": [
    "# get parameters\n",
    "model.params[0]"
   ]
  },
  {
   "cell_type": "markdown",
   "id": "2d29bd9e-e782-4e20-ab9b-fca604879f69",
   "metadata": {},
   "source": [
    "### Visualise the model"
   ]
  },
  {
   "cell_type": "code",
   "execution_count": 9,
   "id": "c8e9f3d9-01e2-46b1-bf15-4e051703d8a1",
   "metadata": {},
   "outputs": [],
   "source": [
    "# get predicted vales and prediction interval\n",
    "model.get_prediction()\n",
    "predstd, pred_iv_l, pred_iv_u = wls_prediction_std(model)"
   ]
  },
  {
   "cell_type": "code",
   "execution_count": 10,
   "id": "b115d373-e7c4-48db-aa17-b49d5923539a",
   "metadata": {},
   "outputs": [
    {
     "data": {
      "image/png": "[encoded data removed]",
      "text/plain": [
       "<Figure size 432x288 with 1 Axes>"
      ]
     },
     "metadata": {},
     "output_type": "display_data"
    }
   ],
   "source": [
    "# plot data and model\n",
    "sns.scatterplot(x=X, y=y, label=\"data\")\n",
    "sns.lineplot(x=X, y=model.predict(), color=\"g\", label=\"prediction\")\n",
    "sns.lineplot(x=X, y=pred_iv_u, color=\"r\", linestyle=\"--\")\n",
    "sns.lineplot(x=X, y=pred_iv_l, color=\"r\", linestyle=\"--\")\n",
    "plt.show()"
   ]
  },
  {
   "cell_type": "markdown",
   "id": "0f629a61",
   "metadata": {},
   "source": [
    "### Check assumptions of residual"
   ]
  },
  {
   "cell_type": "code",
   "execution_count": 11,
   "id": "3757256f-faae-46e6-aebd-5d73e89e50fd",
   "metadata": {},
   "outputs": [
    {
     "data": {
      "image/png": "[encoded data removed]",
      "text/plain": [
       "<Figure size 432x288 with 2 Axes>"
      ]
     },
     "metadata": {},
     "output_type": "display_data"
    }
   ],
   "source": [
    "# residual plot and probability plot\n",
    "f, axs = plt.subplots(ncols=2, sharey=True)\n",
    "sns.scatterplot(x=model.predict(), y=model.resid, ax=axs[0])\n",
    "axs[0].set(xlabel=\"Fitted\", ylabel=\"Residual\", title=\"Residual plot\")\n",
    "axs[0].axhline(y=0, color=\"black\", linestyle=\"--\")\n",
    "stats.probplot(x=model.resid, plot=axs[1])\n",
    "axs[1].set(ylabel=\"Residual\")\n",
    "plt.show()"
   ]
  },
  {
   "cell_type": "code",
   "execution_count": 12,
   "id": "34ca3bbf",
   "metadata": {},
   "outputs": [
    {
     "data": {
      "text/plain": [
       "ResultSummary(tstat=42.803044, pval=0.000000, dof=18)"
      ]
     },
     "execution_count": 12,
     "metadata": {},
     "output_type": "execute_result"
    }
   ],
   "source": [
    "# hypoth test: beta = 0\n",
    "summarise.TTest(model.tvalues[0], model.pvalues[0], len(model.resid)-2)"
   ]
  }
 ],
 "metadata": {
  "jupytext": {
   "formats": "py_notebooks///ipynb,py_scripts///py:percent"
  },
  "kernelspec": {
   "display_name": "Python 3.8",
   "language": "python",
   "name": "python3"
  },
  "language_info": {
   "codemirror_mode": {
    "name": "ipython",
    "version": 3
   },
   "file_extension": ".py",
   "mimetype": "text/x-python",
   "name": "python",
   "nbconvert_exporter": "python",
   "pygments_lexer": "ipython3",
   "version": "3.8.10"
  }
 },
 "nbformat": 4,
 "nbformat_minor": 5
}
