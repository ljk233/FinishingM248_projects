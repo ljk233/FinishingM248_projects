{
 "cells": [
  {
   "cell_type": "markdown",
   "id": "890d763c",
   "metadata": {},
   "source": [
    "# Linear modelling: Road distance and map distance\n",
    "\n",
    "## Summary\n",
    "\n",
    "### Question of interest\n",
    "\n",
    "### Data\n",
    "\n",
    "Road, `float` :\n",
    "road distance between two locations in Sheffield\n",
    "\n",
    "Map, `float` :\n",
    "map distance (ie, straight line) between two locations in Sheffield\n",
    "\n",
    "### Method\n",
    "\n",
    "- Data modelled using simple linear regression through the origin\n",
    "- Data, model, and prediction intervals plotted\n",
    "- Assumptions of the distribution of the residuals checked with a\n",
    "  residual plot, normal probability plot, and hypothesis test\n",
    "  $H_{0} : \\beta = 0$\n",
    "\n",
    "### Summary results\n",
    "\n",
    "```python\n",
    "results{'beta': 1.289, 'tstat_beta': 42.803, 'pval_beta': 0.000, \"dof\": 11}\n",
    "```\n",
    "\n",
    "### Discussion\n",
    "\n",
    "### Output\n",
    "\n",
    "<!--Add path to FinishingM248-->\n",
    "\n",
    "### Reference\n",
    "\n",
    "m248.c.act5\n",
    "\n",
    "-----"
   ]
  },
  {
   "cell_type": "markdown",
   "id": "2d6b1b39",
   "metadata": {},
   "source": [
    "## Results"
   ]
  },
  {
   "cell_type": "markdown",
   "id": "54030006",
   "metadata": {},
   "source": [
    "### Setup the notebook"
   ]
  },
  {
   "cell_type": "code",
   "execution_count": 23,
   "id": "b488b08f",
   "metadata": {},
   "outputs": [],
   "source": [
    "# import packages and modules\n",
    "from scipy import stats\n",
    "from statsmodels.sandbox.regression.predstd import wls_prediction_std\n",
    "import statsmodels.api as sm\n",
    "import sqlite3\n",
    "import pandas as pd\n",
    "import seaborn as sns\n",
    "import matplotlib.pyplot as plt\n",
    "import os"
   ]
  },
  {
   "cell_type": "code",
   "execution_count": 2,
   "id": "402d094d",
   "metadata": {},
   "outputs": [],
   "source": [
    "# set seaborn theme\n",
    "sns.set_theme()"
   ]
  },
  {
   "cell_type": "code",
   "execution_count": 3,
   "id": "91af136d-5774-42ca-8706-2d0a06887c72",
   "metadata": {},
   "outputs": [],
   "source": [
    "# change wkdir and import the data\n",
    "os.chdir(\"..\\\\\")"
   ]
  },
  {
   "cell_type": "markdown",
   "id": "98027dfa-a82f-43e7-bc71-d88f1d7028cf",
   "metadata": {},
   "source": [
    "### Import the data"
   ]
  },
  {
   "cell_type": "code",
   "execution_count": 4,
   "id": "52b93040",
   "metadata": {},
   "outputs": [],
   "source": [
    "conn = sqlite3.connect(\"data\\\\source.db3\")\n",
    "data = pd.read_sql_query(\"SELECT * FROM road_map_distance\", conn)"
   ]
  },
  {
   "cell_type": "code",
   "execution_count": 5,
   "id": "fbd960cd-ae78-4007-b5b8-e9c3d7185a4f",
   "metadata": {},
   "outputs": [
    {
     "data": {
      "text/html": [
       "<div>\n",
       "<style scoped>\n",
       "    .dataframe tbody tr th:only-of-type {\n",
       "        vertical-align: middle;\n",
       "    }\n",
       "\n",
       "    .dataframe tbody tr th {\n",
       "        vertical-align: top;\n",
       "    }\n",
       "\n",
       "    .dataframe thead th {\n",
       "        text-align: right;\n",
       "    }\n",
       "</style>\n",
       "<table border=\"1\" class=\"dataframe\">\n",
       "  <thead>\n",
       "    <tr style=\"text-align: right;\">\n",
       "      <th></th>\n",
       "      <th>Road</th>\n",
       "      <th>Map</th>\n",
       "    </tr>\n",
       "  </thead>\n",
       "  <tbody>\n",
       "    <tr>\n",
       "      <th>0</th>\n",
       "      <td>10.7</td>\n",
       "      <td>9.5</td>\n",
       "    </tr>\n",
       "    <tr>\n",
       "      <th>1</th>\n",
       "      <td>11.7</td>\n",
       "      <td>9.8</td>\n",
       "    </tr>\n",
       "    <tr>\n",
       "      <th>2</th>\n",
       "      <td>6.5</td>\n",
       "      <td>5.0</td>\n",
       "    </tr>\n",
       "    <tr>\n",
       "      <th>3</th>\n",
       "      <td>25.6</td>\n",
       "      <td>19.0</td>\n",
       "    </tr>\n",
       "    <tr>\n",
       "      <th>4</th>\n",
       "      <td>29.4</td>\n",
       "      <td>23.0</td>\n",
       "    </tr>\n",
       "  </tbody>\n",
       "</table>\n",
       "</div>"
      ],
      "text/plain": [
       "   Road   Map\n",
       "0  10.7   9.5\n",
       "1  11.7   9.8\n",
       "2   6.5   5.0\n",
       "3  25.6  19.0\n",
       "4  29.4  23.0"
      ]
     },
     "execution_count": 5,
     "metadata": {},
     "output_type": "execute_result"
    }
   ],
   "source": [
    "data.head()"
   ]
  },
  {
   "cell_type": "code",
   "execution_count": 6,
   "id": "9201ad83-d4d7-45c9-aaaa-5b842161c816",
   "metadata": {},
   "outputs": [
    {
     "data": {
      "text/html": [
       "<div>\n",
       "<style scoped>\n",
       "    .dataframe tbody tr th:only-of-type {\n",
       "        vertical-align: middle;\n",
       "    }\n",
       "\n",
       "    .dataframe tbody tr th {\n",
       "        vertical-align: top;\n",
       "    }\n",
       "\n",
       "    .dataframe thead th {\n",
       "        text-align: right;\n",
       "    }\n",
       "</style>\n",
       "<table border=\"1\" class=\"dataframe\">\n",
       "  <thead>\n",
       "    <tr style=\"text-align: right;\">\n",
       "      <th></th>\n",
       "      <th>count</th>\n",
       "      <th>mean</th>\n",
       "      <th>std</th>\n",
       "      <th>min</th>\n",
       "      <th>25%</th>\n",
       "      <th>50%</th>\n",
       "      <th>75%</th>\n",
       "      <th>max</th>\n",
       "    </tr>\n",
       "  </thead>\n",
       "  <tbody>\n",
       "    <tr>\n",
       "      <th>Road</th>\n",
       "      <td>20.0</td>\n",
       "      <td>20.855</td>\n",
       "      <td>9.611094</td>\n",
       "      <td>6.5</td>\n",
       "      <td>13.575</td>\n",
       "      <td>19.05</td>\n",
       "      <td>28.850</td>\n",
       "      <td>40.5</td>\n",
       "    </tr>\n",
       "    <tr>\n",
       "      <th>Map</th>\n",
       "      <td>20.0</td>\n",
       "      <td>16.130</td>\n",
       "      <td>7.337151</td>\n",
       "      <td>4.8</td>\n",
       "      <td>11.000</td>\n",
       "      <td>14.90</td>\n",
       "      <td>21.775</td>\n",
       "      <td>28.2</td>\n",
       "    </tr>\n",
       "  </tbody>\n",
       "</table>\n",
       "</div>"
      ],
      "text/plain": [
       "      count    mean       std  min     25%    50%     75%   max\n",
       "Road   20.0  20.855  9.611094  6.5  13.575  19.05  28.850  40.5\n",
       "Map    20.0  16.130  7.337151  4.8  11.000  14.90  21.775  28.2"
      ]
     },
     "execution_count": 6,
     "metadata": {},
     "output_type": "execute_result"
    }
   ],
   "source": [
    "data.describe().T"
   ]
  },
  {
   "cell_type": "markdown",
   "id": "04b8a6cb-cac0-45ae-8d3b-a42b9094d960",
   "metadata": {},
   "source": [
    "### Model the data"
   ]
  },
  {
   "cell_type": "code",
   "execution_count": 7,
   "id": "535f02e0-40b8-4517-af41-755e0ec333df",
   "metadata": {},
   "outputs": [],
   "source": [
    "X = data[\"Map\"]\n",
    "y = data[\"Road\"]"
   ]
  },
  {
   "cell_type": "code",
   "execution_count": 8,
   "id": "ec3328f0-a265-47ae-aa49-06f592a0213b",
   "metadata": {},
   "outputs": [
    {
     "data": {
      "text/plain": [
       "Map    1.289072\n",
       "dtype: float64"
      ]
     },
     "execution_count": 8,
     "metadata": {},
     "output_type": "execute_result"
    }
   ],
   "source": [
    "model = sm.OLS(y, X).fit()\n",
    "model.params"
   ]
  },
  {
   "cell_type": "markdown",
   "id": "2d29bd9e-e782-4e20-ab9b-fca604879f69",
   "metadata": {},
   "source": [
    "### Visualise the model"
   ]
  },
  {
   "cell_type": "code",
   "execution_count": 45,
   "id": "c8e9f3d9-01e2-46b1-bf15-4e051703d8a1",
   "metadata": {},
   "outputs": [
    {
     "data": {
      "text/plain": [
       "<bound method RegressionResults.get_prediction of <statsmodels.regression.linear_model.OLSResults object at 0x00000115AF412910>>"
      ]
     },
     "execution_count": 45,
     "metadata": {},
     "output_type": "execute_result"
    }
   ],
   "source": [
    "model.get_prediction()"
   ]
  },
  {
   "cell_type": "code",
   "execution_count": 33,
   "id": "b115d373-e7c4-48db-aa17-b49d5923539a",
   "metadata": {},
   "outputs": [],
   "source": [
    "# get prediction interval for mean response\n",
    "predstd, pred_iv_l, pred_iv_u  = sm_pred(model)"
   ]
  },
  {
   "cell_type": "code",
   "execution_count": 48,
   "id": "3757256f-faae-46e6-aebd-5d73e89e50fd",
   "metadata": {},
   "outputs": [
    {
     "data": {
      "image/png": "[encoded data removed]",
      "text/plain": [
       "<Figure size 720x432 with 1 Axes>"
      ]
     },
     "metadata": {},
     "output_type": "display_data"
    }
   ],
   "source": [
    "# plot data and model\n",
    "plt.subplots(figsize=(10,6))\n",
    "sns.scatterplot(x=X, y=y, label=\"data\")\n",
    "sns.lineplot(x=X, y=model.predict(), color=\"g\", label=\"prediction\")\n",
    "# add predint mean response\n",
    "sns.lineplot(x=X, y=pred_iv_u, color=\"r\", linestyle=\"--\")\n",
    "sns.lineplot(x=X, y=pred_iv_l, color=\"r\", linestyle=\"--\")\n",
    "os.chdir(\"figures\")\n",
    "plt.savefig(\"distance_fig1\")\n",
    "os.chdir(\"..\")\n",
    "plt.show()"
   ]
  },
  {
   "cell_type": "markdown",
   "id": "98a01907-390c-4606-af65-8d8cc221610e",
   "metadata": {},
   "source": [
    "### Check assumptions of residual values"
   ]
  },
  {
   "cell_type": "code",
   "execution_count": 21,
   "id": "764c7c6e-e8c0-4fa4-ab63-b7e4194f0c3e",
   "metadata": {},
   "outputs": [
    {
     "data": {
      "image/png": "[encoded data removed]",
      "text/plain": [
       "<Figure size 864x432 with 2 Axes>"
      ]
     },
     "metadata": {},
     "output_type": "display_data"
    }
   ],
   "source": [
    "# residual plot and probability plot\n",
    "f, axs = plt.subplots(ncols=2, figsize=(12, 6), sharey=True)\n",
    "sns.scatterplot(x=model.predict(), y=model.resid, ax=axs[0])\n",
    "axs[0].set(xlabel=\"Fitted\", ylabel=\"Residual\", title=\"Residual plot\")\n",
    "axs[0].axhline(y=0, color=\"black\", linestyle=\"--\")\n",
    "stats.probplot(x=model.resid, plot=axs[1])\n",
    "axs[1].set(ylabel=\"Residual\")\n",
    "os.chdir(\"figures\")\n",
    "plt.savefig(\"distance_fig2\")\n",
    "os.chdir(\"..\")\n",
    "plt.show()"
   ]
  },
  {
   "cell_type": "code",
   "execution_count": 12,
   "id": "f0762353-b6fc-4875-b998-4768e9690c77",
   "metadata": {},
   "outputs": [],
   "source": [
    "# hypoth test: beta = 0\n",
    "tstat, pval = model.tvalues[0], model.pvalues[0]"
   ]
  },
  {
   "cell_type": "code",
   "execution_count": 13,
   "id": "fa3e5fc9-5310-4828-a103-ffef89848c3c",
   "metadata": {},
   "outputs": [
    {
     "data": {
      "text/plain": [
       "(42.803044497295, 2.325153186257358e-20)"
      ]
     },
     "execution_count": 13,
     "metadata": {},
     "output_type": "execute_result"
    }
   ],
   "source": [
    "tstat, pval"
   ]
  }
 ],
 "metadata": {
  "jupytext": {
   "formats": "py_notebooks///ipynb,scripts///py:percent"
  },
  "kernelspec": {
   "display_name": "Python 3.8",
   "language": "python",
   "name": "python3"
  },
  "language_info": {
   "codemirror_mode": {
    "name": "ipython",
    "version": 3
   },
   "file_extension": ".py",
   "mimetype": "text/x-python",
   "name": "python",
   "nbconvert_exporter": "python",
   "pygments_lexer": "ipython3",
   "version": "3.8.10"
  }
 },
 "nbformat": 4,
 "nbformat_minor": 5
}
