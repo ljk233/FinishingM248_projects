{
 "cells": [
  {
   "cell_type": "markdown",
   "id": "e8a8c22f-3751-45a5-976c-20aea382853a",
   "metadata": {},
   "source": [
    "# Laurel and Hardy films"
   ]
  },
  {
   "cell_type": "markdown",
   "id": "78b91a68-91f1-412d-89af-7d4020273318",
   "metadata": {},
   "source": [
    "## Results"
   ]
  },
  {
   "cell_type": "markdown",
   "id": "a87d87ae-e97d-4ab2-825b-97495bb625a1",
   "metadata": {},
   "source": [
    "### Setup the notebook"
   ]
  },
  {
   "cell_type": "code",
   "execution_count": 1,
   "id": "e993d918-d333-4016-b135-b47035a564d3",
   "metadata": {},
   "outputs": [],
   "source": [
    "# import packages and modules\n",
    "from scipy import stats\n",
    "import pandas as pd\n",
    "import seaborn as sns\n",
    "import matplotlib.pyplot as plt\n",
    "import sys"
   ]
  },
  {
   "cell_type": "code",
   "execution_count": 2,
   "id": "34d83d19-bf10-4549-994e-87d3e523565e",
   "metadata": {},
   "outputs": [],
   "source": [
    "# set default seaborn theme\n",
    "sns.set_theme()"
   ]
  },
  {
   "cell_type": "code",
   "execution_count": 3,
   "id": "7a6e82e4-0966-473d-8e89-9a88b574f15f",
   "metadata": {},
   "outputs": [],
   "source": [
    "# import custom modules not in root\n",
    "sys.path[0] = \"..\\\\\"  # update path\n",
    "from src import load  # noqa: E402"
   ]
  },
  {
   "cell_type": "markdown",
   "id": "2494e3b4-9d33-4219-88c4-f49a1ecf7871",
   "metadata": {},
   "source": [
    "### Import the data"
   ]
  },
  {
   "cell_type": "code",
   "execution_count": 4,
   "id": "29927a93-fd20-4307-a570-8a0171dad5ab",
   "metadata": {},
   "outputs": [
    {
     "data": {
      "text/html": [
       "<div>\n",
       "<style scoped>\n",
       "    .dataframe tbody tr th:only-of-type {\n",
       "        vertical-align: middle;\n",
       "    }\n",
       "\n",
       "    .dataframe tbody tr th {\n",
       "        vertical-align: top;\n",
       "    }\n",
       "\n",
       "    .dataframe thead th {\n",
       "        text-align: right;\n",
       "    }\n",
       "</style>\n",
       "<table border=\"1\" class=\"dataframe\">\n",
       "  <thead>\n",
       "    <tr style=\"text-align: right;\">\n",
       "      <th></th>\n",
       "      <th>type</th>\n",
       "      <th>time</th>\n",
       "    </tr>\n",
       "  </thead>\n",
       "  <tbody>\n",
       "    <tr>\n",
       "      <th>0</th>\n",
       "      <td>Silent</td>\n",
       "      <td>2.9</td>\n",
       "    </tr>\n",
       "    <tr>\n",
       "      <th>1</th>\n",
       "      <td>Silent</td>\n",
       "      <td>3.2</td>\n",
       "    </tr>\n",
       "    <tr>\n",
       "      <th>2</th>\n",
       "      <td>Silent</td>\n",
       "      <td>3.3</td>\n",
       "    </tr>\n",
       "    <tr>\n",
       "      <th>3</th>\n",
       "      <td>Silent</td>\n",
       "      <td>3.3</td>\n",
       "    </tr>\n",
       "    <tr>\n",
       "      <th>4</th>\n",
       "      <td>Silent</td>\n",
       "      <td>3.3</td>\n",
       "    </tr>\n",
       "  </tbody>\n",
       "</table>\n",
       "</div>"
      ],
      "text/plain": [
       "     type  time\n",
       "0  Silent   2.9\n",
       "1  Silent   3.2\n",
       "2  Silent   3.3\n",
       "3  Silent   3.3\n",
       "4  Silent   3.3"
      ]
     },
     "execution_count": 4,
     "metadata": {},
     "output_type": "execute_result"
    }
   ],
   "source": [
    "# get data\n",
    "laurel_hardy: pd.DataFrame = load.Data.get(\"laurel_hardy\")\n",
    "laurel_hardy.head()"
   ]
  },
  {
   "cell_type": "code",
   "execution_count": 5,
   "id": "e0f5d4ae-c4e5-4863-9203-7523c7e7f79f",
   "metadata": {},
   "outputs": [
    {
     "data": {
      "text/plain": [
       "type     object\n",
       "time    float64\n",
       "dtype: object"
      ]
     },
     "execution_count": 5,
     "metadata": {},
     "output_type": "execute_result"
    }
   ],
   "source": [
    "# check dtypes\n",
    "laurel_hardy.dtypes"
   ]
  },
  {
   "cell_type": "code",
   "execution_count": 6,
   "id": "101526a4-4ceb-4840-a6ea-0f46e78e075c",
   "metadata": {},
   "outputs": [],
   "source": [
    "# get samples as series\n",
    "silent: pd.Series = laurel_hardy.query('type == \"Silent\"')[\"time\"]\n",
    "sound: pd.Series = laurel_hardy.query('type == \"Sound\"')[\"time\"]"
   ]
  },
  {
   "cell_type": "markdown",
   "id": "525c9eb4-f44e-41ba-85e1-e12e06d52bd1",
   "metadata": {},
   "source": [
    "### Visualise the sample"
   ]
  },
  {
   "cell_type": "code",
   "execution_count": 7,
   "id": "e91a97fe-bd98-4d99-8b46-ef6c985db9a8",
   "metadata": {},
   "outputs": [
    {
     "data": {
      "image/png": "[encoded data removed]",
      "text/plain": [
       "<Figure size 432x288 with 1 Axes>"
      ]
     },
     "metadata": {},
     "output_type": "display_data"
    }
   ],
   "source": [
    "# boxplot of difference\n",
    "ax = sns.boxplot(x=laurel_hardy[\"time\"], y=laurel_hardy[\"type\"])\n",
    "plt.show()"
   ]
  },
  {
   "cell_type": "code",
   "execution_count": 8,
   "id": "90c6321e-6eb7-45f7-90cc-fa681a2c91cc",
   "metadata": {},
   "outputs": [
    {
     "data": {
      "image/png": "[encoded data removed]",
      "text/plain": [
       "<Figure size 432x288 with 2 Axes>"
      ]
     },
     "metadata": {},
     "output_type": "display_data"
    }
   ],
   "source": [
    "# probability plots\n",
    "f, axs = plt.subplots(ncols=2, sharey=True)\n",
    "stats.probplot(x=silent, plot=axs[0])\n",
    "axs[0].set(title=\"Probability plot = Silent\")\n",
    "stats.probplot(x=sound, plot=axs[1])\n",
    "axs[1].set(title=\"Probability plot = Sound\")\n",
    "plt.show()"
   ]
  },
  {
   "cell_type": "markdown",
   "id": "7dbaa4ff-2a8f-495d-bbcb-c1e3da29b8d8",
   "metadata": {},
   "source": [
    "### Analyse the data"
   ]
  },
  {
   "cell_type": "code",
   "execution_count": 9,
   "id": "beebd7d8-66ef-4ed9-bfe6-3d9de6a70d43",
   "metadata": {},
   "outputs": [
    {
     "data": {
      "text/plain": [
       "MannwhitneyuResult(statistic=56.0, pvalue=0.012092601579297233)"
      ]
     },
     "execution_count": 9,
     "metadata": {},
     "output_type": "execute_result"
    }
   ],
   "source": [
    "stats.mannwhitneyu(\n",
    "    x=silent, y=sound, use_continuity=False, method=\"asymptotic\")"
   ]
  }
 ],
 "metadata": {
  "jupytext": {
   "formats": "py_notebooks///ipynb,py_scripts///py:percent"
  },
  "kernelspec": {
   "display_name": "Python 3.8",
   "language": "python",
   "name": "python3"
  },
  "language_info": {
   "codemirror_mode": {
    "name": "ipython",
    "version": 3
   },
   "file_extension": ".py",
   "mimetype": "text/x-python",
   "name": "python",
   "nbconvert_exporter": "python",
   "pygments_lexer": "ipython3",
   "version": "3.8.10"
  }
 },
 "nbformat": 4,
 "nbformat_minor": 5
}
