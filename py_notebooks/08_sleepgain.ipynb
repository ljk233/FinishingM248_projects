{
 "cells": [
  {
   "cell_type": "markdown",
   "id": "e8a8c22f-3751-45a5-976c-20aea382853a",
   "metadata": {},
   "source": [
    "# Wilcoxon\n",
    "\n",
    "## Summary\n",
    "\n",
    "**description**\n",
    ": \"wilcoxon sign-rank\""
   ]
  },
  {
   "cell_type": "markdown",
   "id": "78b91a68-91f1-412d-89af-7d4020273318",
   "metadata": {},
   "source": [
    "## Results"
   ]
  },
  {
   "cell_type": "markdown",
   "id": "a87d87ae-e97d-4ab2-825b-97495bb625a1",
   "metadata": {},
   "source": [
    "### Setup the notebook"
   ]
  },
  {
   "cell_type": "code",
   "execution_count": 1,
   "id": "e993d918-d333-4016-b135-b47035a564d3",
   "metadata": {},
   "outputs": [],
   "source": [
    "# import packages and modules\n",
    "from scipy import stats\n",
    "import pandas as pd\n",
    "import numpy as np\n",
    "import seaborn as sns\n",
    "import matplotlib.pyplot as plt\n",
    "import sys"
   ]
  },
  {
   "cell_type": "code",
   "execution_count": 2,
   "id": "34d83d19-bf10-4549-994e-87d3e523565e",
   "metadata": {},
   "outputs": [],
   "source": [
    "# set default seaborn theme\n",
    "sns.set_theme()"
   ]
  },
  {
   "cell_type": "code",
   "execution_count": 3,
   "id": "8896b37c-aef0-403b-a9f2-7d538fcd03fb",
   "metadata": {},
   "outputs": [],
   "source": [
    "# import custom modules not in root\n",
    "sys.path[0] = \"..\\\\\"  # update path\n",
    "from src import load  # noqa: E402"
   ]
  },
  {
   "cell_type": "markdown",
   "id": "a7096679",
   "metadata": {},
   "source": [
    "### Import the data"
   ]
  },
  {
   "cell_type": "code",
   "execution_count": 4,
   "id": "d8ef878d-c291-4778-8cc6-3522aea092e2",
   "metadata": {},
   "outputs": [
    {
     "data": {
      "text/html": [
       "<div>\n",
       "<style scoped>\n",
       "    .dataframe tbody tr th:only-of-type {\n",
       "        vertical-align: middle;\n",
       "    }\n",
       "\n",
       "    .dataframe tbody tr th {\n",
       "        vertical-align: top;\n",
       "    }\n",
       "\n",
       "    .dataframe thead th {\n",
       "        text-align: right;\n",
       "    }\n",
       "</style>\n",
       "<table border=\"1\" class=\"dataframe\">\n",
       "  <thead>\n",
       "    <tr style=\"text-align: right;\">\n",
       "      <th></th>\n",
       "      <th>id</th>\n",
       "      <th>treatment</th>\n",
       "      <th>sleep_gain</th>\n",
       "    </tr>\n",
       "  </thead>\n",
       "  <tbody>\n",
       "    <tr>\n",
       "      <th>0</th>\n",
       "      <td>1</td>\n",
       "      <td>Ltreatment</td>\n",
       "      <td>1.9</td>\n",
       "    </tr>\n",
       "    <tr>\n",
       "      <th>1</th>\n",
       "      <td>2</td>\n",
       "      <td>Ltreatment</td>\n",
       "      <td>0.8</td>\n",
       "    </tr>\n",
       "    <tr>\n",
       "      <th>2</th>\n",
       "      <td>3</td>\n",
       "      <td>Ltreatment</td>\n",
       "      <td>1.1</td>\n",
       "    </tr>\n",
       "    <tr>\n",
       "      <th>3</th>\n",
       "      <td>4</td>\n",
       "      <td>Ltreatment</td>\n",
       "      <td>0.1</td>\n",
       "    </tr>\n",
       "    <tr>\n",
       "      <th>4</th>\n",
       "      <td>5</td>\n",
       "      <td>Ltreatment</td>\n",
       "      <td>-0.1</td>\n",
       "    </tr>\n",
       "  </tbody>\n",
       "</table>\n",
       "</div>"
      ],
      "text/plain": [
       "   id   treatment  sleep_gain\n",
       "0   1  Ltreatment         1.9\n",
       "1   2  Ltreatment         0.8\n",
       "2   3  Ltreatment         1.1\n",
       "3   4  Ltreatment         0.1\n",
       "4   5  Ltreatment        -0.1"
      ]
     },
     "execution_count": 4,
     "metadata": {},
     "output_type": "execute_result"
    }
   ],
   "source": [
    "# get data\n",
    "sleep_gain: pd.DataFrame = load.Data.get(\"sleep_gain\")\n",
    "sleep_gain.head()"
   ]
  },
  {
   "cell_type": "code",
   "execution_count": 5,
   "id": "2d7a7a67",
   "metadata": {},
   "outputs": [
    {
     "data": {
      "text/plain": [
       "id              int64\n",
       "treatment      object\n",
       "sleep_gain    float64\n",
       "dtype: object"
      ]
     },
     "execution_count": 5,
     "metadata": {},
     "output_type": "execute_result"
    }
   ],
   "source": [
    "# check dtypes\n",
    "sleep_gain.dtypes"
   ]
  },
  {
   "cell_type": "code",
   "execution_count": 6,
   "id": "028ce9d9",
   "metadata": {},
   "outputs": [],
   "source": [
    "# get samples\n",
    "sleep_gain.sort_values(by=[\"id\", \"treatment\"], inplace=True)\n",
    "ltreat: np.array = sleep_gain.query(\n",
    "    'treatment == \"Ltreatment\"')[\"sleep_gain\"].to_numpy()\n",
    "dtreat: np.array = sleep_gain.query(\n",
    "    'treatment == \"Dtreatment\"')[\"sleep_gain\"].to_numpy()\n",
    "diff_treat: np.array = ltreat - dtreat"
   ]
  },
  {
   "cell_type": "markdown",
   "id": "525c9eb4-f44e-41ba-85e1-e12e06d52bd1",
   "metadata": {},
   "source": [
    "### Visualise the sample"
   ]
  },
  {
   "cell_type": "code",
   "execution_count": 7,
   "id": "e91a97fe-bd98-4d99-8b46-ef6c985db9a8",
   "metadata": {},
   "outputs": [
    {
     "data": {
      "image/png": "[encoded data removed]",
      "text/plain": [
       "<Figure size 432x288 with 1 Axes>"
      ]
     },
     "metadata": {},
     "output_type": "display_data"
    }
   ],
   "source": [
    "# boxplot of difference\n",
    "ax = sns.boxplot(data=sleep_gain, x=\"sleep_gain\", y=\"treatment\")\n",
    "ax.set(xlabel=\"Time\", ylabel=\"Treatment\")\n",
    "plt.show()"
   ]
  },
  {
   "cell_type": "code",
   "execution_count": 8,
   "id": "90c6321e-6eb7-45f7-90cc-fa681a2c91cc",
   "metadata": {},
   "outputs": [
    {
     "data": {
      "image/png": "[encoded data removed]",
      "text/plain": [
       "<Figure size 432x288 with 2 Axes>"
      ]
     },
     "metadata": {},
     "output_type": "display_data"
    }
   ],
   "source": [
    "# probability plots\n",
    "f, axs = plt.subplots(ncols=2, sharey=True)\n",
    "stats.probplot(x=ltreat, plot=axs[0])\n",
    "stats.probplot(x=dtreat, plot=axs[1])\n",
    "axs[0].set(title=\"Probability plot = Ltreatment\")\n",
    "axs[1].set(title=\"Probability plot = Dtreatment\")\n",
    "plt.show()"
   ]
  },
  {
   "cell_type": "markdown",
   "id": "7dbaa4ff-2a8f-495d-bbcb-c1e3da29b8d8",
   "metadata": {},
   "source": [
    "### Analyse the data"
   ]
  },
  {
   "cell_type": "code",
   "execution_count": 9,
   "id": "de3d20d2-7e08-4361-9f82-aeb12f1b20d6",
   "metadata": {},
   "outputs": [
    {
     "data": {
      "text/plain": [
       "0"
      ]
     },
     "execution_count": 9,
     "metadata": {},
     "output_type": "execute_result"
    }
   ],
   "source": [
    "# ltreat: check observations equal to 0\n",
    "count: int = 0\n",
    "for check in ltreat == 0:\n",
    "    if check == True:\n",
    "        count += 1\n",
    "count"
   ]
  },
  {
   "cell_type": "code",
   "execution_count": 10,
   "id": "3b468d54-dcaf-41a8-ba6c-8c55724b53ce",
   "metadata": {},
   "outputs": [
    {
     "data": {
      "text/plain": [
       "WilcoxonResult(statistic=53.5, pvalue=0.0029296875)"
      ]
     },
     "execution_count": 10,
     "metadata": {},
     "output_type": "execute_result"
    }
   ],
   "source": [
    "stats.wilcoxon(x=ltreat, alternative=\"greater\")"
   ]
  },
  {
   "cell_type": "code",
   "execution_count": 11,
   "id": "45c1ac30-fe7e-4ea3-80aa-85fdb27260f7",
   "metadata": {},
   "outputs": [
    {
     "data": {
      "text/plain": [
       "1"
      ]
     },
     "execution_count": 11,
     "metadata": {},
     "output_type": "execute_result"
    }
   ],
   "source": [
    "# dtreat: check observations equal to 0\n",
    "count: int = 0\n",
    "for check in dtreat == 0:\n",
    "    if check == True:\n",
    "        count += 1\n",
    "count"
   ]
  },
  {
   "cell_type": "code",
   "execution_count": 18,
   "id": "b9566f25-2647-4a1f-8ff6-556b57b5a26a",
   "metadata": {},
   "outputs": [
    {
     "data": {
      "text/plain": [
       "WilcoxonResult(statistic=31.0, pvalue=0.1569690468874574)"
      ]
     },
     "execution_count": 18,
     "metadata": {},
     "output_type": "execute_result"
    }
   ],
   "source": [
    "stats.wilcoxon(x=dtreat, alternative=\"greater\")"
   ]
  },
  {
   "cell_type": "code",
   "execution_count": 13,
   "id": "99ec27ea-5b5b-488c-9987-0bb6d127c393",
   "metadata": {},
   "outputs": [],
   "source": [
    "# get difference\n",
    "diff = ltreat - dtreat"
   ]
  },
  {
   "cell_type": "code",
   "execution_count": 19,
   "id": "2d85544d-5fb2-4e35-acb4-b18f468eca2f",
   "metadata": {},
   "outputs": [
    {
     "data": {
      "text/plain": [
       "WilcoxonResult(statistic=0.0, pvalue=0.007632441648205508)"
      ]
     },
     "execution_count": 19,
     "metadata": {},
     "output_type": "execute_result"
    }
   ],
   "source": [
    "stats.wilcoxon(x=diff_treat)"
   ]
  }
 ],
 "metadata": {
  "jupytext": {
   "formats": "py_notebooks///ipynb,scripts///py:percent"
  },
  "kernelspec": {
   "display_name": "Python 3.8",
   "language": "python",
   "name": "python3"
  },
  "language_info": {
   "codemirror_mode": {
    "name": "ipython",
    "version": 3
   },
   "file_extension": ".py",
   "mimetype": "text/x-python",
   "name": "python",
   "nbconvert_exporter": "python",
   "pygments_lexer": "ipython3",
   "version": "3.8.10"
  }
 },
 "nbformat": 4,
 "nbformat_minor": 5
}
