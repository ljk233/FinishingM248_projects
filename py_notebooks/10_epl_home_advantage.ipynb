{
 "cells": [
  {
   "cell_type": "markdown",
   "id": "a47cd3b1",
   "metadata": {},
   "source": [
    "# Analysing the home advantage in the English Premier Leage\n",
    "\n",
    "## Notes\n",
    "\n",
    "### Question of interest\n",
    "\n",
    "#### Claim #1\n",
    "\n",
    "It is a common refrain that home teams enjoy an advantage over their\n",
    "away team opponents.\n",
    "In the first analysis, we test if there is such a thing as a *home\n",
    "team advantage* by testing if the proportion of games won by the home\n",
    "team in the  17/18, 18/19, and 20/21 EPL seasons was greater than a\n",
    "third.\n",
    "\n",
    "#### Claim #2\n",
    "\n",
    "The coronavirus panademic meant that all game in the English Premier\n",
    "League we played in front of empty stadiums.\n",
    "It is claimed that this resulted in a diminishing of the home team\n",
    "advantage.\n",
    "In the second analysis, we test if the proportion of home team wins\n",
    "in the 17/18 and 18/19 seasons (*pre-COVID*) was equal to that of the\n",
    "20/21 season (*post-COVID*).\n",
    "\n",
    "### Data\n",
    "\n",
    "- Data comprised of the full results for the 18/18, 18/19, and 20/21\n",
    "  seasons\n",
    "- Data fields\n",
    "  - **game_id** `int` : game number, unique per season\n",
    "  - **season** `int` : the season of the game, one of\n",
    "    [1718, 1819, 2021]\n",
    "  - **homegoals** `int` : number of goals scored by the home team\n",
    "  - **awaygoals** `int` : number of goals scored by the away team\n",
    "\n",
    "### Method\n",
    "\n",
    "- Data comprised on 1140 game results\n",
    "- Identified the result of the game, home win or not\n",
    "  - Calculated the goal difference (homegoals - awaygoals)\n",
    "  - If goal difference > 0, then home win, else not home win\n",
    "- Each sample modelled by a normal approximation to the binomial\n",
    "  - Justified by the sample sizes (size == 380)\n",
    "- **Claim #1**\n",
    "  - Calculated the proportion of games won by the home team, and 95%\n",
    "    **z**-interval for the proportion\n",
    "  - Tested the hypothesis that the proportion of games won by the\n",
    "    home team is equal to 1/3\n",
    "- **Claim #2**\n",
    "  - Calcuated the proportion  won by the home team, and 95%\n",
    "    **z**-interval for the proportion for the combined 17/18\n",
    "    and 18/19 seasons (*pre-COVID*)\n",
    "  - Tested the hypothesis that the proportion of games won by the\n",
    "    home\n",
    "    team in the 17/18 and 18/19 seasons was equal to that of the\n",
    "    20/21 season\n",
    "\n",
    "### Results\n",
    "\n",
    "- **Claim #1**\n",
    "  - Each sample comprised of 380 observations\n",
    "  - Season: 17/18\n",
    "    - `homewins=173`\n",
    "    - `Proportion(p_hat=0.455263, zconfint_prop=(0.405193, 0.505334))`\n",
    "    - `ResultSummary(zstat=5.042060, pval=0.000000)`\n",
    "  - Season: 18/19\n",
    "    - `homewins=181`\n",
    "    - `Proportion(p_hat=0.476316, zconfint_prop=(0.426100, 0.526531))`\n",
    "    - `ResultSummary(zstat=5.912631, pval=0.000000)`\n",
    "  - Season: 20/21\n",
    "    - `homewins=144`\n",
    "    - `Proportion(p_hat=0.378947, zconfint_prop=(0.330171, 0.427724))`\n",
    "    - `ResultSummary(zstat=1.886238, pval=0.029631)`\n",
    "- **Claim #2**\n",
    "  - Pre-COVID sample size = 760\n",
    "  - Description of Pre-COVID season\n",
    "    - `homewins=354`\n",
    "    - `Proportion(p_hat=0.455263, zconfint_prop=(0.405193, 0.505334))`\n",
    "  - Hypothesis test results\n",
    "    - `ResultSummary(zstat=2.810184, pval=0.004951)`\n",
    "\n",
    "### Discussion\n",
    "\n",
    "- **Claim #1**\n",
    "  - For the pre-COVID seasons, very strong evidence against the\n",
    "    hypothesis that the proportion of games won by the home team is\n",
    "    equal to a third\n",
    "  - For the post-COVID season, only moderate evidence against the\n",
    "    hypothesis that the proportion of games won by the home team is\n",
    "    equal to a third\n",
    "  - All three samples suggest that the home team do enjoy an\n",
    "    advantage over the visitors\n",
    "  - However, post-COVID sample provides relatively weaker evidence\n",
    "    against the null hypothesis\n",
    "  - Suggests that there may have been a weakening of the home\n",
    "    advantage post-COVID\n",
    "- **Claim #2**\n",
    "  - Given **p**-value < 0.01, there is strong evidence against the\n",
    "    null hypothesis\n",
    "  - Data suggests that the proportion of games won by the home team\n",
    "    pre-COVID is not equal to the proportion post-COVID\n",
    "  - With a positive **z**-value, data suggests that the pre-COVID\n",
    "    seasons had a higher proportion of home wins compared to\n",
    "    post-COVID"
   ]
  },
  {
   "cell_type": "markdown",
   "id": "91191176-333a-435f-9e3c-948cdc118575",
   "metadata": {},
   "source": [
    "## Full results"
   ]
  },
  {
   "cell_type": "markdown",
   "id": "58162e12-4873-43f4-b866-2f0d1436379e",
   "metadata": {},
   "source": [
    "### Setup the notebook"
   ]
  },
  {
   "cell_type": "code",
   "execution_count": 1,
   "id": "48ef25bf",
   "metadata": {},
   "outputs": [],
   "source": [
    "# import packages and modules\n",
    "import statsmodels.stats.proportion as sm\n",
    "import pandas as pd\n",
    "import sys"
   ]
  },
  {
   "cell_type": "code",
   "execution_count": 2,
   "id": "86506fe9",
   "metadata": {},
   "outputs": [],
   "source": [
    "# import custom modules not in root\n",
    "sys.path[0] = \"..\\\\\"  # update path\n",
    "from src import load, describe, summarise  # noqa: E402"
   ]
  },
  {
   "cell_type": "code",
   "execution_count": 3,
   "id": "71647e03",
   "metadata": {},
   "outputs": [],
   "source": [
    "# declare functions\n",
    "def is_home_win(x: int) -> int:\n",
    "    if x > 0:\n",
    "        return 1\n",
    "    else:\n",
    "        return 0"
   ]
  },
  {
   "cell_type": "markdown",
   "id": "379ec784",
   "metadata": {},
   "source": [
    "### Import the data"
   ]
  },
  {
   "cell_type": "code",
   "execution_count": 4,
   "id": "cc67ee33",
   "metadata": {},
   "outputs": [],
   "source": [
    "# get data\n",
    "epl: pd.DataFrame = load.Data.get(\"epl_results\")"
   ]
  },
  {
   "cell_type": "code",
   "execution_count": 5,
   "id": "0361a7ff",
   "metadata": {},
   "outputs": [
    {
     "data": {
      "text/html": [
       "<div>\n",
       "<style scoped>\n",
       "    .dataframe tbody tr th:only-of-type {\n",
       "        vertical-align: middle;\n",
       "    }\n",
       "\n",
       "    .dataframe tbody tr th {\n",
       "        vertical-align: top;\n",
       "    }\n",
       "\n",
       "    .dataframe thead th {\n",
       "        text-align: right;\n",
       "    }\n",
       "</style>\n",
       "<table border=\"1\" class=\"dataframe\">\n",
       "  <thead>\n",
       "    <tr style=\"text-align: right;\">\n",
       "      <th></th>\n",
       "      <th>game_id</th>\n",
       "      <th>season</th>\n",
       "      <th>homegoals</th>\n",
       "      <th>awaygoals</th>\n",
       "    </tr>\n",
       "  </thead>\n",
       "  <tbody>\n",
       "    <tr>\n",
       "      <th>0</th>\n",
       "      <td>1</td>\n",
       "      <td>1718</td>\n",
       "      <td>4</td>\n",
       "      <td>3</td>\n",
       "    </tr>\n",
       "    <tr>\n",
       "      <th>1</th>\n",
       "      <td>2</td>\n",
       "      <td>1718</td>\n",
       "      <td>0</td>\n",
       "      <td>2</td>\n",
       "    </tr>\n",
       "    <tr>\n",
       "      <th>2</th>\n",
       "      <td>3</td>\n",
       "      <td>1718</td>\n",
       "      <td>2</td>\n",
       "      <td>3</td>\n",
       "    </tr>\n",
       "    <tr>\n",
       "      <th>3</th>\n",
       "      <td>4</td>\n",
       "      <td>1718</td>\n",
       "      <td>0</td>\n",
       "      <td>3</td>\n",
       "    </tr>\n",
       "    <tr>\n",
       "      <th>4</th>\n",
       "      <td>5</td>\n",
       "      <td>1718</td>\n",
       "      <td>1</td>\n",
       "      <td>0</td>\n",
       "    </tr>\n",
       "  </tbody>\n",
       "</table>\n",
       "</div>"
      ],
      "text/plain": [
       "   game_id  season  homegoals  awaygoals\n",
       "0        1    1718          4          3\n",
       "1        2    1718          0          2\n",
       "2        3    1718          2          3\n",
       "3        4    1718          0          3\n",
       "4        5    1718          1          0"
      ]
     },
     "execution_count": 5,
     "metadata": {},
     "output_type": "execute_result"
    }
   ],
   "source": [
    "# preview data\n",
    "epl.head()"
   ]
  },
  {
   "cell_type": "code",
   "execution_count": 6,
   "id": "1a231e7a",
   "metadata": {},
   "outputs": [
    {
     "data": {
      "text/plain": [
       "game_id      int64\n",
       "season       int64\n",
       "homegoals    int64\n",
       "awaygoals    int64\n",
       "dtype: object"
      ]
     },
     "execution_count": 6,
     "metadata": {},
     "output_type": "execute_result"
    }
   ],
   "source": [
    "# check dtypes\n",
    "epl.dtypes"
   ]
  },
  {
   "cell_type": "markdown",
   "id": "ffba8212",
   "metadata": {},
   "source": [
    "### Transform the data"
   ]
  },
  {
   "cell_type": "code",
   "execution_count": 7,
   "id": "992351ad",
   "metadata": {},
   "outputs": [],
   "source": [
    "# get goal difference\n",
    "epl[\"goaldiff\"] = epl[\"homegoals\"] - epl[\"awaygoals\"]"
   ]
  },
  {
   "cell_type": "code",
   "execution_count": 8,
   "id": "1628ac29",
   "metadata": {},
   "outputs": [],
   "source": [
    "# identify if home win or not\n",
    "epl[\"homewin\"] = epl[\"goaldiff\"].apply(is_home_win)"
   ]
  },
  {
   "cell_type": "markdown",
   "id": "4c727d4f-26af-4511-8df2-685e484385f6",
   "metadata": {},
   "source": [
    "### Analyse the data"
   ]
  },
  {
   "cell_type": "markdown",
   "id": "9a08e061-b30a-41bb-80aa-4b8f89e4beeb",
   "metadata": {},
   "source": [
    "#### Declare parameters"
   ]
  },
  {
   "cell_type": "code",
   "execution_count": 9,
   "id": "4264b10b-9e34-4c4c-9075-a841bebd2b71",
   "metadata": {},
   "outputs": [],
   "source": [
    "# get number of home wins per sample\n",
    "w17: int = epl.query('season == 1718')[\"homewin\"].sum()\n",
    "w18: int = epl.query('season == 1819')[\"homewin\"].sum()\n",
    "w20: int = epl.query('season == 2021')[\"homewin\"].sum()\n",
    "w1718: int = epl.query('season == 1718 | season == 1819')[\"homewin\"].sum()"
   ]
  },
  {
   "cell_type": "code",
   "execution_count": 10,
   "id": "59b49899-3c80-4cf7-a703-137924e8695c",
   "metadata": {},
   "outputs": [],
   "source": [
    "# get number of games per season\n",
    "n: int = int(epl.index.size/3)  # number of games per sample"
   ]
  },
  {
   "cell_type": "code",
   "execution_count": 11,
   "id": "e5fa731a-3b1c-4f30-9755-b4d421fd8ffd",
   "metadata": {},
   "outputs": [],
   "source": [
    "# hypothesised proportion\n",
    "p0: float = 1/3"
   ]
  },
  {
   "cell_type": "markdown",
   "id": "320d69d4-1d64-41f2-80e1-0b820ddfb0b5",
   "metadata": {},
   "source": [
    "#### Claim #1: Is there a home advantage?"
   ]
  },
  {
   "cell_type": "code",
   "execution_count": 12,
   "id": "4a52afc9-4f90-48dc-bd6e-706a099b1af8",
   "metadata": {},
   "outputs": [
    {
     "data": {
      "text/plain": [
       "(173, Proportion(p_hat=0.455263, zconfint_prop=(0.405193, 0.505334)))"
      ]
     },
     "execution_count": 12,
     "metadata": {},
     "output_type": "execute_result"
    }
   ],
   "source": [
    "# describe 17/18 season\n",
    "w17, describe.Proportion(w17/n, sm.proportion_confint(w17, n))"
   ]
  },
  {
   "cell_type": "code",
   "execution_count": 13,
   "id": "2809c83a",
   "metadata": {},
   "outputs": [
    {
     "data": {
      "text/plain": [
       "ResultSummary(zstat=5.042060, pval=0.000000)"
      ]
     },
     "execution_count": 13,
     "metadata": {},
     "output_type": "execute_result"
    }
   ],
   "source": [
    "# test 17/18 season\n",
    "zstat, pval = sm.proportions_ztest(\n",
    "                w17, n, alternative=\"larger\", value=p0, prop_var=p0)\n",
    "summarise.PropTest(zstat, pval)"
   ]
  },
  {
   "cell_type": "code",
   "execution_count": 14,
   "id": "04cfacd4-7a82-452b-a09c-5c9e514abefb",
   "metadata": {},
   "outputs": [
    {
     "data": {
      "text/plain": [
       "(181, Proportion(p_hat=0.476316, zconfint_prop=(0.426100, 0.526531)))"
      ]
     },
     "execution_count": 14,
     "metadata": {},
     "output_type": "execute_result"
    }
   ],
   "source": [
    "# describe 18/19 season\n",
    "w18, describe.Proportion(w18/n, sm.proportion_confint(w18, n))"
   ]
  },
  {
   "cell_type": "code",
   "execution_count": 15,
   "id": "b62bae98-b5e5-42eb-9801-557eac4c9cad",
   "metadata": {},
   "outputs": [
    {
     "data": {
      "text/plain": [
       "ResultSummary(zstat=5.912631, pval=0.000000)"
      ]
     },
     "execution_count": 15,
     "metadata": {},
     "output_type": "execute_result"
    }
   ],
   "source": [
    "# test 18/19 season\n",
    "zstat, pval = sm.proportions_ztest(\n",
    "                w18, n, alternative=\"larger\", value=p0, prop_var=p0)\n",
    "summarise.PropTest(zstat, pval)"
   ]
  },
  {
   "cell_type": "code",
   "execution_count": 16,
   "id": "809bec9e-fe16-442f-9b02-1487ae4b8fb1",
   "metadata": {},
   "outputs": [
    {
     "data": {
      "text/plain": [
       "(144, Proportion(p_hat=0.378947, zconfint_prop=(0.330171, 0.427724)))"
      ]
     },
     "execution_count": 16,
     "metadata": {},
     "output_type": "execute_result"
    }
   ],
   "source": [
    "# describe 20/21 season\n",
    "w20, describe.Proportion(w20/n, sm.proportion_confint(w20, n))"
   ]
  },
  {
   "cell_type": "code",
   "execution_count": 17,
   "id": "d14de526-72c3-4f29-9cd5-1fa415ca93f9",
   "metadata": {},
   "outputs": [
    {
     "data": {
      "text/plain": [
       "ResultSummary(zstat=1.886238, pval=0.029631)"
      ]
     },
     "execution_count": 17,
     "metadata": {},
     "output_type": "execute_result"
    }
   ],
   "source": [
    "# test 20/21 season\n",
    "zstat, pval = sm.proportions_ztest(\n",
    "                w20, n, alternative=\"larger\", value=p0, prop_var=p0)\n",
    "summarise.PropTest(zstat, pval)"
   ]
  },
  {
   "cell_type": "markdown",
   "id": "7ff8b5e0-f4d5-4c63-a967-0dd0000a3a8f",
   "metadata": {},
   "source": [
    "#### Claim: Is the home advantage tthe same for pre and post-COVID?"
   ]
  },
  {
   "cell_type": "code",
   "execution_count": 18,
   "id": "74e72892-f83c-4837-8e42-ed136802a5c6",
   "metadata": {},
   "outputs": [
    {
     "data": {
      "text/plain": [
       "(354, Proportion(p_hat=0.465789, zconfint_prop=(0.430325, 0.501254)))"
      ]
     },
     "execution_count": 18,
     "metadata": {},
     "output_type": "execute_result"
    }
   ],
   "source": [
    "# describe 17/18 and 18/19 seasons combined\n",
    "w1718, describe.Proportion(w1718/(2*n), sm.proportion_confint(w1718, 2*n))"
   ]
  },
  {
   "cell_type": "code",
   "execution_count": 19,
   "id": "dc10bb5c-2848-40bd-b033-62d686224a50",
   "metadata": {},
   "outputs": [
    {
     "data": {
      "text/plain": [
       "ResultSummary(zstat=2.810184, pval=0.004951)"
      ]
     },
     "execution_count": 19,
     "metadata": {},
     "output_type": "execute_result"
    }
   ],
   "source": [
    "# test 17/18, 18/19 = 20/21\n",
    "zstat, pval = sm.test_proportions_2indep(w1718, 2*n, w20, n)\n",
    "summarise.PropTest(zstat, pval)"
   ]
  }
 ],
 "metadata": {
  "jupytext": {
   "formats": "py_notebooks///ipynb,py_scripts///py:percent"
  },
  "kernelspec": {
   "display_name": "Python 3.8",
   "language": "python",
   "name": "python3"
  },
  "language_info": {
   "codemirror_mode": {
    "name": "ipython",
    "version": 3
   },
   "file_extension": ".py",
   "mimetype": "text/x-python",
   "name": "python",
   "nbconvert_exporter": "python",
   "pygments_lexer": "ipython3",
   "version": "3.8.10"
  }
 },
 "nbformat": 4,
 "nbformat_minor": 5
}
