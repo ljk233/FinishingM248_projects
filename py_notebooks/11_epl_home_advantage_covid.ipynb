{
 "cells": [
  {
   "cell_type": "markdown",
   "id": "a47cd3b1",
   "metadata": {},
   "source": [
    "# Analysing the home advantage in the English Premier Leage\n",
    "\n",
    "## Notes\n",
    "\n",
    "### Question of interest\n",
    "\n",
    "The coronavirus panademic meant that all game in the English Premier\n",
    "League we played in front of empty stadiums.\n",
    "It is claimed that this resulted in a diminishing of the home team\n",
    "advantage.\n",
    "In the second analysis, we test if the proportion of home team wins\n",
    "in the 17/18 and 18/19 seasons (*pre-COVID*) was equal to that of the\n",
    "20/21 season (*post-COVID*).\n",
    "\n",
    "### Data\n",
    "\n",
    "- Data comprised of the full results for the 18/18, 18/19, and 20/21\n",
    "  seasons\n",
    "- Data fields\n",
    "  - **game_id** `int` : game number, unique per season\n",
    "  - **season** `int` : the season of the game, one of\n",
    "    [1718, 1819, 2021]\n",
    "  - **homegoals** `int` : number of goals scored by the home team\n",
    "  - **awaygoals** `int` : number of goals scored by the away team\n",
    "\n",
    "### Method\n",
    "\n",
    "- Data comprised on 1140 game results\n",
    "- Identified the result of the game, home win or not\n",
    "  - Calculated the goal difference (homegoals - awaygoals)\n",
    "  - If goal difference > 0, then home win, else not home win\n",
    "- Each sample modelled by a normal approximation to the binomial\n",
    "  - Justified by the sample sizes (size == 380)\n",
    "- Calcuated the proportion  won by the home team, and 95%\n",
    "  **z**-interval for the proportion for the combined 17/18\n",
    "  and 18/19 seasons (*pre-COVID*) and the 20/21 season (*post-COVID*)\n",
    "- Tested the hypothesis that the proportion of games won by the\n",
    "  home team *pre-COVID* was equal to that *post-COVID*"
   ]
  },
  {
   "cell_type": "markdown",
   "id": "91191176-333a-435f-9e3c-948cdc118575",
   "metadata": {},
   "source": [
    "## Full results"
   ]
  },
  {
   "cell_type": "markdown",
   "id": "58162e12-4873-43f4-b866-2f0d1436379e",
   "metadata": {},
   "source": [
    "### Setup the notebook"
   ]
  },
  {
   "cell_type": "code",
   "execution_count": 1,
   "id": "48ef25bf",
   "metadata": {},
   "outputs": [],
   "source": [
    "# import packages and modules\n",
    "import statsmodels.stats.proportion as sm\n",
    "import pandas as pd\n",
    "import sys"
   ]
  },
  {
   "cell_type": "code",
   "execution_count": 2,
   "id": "86506fe9",
   "metadata": {},
   "outputs": [],
   "source": [
    "# import custom modules not in root\n",
    "sys.path[0] = \"..\\\\\"  # update path\n",
    "from src import load, describe, summarise  # noqa: E402"
   ]
  },
  {
   "cell_type": "code",
   "execution_count": 3,
   "id": "71647e03",
   "metadata": {},
   "outputs": [],
   "source": [
    "# declare functions\n",
    "def is_home_win(x: int) -> int:\n",
    "    if x > 0:\n",
    "        return 1\n",
    "    else:\n",
    "        return 0"
   ]
  },
  {
   "cell_type": "markdown",
   "id": "379ec784",
   "metadata": {},
   "source": [
    "### Import the data"
   ]
  },
  {
   "cell_type": "code",
   "execution_count": 4,
   "id": "cc67ee33",
   "metadata": {},
   "outputs": [],
   "source": [
    "# get data\n",
    "epl: pd.DataFrame = load.Data.get(\"epl_results\")"
   ]
  },
  {
   "cell_type": "code",
   "execution_count": 5,
   "id": "0361a7ff",
   "metadata": {},
   "outputs": [
    {
     "data": {
      "text/html": [
       "<div>\n",
       "<style scoped>\n",
       "    .dataframe tbody tr th:only-of-type {\n",
       "        vertical-align: middle;\n",
       "    }\n",
       "\n",
       "    .dataframe tbody tr th {\n",
       "        vertical-align: top;\n",
       "    }\n",
       "\n",
       "    .dataframe thead th {\n",
       "        text-align: right;\n",
       "    }\n",
       "</style>\n",
       "<table border=\"1\" class=\"dataframe\">\n",
       "  <thead>\n",
       "    <tr style=\"text-align: right;\">\n",
       "      <th></th>\n",
       "      <th>game_id</th>\n",
       "      <th>season</th>\n",
       "      <th>homegoals</th>\n",
       "      <th>awaygoals</th>\n",
       "    </tr>\n",
       "  </thead>\n",
       "  <tbody>\n",
       "    <tr>\n",
       "      <th>0</th>\n",
       "      <td>1</td>\n",
       "      <td>1718</td>\n",
       "      <td>4</td>\n",
       "      <td>3</td>\n",
       "    </tr>\n",
       "    <tr>\n",
       "      <th>1</th>\n",
       "      <td>2</td>\n",
       "      <td>1718</td>\n",
       "      <td>0</td>\n",
       "      <td>2</td>\n",
       "    </tr>\n",
       "    <tr>\n",
       "      <th>2</th>\n",
       "      <td>3</td>\n",
       "      <td>1718</td>\n",
       "      <td>2</td>\n",
       "      <td>3</td>\n",
       "    </tr>\n",
       "    <tr>\n",
       "      <th>3</th>\n",
       "      <td>4</td>\n",
       "      <td>1718</td>\n",
       "      <td>0</td>\n",
       "      <td>3</td>\n",
       "    </tr>\n",
       "    <tr>\n",
       "      <th>4</th>\n",
       "      <td>5</td>\n",
       "      <td>1718</td>\n",
       "      <td>1</td>\n",
       "      <td>0</td>\n",
       "    </tr>\n",
       "  </tbody>\n",
       "</table>\n",
       "</div>"
      ],
      "text/plain": [
       "   game_id  season  homegoals  awaygoals\n",
       "0        1    1718          4          3\n",
       "1        2    1718          0          2\n",
       "2        3    1718          2          3\n",
       "3        4    1718          0          3\n",
       "4        5    1718          1          0"
      ]
     },
     "execution_count": 5,
     "metadata": {},
     "output_type": "execute_result"
    }
   ],
   "source": [
    "# preview data\n",
    "epl.head()"
   ]
  },
  {
   "cell_type": "code",
   "execution_count": 6,
   "id": "1a231e7a",
   "metadata": {},
   "outputs": [
    {
     "data": {
      "text/plain": [
       "game_id      int64\n",
       "season       int64\n",
       "homegoals    int64\n",
       "awaygoals    int64\n",
       "dtype: object"
      ]
     },
     "execution_count": 6,
     "metadata": {},
     "output_type": "execute_result"
    }
   ],
   "source": [
    "# check dtypes\n",
    "epl.dtypes"
   ]
  },
  {
   "cell_type": "markdown",
   "id": "ffba8212",
   "metadata": {},
   "source": [
    "### Transform the data"
   ]
  },
  {
   "cell_type": "code",
   "execution_count": 7,
   "id": "992351ad",
   "metadata": {},
   "outputs": [],
   "source": [
    "# get goal difference\n",
    "epl[\"goaldiff\"] = epl[\"homegoals\"] - epl[\"awaygoals\"]"
   ]
  },
  {
   "cell_type": "code",
   "execution_count": 8,
   "id": "1628ac29",
   "metadata": {},
   "outputs": [],
   "source": [
    "# identify if home win or not\n",
    "epl[\"homewin\"] = epl[\"goaldiff\"].apply(is_home_win)"
   ]
  },
  {
   "cell_type": "markdown",
   "id": "4c727d4f-26af-4511-8df2-685e484385f6",
   "metadata": {},
   "source": [
    "### Analyse the data"
   ]
  },
  {
   "cell_type": "code",
   "execution_count": 9,
   "id": "b407c1cc",
   "metadata": {},
   "outputs": [],
   "source": [
    "# get number of games per season\n",
    "n: int = int(epl.index.size/3)"
   ]
  },
  {
   "cell_type": "code",
   "execution_count": 10,
   "id": "69c5c203",
   "metadata": {},
   "outputs": [],
   "source": [
    "# get number of home wins per sample\n",
    "w_pre: int = epl.query('season == 1718 | season == 1819')[\"homewin\"].sum()\n",
    "w_post: int = epl.query('season == 2021')[\"homewin\"].sum()"
   ]
  },
  {
   "cell_type": "code",
   "execution_count": 11,
   "id": "af18b3bf",
   "metadata": {},
   "outputs": [
    {
     "data": {
      "text/plain": [
       "Proportion(p_hat=0.465789, zconfint_prop=(0.430325, 0.501254))"
      ]
     },
     "execution_count": 11,
     "metadata": {},
     "output_type": "execute_result"
    }
   ],
   "source": [
    "describe.Proportion(w_pre/(2*n), sm.proportion_confint(w_pre, 2*n))"
   ]
  },
  {
   "cell_type": "code",
   "execution_count": 12,
   "id": "7c8a14d0",
   "metadata": {},
   "outputs": [
    {
     "data": {
      "text/plain": [
       "Proportion(p_hat=0.378947, zconfint_prop=(0.330171, 0.427724))"
      ]
     },
     "execution_count": 12,
     "metadata": {},
     "output_type": "execute_result"
    }
   ],
   "source": [
    "describe.Proportion(w_post/(n), sm.proportion_confint(w_post, n))"
   ]
  },
  {
   "cell_type": "code",
   "execution_count": 13,
   "id": "c7774ae4",
   "metadata": {},
   "outputs": [
    {
     "data": {
      "text/plain": [
       "ResultSummary(zstat=2.810184, pval=0.004951)"
      ]
     },
     "execution_count": 13,
     "metadata": {},
     "output_type": "execute_result"
    }
   ],
   "source": [
    "# get test results\n",
    "zstat, pval = sm.test_proportions_2indep(w_pre, 2*n, w_post, n)\n",
    "summarise.PropTest(zstat, pval)"
   ]
  }
 ],
 "metadata": {
  "jupytext": {
   "formats": "py_notebooks///ipynb,py_scripts///py:percent"
  },
  "kernelspec": {
   "display_name": "Python 3.8",
   "language": "python",
   "name": "python3"
  },
  "language_info": {
   "codemirror_mode": {
    "name": "ipython",
    "version": 3
   },
   "file_extension": ".py",
   "mimetype": "text/x-python",
   "name": "python",
   "nbconvert_exporter": "python",
   "pygments_lexer": "ipython3",
   "version": "3.8.10"
  }
 },
 "nbformat": 4,
 "nbformat_minor": 5
}
