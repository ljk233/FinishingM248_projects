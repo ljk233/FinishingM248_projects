{
 "cells": [
  {
   "cell_type": "markdown",
   "id": "a8c73aca-6021-4f4a-a430-253ebab6cb62",
   "metadata": {},
   "source": [
    "# Are the more firsts being awarded?\n",
    "\n",
    "## Notes\n",
    "\n",
    "### Question of interest\n",
    "\n",
    "Were there more firsts being awarded in 2018 compared to 2014?\n",
    "\n",
    "### Method\n",
    "\n",
    "- Data modelled using an approximated normal model\n",
    "  - Checked with a frequency histogram and normal probability plot\n",
    "- Calculated mean percentage of first class honours and 95%\n",
    "  **z**-interval calculated for both the 2014 and 2018 academic years\n",
    "- Performed a two sample, one-tailed **z**-test of the hypothesis of\n",
    "  equal means"
   ]
  },
  {
   "cell_type": "markdown",
   "id": "f78faf81-40fb-4168-98d2-82a8e764530f",
   "metadata": {},
   "source": [
    "## Results"
   ]
  },
  {
   "cell_type": "markdown",
   "id": "5ed6275c-2bfc-45da-9c24-7477ea6509b6",
   "metadata": {},
   "source": [
    "### Setup the notebook"
   ]
  },
  {
   "cell_type": "code",
   "execution_count": 1,
   "id": "da48d30e-5518-4537-9790-dc9bbf7790ab",
   "metadata": {},
   "outputs": [],
   "source": [
    "# import packages and modules\n",
    "from scipy import stats\n",
    "import pandas as pd\n",
    "import statsmodels.stats.weightstats as sm\n",
    "import seaborn as sns\n",
    "import matplotlib.pyplot as plt\n",
    "import sys"
   ]
  },
  {
   "cell_type": "code",
   "execution_count": 2,
   "id": "29fa8639",
   "metadata": {},
   "outputs": [],
   "source": [
    "# set seaborn theme\n",
    "sns.set_theme()"
   ]
  },
  {
   "cell_type": "code",
   "execution_count": 3,
   "id": "54a04799",
   "metadata": {},
   "outputs": [],
   "source": [
    "# import custom modules not in root\n",
    "sys.path[0] = \"..\\\\\"  # update path\n",
    "from src import load, describe, summarise  # noqa: E402"
   ]
  },
  {
   "cell_type": "markdown",
   "id": "5faf60e5-564b-4cf4-ac61-13cd67466a6d",
   "metadata": {},
   "source": [
    "### Import the data"
   ]
  },
  {
   "cell_type": "code",
   "execution_count": 4,
   "id": "787c3653-8b87-4405-a67e-8ce1297bd0c2",
   "metadata": {},
   "outputs": [],
   "source": [
    "# get data\n",
    "data: pd.DataFrame = load.Data.get(\"hesa_grade_inflation\")"
   ]
  },
  {
   "cell_type": "code",
   "execution_count": 5,
   "id": "33d358be",
   "metadata": {},
   "outputs": [
    {
     "data": {
      "text/html": [
       "<div>\n",
       "<style scoped>\n",
       "    .dataframe tbody tr th:only-of-type {\n",
       "        vertical-align: middle;\n",
       "    }\n",
       "\n",
       "    .dataframe tbody tr th {\n",
       "        vertical-align: top;\n",
       "    }\n",
       "\n",
       "    .dataframe thead th {\n",
       "        text-align: right;\n",
       "    }\n",
       "</style>\n",
       "<table border=\"1\" class=\"dataframe\">\n",
       "  <thead>\n",
       "    <tr style=\"text-align: right;\">\n",
       "      <th></th>\n",
       "      <th>HE provider</th>\n",
       "      <th>f_2014</th>\n",
       "      <th>n_2014</th>\n",
       "      <th>f_2018</th>\n",
       "      <th>n_2018</th>\n",
       "    </tr>\n",
       "  </thead>\n",
       "  <tbody>\n",
       "    <tr>\n",
       "      <th>0</th>\n",
       "      <td>The University of Stirling</td>\n",
       "      <td>265</td>\n",
       "      <td>1230</td>\n",
       "      <td>305</td>\n",
       "      <td>1790</td>\n",
       "    </tr>\n",
       "    <tr>\n",
       "      <th>1</th>\n",
       "      <td>University of Hertfordshire</td>\n",
       "      <td>875</td>\n",
       "      <td>4470</td>\n",
       "      <td>1150</td>\n",
       "      <td>4755</td>\n",
       "    </tr>\n",
       "    <tr>\n",
       "      <th>2</th>\n",
       "      <td>The University of York</td>\n",
       "      <td>800</td>\n",
       "      <td>3235</td>\n",
       "      <td>1015</td>\n",
       "      <td>3735</td>\n",
       "    </tr>\n",
       "    <tr>\n",
       "      <th>3</th>\n",
       "      <td>The University of Liverpool</td>\n",
       "      <td>1085</td>\n",
       "      <td>4805</td>\n",
       "      <td>1765</td>\n",
       "      <td>6635</td>\n",
       "    </tr>\n",
       "    <tr>\n",
       "      <th>4</th>\n",
       "      <td>The University of St Andrews</td>\n",
       "      <td>415</td>\n",
       "      <td>1565</td>\n",
       "      <td>515</td>\n",
       "      <td>1765</td>\n",
       "    </tr>\n",
       "  </tbody>\n",
       "</table>\n",
       "</div>"
      ],
      "text/plain": [
       "                    HE provider f_2014 n_2014 f_2018 n_2018\n",
       "0    The University of Stirling    265   1230    305   1790\n",
       "1   University of Hertfordshire    875   4470   1150   4755\n",
       "2        The University of York    800   3235   1015   3735\n",
       "3   The University of Liverpool   1085   4805   1765   6635\n",
       "4  The University of St Andrews    415   1565    515   1765"
      ]
     },
     "execution_count": 5,
     "metadata": {},
     "output_type": "execute_result"
    }
   ],
   "source": [
    "# preview data\n",
    "data.head()"
   ]
  },
  {
   "cell_type": "code",
   "execution_count": 6,
   "id": "21c3c26c",
   "metadata": {},
   "outputs": [
    {
     "data": {
      "text/plain": [
       "HE provider    object\n",
       "f_2014         object\n",
       "n_2014         object\n",
       "f_2018         object\n",
       "n_2018         object\n",
       "dtype: object"
      ]
     },
     "execution_count": 6,
     "metadata": {},
     "output_type": "execute_result"
    }
   ],
   "source": [
    "# check dtypes\n",
    "data.dtypes"
   ]
  },
  {
   "cell_type": "code",
   "execution_count": 7,
   "id": "af3d5452",
   "metadata": {},
   "outputs": [
    {
     "data": {
      "text/plain": [
       "HE provider    object\n",
       "f_2014          int64\n",
       "n_2014          int64\n",
       "f_2018          int64\n",
       "n_2018          int64\n",
       "dtype: object"
      ]
     },
     "execution_count": 7,
     "metadata": {},
     "output_type": "execute_result"
    }
   ],
   "source": [
    "# recast columns to int\n",
    "data[[\"f_2014\", \"n_2014\", \"f_2018\", \"n_2018\"]] = (\n",
    "    data[[\"f_2014\", \"n_2014\", \"f_2018\", \"n_2018\"]].apply(pd.to_numeric))\n",
    "data.dtypes"
   ]
  },
  {
   "cell_type": "code",
   "execution_count": 8,
   "id": "1a8e6e38",
   "metadata": {},
   "outputs": [],
   "source": [
    "# get both sample percentages\n",
    "s1 = ((data[\"f_2014\"] / data[\"n_2014\"]) * 100).to_numpy()  # sample 1: AY2014\n",
    "s2 = ((data[\"f_2018\"] / data[\"n_2018\"]) * 100).to_numpy()  # sample 1: AY2018"
   ]
  },
  {
   "cell_type": "markdown",
   "id": "b550efd9-edef-46b8-826d-5745648af2d1",
   "metadata": {},
   "source": [
    "### Visualise the data"
   ]
  },
  {
   "cell_type": "code",
   "execution_count": 24,
   "id": "5b639f0a-5dfc-4452-a7b6-00f1474a4fd7",
   "metadata": {},
   "outputs": [
    {
     "data": {
      "image/png": "[encoded data removed]",
      "text/plain": [
       "<Figure size 792x288 with 2 Axes>"
      ]
     },
     "metadata": {},
     "output_type": "display_data"
    }
   ],
   "source": [
    "# frequency histograms\n",
    "f, axs = plt.subplots(ncols=2, sharey=True, figsize=(11, 4))\n",
    "sns.histplot(x=s1, bins=10, ax=axs[0])\n",
    "sns.histplot(x=s2, bins=10, ax=axs[1])\n",
    "axs[0].set(title=\"Academic year = 2014\")\n",
    "axs[1].set(title=\"Academic year = 2018\")\n",
    "plt.show()"
   ]
  },
  {
   "cell_type": "code",
   "execution_count": 10,
   "id": "0fa69f64",
   "metadata": {},
   "outputs": [
    {
     "data": {
      "image/png": "[encoded data removed]",
      "text/plain": [
       "<Figure size 792x288 with 2 Axes>"
      ]
     },
     "metadata": {},
     "output_type": "display_data"
    }
   ],
   "source": [
    "# probability plots\n",
    "f, axs = plt.subplots(ncols=2, sharey=True, figsize=(11, 4))\n",
    "stats.probplot(x=s1, plot=axs[0])\n",
    "stats.probplot(x=s2, plot=axs[1])\n",
    "axs[0].set(title=\"Probability plot = Etruscans\")\n",
    "axs[1].set(title=\"Probability plot = Italians\")\n",
    "plt.show()"
   ]
  },
  {
   "cell_type": "markdown",
   "id": "d5161ef6-657e-4d49-b6d7-69e540160297",
   "metadata": {},
   "source": [
    "### Analyse the data"
   ]
  },
  {
   "cell_type": "code",
   "execution_count": 11,
   "id": "a3c85be1-676a-4a64-b927-fe5f5a25dcda",
   "metadata": {},
   "outputs": [],
   "source": [
    "cm = sm.CompareMeans.from_data(data1=s1, data2=s2)"
   ]
  },
  {
   "cell_type": "code",
   "execution_count": 12,
   "id": "afc77373",
   "metadata": {},
   "outputs": [
    {
     "data": {
      "text/plain": [
       "AY2014(size=156, mean=20.288866, zconfint_mean=(19.158782, 21.418950))"
      ]
     },
     "execution_count": 12,
     "metadata": {},
     "output_type": "execute_result"
    }
   ],
   "source": [
    "describe.ZSample(\n",
    "    \"AY2014\", cm.d1.nobs, cm.d1.mean, cm.d1.zconfint_mean())"
   ]
  },
  {
   "cell_type": "code",
   "execution_count": 13,
   "id": "b88a1b1a",
   "metadata": {},
   "outputs": [
    {
     "data": {
      "text/plain": [
       "AY2018(size=156, mean=26.016118, zconfint_mean=(24.905557, 27.126679))"
      ]
     },
     "execution_count": 13,
     "metadata": {},
     "output_type": "execute_result"
    }
   ],
   "source": [
    "describe.ZSample(\n",
    "    \"AY2018\", cm.d2.nobs, cm.d2.mean, cm.d2.zconfint_mean())"
   ]
  },
  {
   "cell_type": "code",
   "execution_count": 14,
   "id": "8c0d605b",
   "metadata": {},
   "outputs": [
    {
     "data": {
      "text/plain": [
       "Difference(mean_diff=-5.727252, zconfint_diff=(-7.311687, -4.142816))"
      ]
     },
     "execution_count": 14,
     "metadata": {},
     "output_type": "execute_result"
    }
   ],
   "source": [
    "describe.ZDiff(\n",
    "    cm.d1.mean - cm.d2.mean, cm.zconfint_diff())"
   ]
  },
  {
   "cell_type": "code",
   "execution_count": 15,
   "id": "c6a27df2",
   "metadata": {},
   "outputs": [
    {
     "data": {
      "text/plain": [
       "ResultSummary(zstat=-7.084673, pval=0.000000)"
      ]
     },
     "execution_count": 15,
     "metadata": {},
     "output_type": "execute_result"
    }
   ],
   "source": [
    "# run the test\n",
    "zstat, pval = cm.ztest_ind(alternative=\"smaller\")\n",
    "summarise.ZTest(zstat, pval)"
   ]
  }
 ],
 "metadata": {
  "jupytext": {
   "formats": "py_notebooks///ipynb,py_scripts///py:percent"
  },
  "kernelspec": {
   "display_name": "Python 3.8",
   "language": "python",
   "name": "python3"
  },
  "language_info": {
   "codemirror_mode": {
    "name": "ipython",
    "version": 3
   },
   "file_extension": ".py",
   "mimetype": "text/x-python",
   "name": "python",
   "nbconvert_exporter": "python",
   "pygments_lexer": "ipython3",
   "version": "3.8.10"
  }
 },
 "nbformat": 4,
 "nbformat_minor": 5
}
