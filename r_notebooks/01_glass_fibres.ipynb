{
 "cells": [
  {
   "cell_type": "markdown",
   "id": "e1f95565",
   "metadata": {},
   "source": [
    "# Bluebetters and systolic blood pressure\n",
    "\n",
    "## Notes\n",
    "\n",
    "### Question of interest\n",
    "\n",
    "### Data\n",
    "\n",
    "### Results\n",
    "\n",
    "### Discussion\n",
    "\n",
    "## Full Results\n",
    "\n",
    "### Setup the notebook"
   ]
  },
  {
   "cell_type": "code",
   "execution_count": null,
   "id": "c8794a30-e319-4ec4-ac84-efa0f55c6f4d",
   "metadata": {},
   "outputs": [],
   "source": [
    "library(DBI)        # importing data\n",
    "library(tidyverse)  # for ggplt\n",
    "library(Rmisc)      # for CI\n",
    "library(BSDA)       # for z-test"
   ]
  },
  {
   "cell_type": "markdown",
   "id": "2f1bd5ee",
   "metadata": {},
   "source": [
    "### Import the data"
   ]
  },
  {
   "cell_type": "code",
   "execution_count": 2,
   "id": "2359dbfc",
   "metadata": {},
   "outputs": [],
   "source": [
    "# get data\n",
    "con <- dbConnect(RSQLite::SQLite(), \"..\\\\data\\\\source.db3\")\n",
    "fibres <- dbReadTable(con, \"glass_fibres\")\n",
    "dbDisconnect(con)"
   ]
  },
  {
   "cell_type": "code",
   "execution_count": 3,
   "id": "b520d5fa-bc6c-48f8-9f5a-f787f989b2ee",
   "metadata": {},
   "outputs": [
    {
     "data": {
      "text/html": [
       "<table class=\"dataframe\">\n",
       "<caption>A data.frame: 6 × 1</caption>\n",
       "<thead>\n",
       "\t<tr><th></th><th scope=col>Strength</th></tr>\n",
       "\t<tr><th></th><th scope=col>&lt;dbl&gt;</th></tr>\n",
       "</thead>\n",
       "<tbody>\n",
       "\t<tr><th scope=row>1</th><td>0.55</td></tr>\n",
       "\t<tr><th scope=row>2</th><td>0.74</td></tr>\n",
       "\t<tr><th scope=row>3</th><td>0.77</td></tr>\n",
       "\t<tr><th scope=row>4</th><td>0.81</td></tr>\n",
       "\t<tr><th scope=row>5</th><td>0.84</td></tr>\n",
       "\t<tr><th scope=row>6</th><td>0.93</td></tr>\n",
       "</tbody>\n",
       "</table>\n"
      ],
      "text/latex": [
       "A data.frame: 6 × 1\n",
       "\\begin{tabular}{r|l}\n",
       "  & Strength\\\\\n",
       "  & <dbl>\\\\\n",
       "\\hline\n",
       "\t1 & 0.55\\\\\n",
       "\t2 & 0.74\\\\\n",
       "\t3 & 0.77\\\\\n",
       "\t4 & 0.81\\\\\n",
       "\t5 & 0.84\\\\\n",
       "\t6 & 0.93\\\\\n",
       "\\end{tabular}\n"
      ],
      "text/markdown": [
       "\n",
       "A data.frame: 6 × 1\n",
       "\n",
       "| <!--/--> | Strength &lt;dbl&gt; |\n",
       "|---|---|\n",
       "| 1 | 0.55 |\n",
       "| 2 | 0.74 |\n",
       "| 3 | 0.77 |\n",
       "| 4 | 0.81 |\n",
       "| 5 | 0.84 |\n",
       "| 6 | 0.93 |\n",
       "\n"
      ],
      "text/plain": [
       "  Strength\n",
       "1 0.55    \n",
       "2 0.74    \n",
       "3 0.77    \n",
       "4 0.81    \n",
       "5 0.84    \n",
       "6 0.93    "
      ]
     },
     "metadata": {},
     "output_type": "display_data"
    }
   ],
   "source": [
    "head(fibres)"
   ]
  },
  {
   "cell_type": "markdown",
   "id": "3e9a5f15",
   "metadata": {},
   "source": [
    "### Visualise the data"
   ]
  },
  {
   "cell_type": "code",
   "execution_count": 4,
   "id": "2d29fd2d",
   "metadata": {},
   "outputs": [
    {
     "data": {
      "image/png": "[encoded data removed]",
      "text/plain": [
       "plot without title"
      ]
     },
     "metadata": {
      "image/png": {
       "height": 420,
       "width": 420
      }
     },
     "output_type": "display_data"
    }
   ],
   "source": [
    "# frequency histogram\n",
    "ggplot(fibres, aes(Strength)) +\n",
    "  geom_histogram(bins = 10)"
   ]
  },
  {
   "cell_type": "code",
   "execution_count": 5,
   "id": "a2675004",
   "metadata": {},
   "outputs": [
    {
     "data": {
      "image/png": "[encoded data removed]",
      "text/plain": [
       "Plot with title \"Normal Q-Q Plot\""
      ]
     },
     "metadata": {
      "image/png": {
       "height": 420,
       "width": 420
      }
     },
     "output_type": "display_data"
    }
   ],
   "source": [
    "# probability plot\n",
    "qqnorm(fibres$Strength); qqline(fibres$Strength)"
   ]
  },
  {
   "cell_type": "markdown",
   "id": "21963edc",
   "metadata": {},
   "source": [
    "### Analyse the data"
   ]
  },
  {
   "cell_type": "code",
   "execution_count": 6,
   "id": "859e8249-df88-4b8e-b60a-968622c497a1",
   "metadata": {
    "tags": [
     "parameters"
    ]
   },
   "outputs": [],
   "source": [
    "# declare parameters for z-test\n",
    "mu0 <- 1.5\n",
    "strength <- fibres$Strength\n",
    "sd <- sd(strength)"
   ]
  },
  {
   "cell_type": "code",
   "execution_count": 7,
   "id": "dab900a4",
   "metadata": {},
   "outputs": [
    {
     "data": {
      "text/html": [
       "<style>\n",
       ".dl-inline {width: auto; margin:0; padding: 0}\n",
       ".dl-inline>dt, .dl-inline>dd {float: none; width: auto; display: inline-block}\n",
       ".dl-inline>dt::after {content: \":\\0020\"; padding-right: .5ex}\n",
       ".dl-inline>dt:not(:first-of-type) {padding-left: .5ex}\n",
       "</style><dl class=dl-inline><dt>upper</dt><dd>1.58845540967329</dd><dt>mean</dt><dd>1.5068253968254</dd><dt>lower</dt><dd>1.42519538397751</dd></dl>\n"
      ],
      "text/latex": [
       "\\begin{description*}\n",
       "\\item[upper] 1.58845540967329\n",
       "\\item[mean] 1.5068253968254\n",
       "\\item[lower] 1.42519538397751\n",
       "\\end{description*}\n"
      ],
      "text/markdown": [
       "upper\n",
       ":   1.58845540967329mean\n",
       ":   1.5068253968254lower\n",
       ":   1.42519538397751\n",
       "\n"
      ],
      "text/plain": [
       "   upper     mean    lower \n",
       "1.588455 1.506825 1.425195 "
      ]
     },
     "metadata": {},
     "output_type": "display_data"
    }
   ],
   "source": [
    "# get mean, zconfint_mean\n",
    "CI(strength)"
   ]
  },
  {
   "cell_type": "code",
   "execution_count": 8,
   "id": "e959a9ec",
   "metadata": {
    "lines_to_next_cell": 0
   },
   "outputs": [
    {
     "data": {
      "text/plain": [
       "\n",
       "\tOne-sample z-Test\n",
       "\n",
       "data:  strength\n",
       "z = 0.16714, p-value = 0.4336\n",
       "alternative hypothesis: true mean is greater than 1.5\n",
       "95 percent confidence interval:\n",
       " 1.439656       NA\n",
       "sample estimates:\n",
       "mean of x \n",
       " 1.506825 \n"
      ]
     },
     "metadata": {},
     "output_type": "display_data"
    }
   ],
   "source": [
    "# run the z-test\n",
    "z.test(strength, alternative = \"greater\", mu = mu0, sigma.x = sd)"
   ]
  }
 ],
 "metadata": {
  "jupytext": {
   "formats": "r_notebooks///ipynb,r_markdown///Rmd"
  },
  "kernelspec": {
   "display_name": "R 4.1.0",
   "language": "R",
   "name": "ir41"
  },
  "language_info": {
   "codemirror_mode": "r",
   "file_extension": ".r",
   "mimetype": "text/x-r-source",
   "name": "R",
   "pygments_lexer": "r",
   "version": "4.1.0"
  }
 },
 "nbformat": 4,
 "nbformat_minor": 5
}
